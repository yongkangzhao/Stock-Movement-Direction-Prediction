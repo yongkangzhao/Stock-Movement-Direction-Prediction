{
 "cells": [
  {
   "cell_type": "code",
   "execution_count": 82,
   "metadata": {},
   "outputs": [],
   "source": [
    "#import libraries\n",
    "from marketstackAPI import Marketstack\n",
    "import pandas as pd\n",
    "import numpy as np\n",
    "import cufflinks as cf\n",
    "import ta\n",
    "import holidays\n",
    "import matplotlib as plt\n",
    "from datetime import datetime\n",
    "from datetime import timedelta\n",
    "from imblearn.over_sampling import SMOTE\n",
    "from IPython.core.display import display, HTML"
   ]
  },
  {
   "cell_type": "code",
   "execution_count": 33,
   "metadata": {},
   "outputs": [
    {
     "data": {
      "text/html": [
       "<style>.container { width:100% !important; }</style>"
      ],
      "text/plain": [
       "<IPython.core.display.HTML object>"
      ]
     },
     "metadata": {},
     "output_type": "display_data"
    }
   ],
   "source": [
    "plt.rcParams['figure.figsize'] = [12, 5]\n",
    "plt.rcParams['figure.dpi'] = 200\n",
    "display(HTML(\"<style>.container { width:100% !important; }</style>\"))\n",
    "pd.options.plotting.backend = \"plotly\""
   ]
  },
  {
   "cell_type": "code",
   "execution_count": 2,
   "metadata": {},
   "outputs": [
    {
     "data": {
      "text/html": [
       "        <script type=\"text/javascript\">\n",
       "        window.PlotlyConfig = {MathJaxConfig: 'local'};\n",
       "        if (window.MathJax) {MathJax.Hub.Config({SVG: {font: \"STIX-Web\"}});}\n",
       "        if (typeof require !== 'undefined') {\n",
       "        require.undef(\"plotly\");\n",
       "        requirejs.config({\n",
       "            paths: {\n",
       "                'plotly': ['https://cdn.plot.ly/plotly-latest.min']\n",
       "            }\n",
       "        });\n",
       "        require(['plotly'], function(Plotly) {\n",
       "            window._Plotly = Plotly;\n",
       "        });\n",
       "        }\n",
       "        </script>\n",
       "        "
      ]
     },
     "metadata": {},
     "output_type": "display_data"
    }
   ],
   "source": [
    "#initialize and set parameters\n",
    "MS = Marketstack()\n",
    "cf.set_config_file(theme='henanigans',sharing='public',offline=True)"
   ]
  },
  {
   "cell_type": "code",
   "execution_count": 134,
   "metadata": {},
   "outputs": [],
   "source": [
    "#function for data prepration\n",
    "def raw_data_preprocessing(data):\n",
    "    #drop extra columns from data source\n",
    "    data = data[['date','adj_high','adj_low','adj_close','adj_open','adj_volume']]\n",
    "    data.columns = ['date','high','low','close','open','volume']\n",
    "    \n",
    "    #add common technical indicators into dataframe also reverse the data into descending order.\n",
    "    data = ta.add_all_ta_features(data[::-1], open=\"open\", high=\"high\", low=\"low\", close=\"close\", volume=\"volume\",)\n",
    "    \n",
    "    #add volume % change from yesterday to today\n",
    "    data.insert(1,'volume_change',data.volume/data.volume.shift(1)-1)\n",
    "\n",
    "    #add price % change from yesterday to today\n",
    "    data.insert(1,'price_change',data.close/data.close.shift(1)-1)\n",
    "\n",
    "    \n",
    "    #creating Y\n",
    "    #calculate daily % change using daily close using the NEXT day close / today close\n",
    "    data.insert(1,'next_close_change',data.close.shift(-1)/data.close-1)\n",
    "    \n",
    "    #reset index\n",
    "    data.reset_index(inplace=True, drop=True)\n",
    "    return data"
   ]
  },
  {
   "cell_type": "code",
   "execution_count": 135,
   "metadata": {},
   "outputs": [],
   "source": [
    "def plot(df):\n",
    "    qf = cf.QuantFig(data,legend='bottom')\n",
    "    qf.add_volume()\n",
    "#     qf.add_rsi()\n",
    "#     qf.add_adx()\n",
    "    qf.iplot()"
   ]
  },
  {
   "cell_type": "code",
   "execution_count": 136,
   "metadata": {},
   "outputs": [],
   "source": [
    "def summary(indicator):\n",
    "#     print('min:', min(indicator))\n",
    "#     print('max:', max(indicator))\n",
    "    fig = indicator.hist()\n",
    "    fig.update_traces(xbins=dict( # bins used for histogram\n",
    "        start=min(indicator),\n",
    "        end=max(indicator),\n",
    "        size=(max(indicator)-min(indicator))/100\n",
    "    ))\n",
    "    fig.show()"
   ]
  },
  {
   "cell_type": "code",
   "execution_count": 137,
   "metadata": {},
   "outputs": [
    {
     "name": "stdout",
     "output_type": "stream",
     "text": [
      "70273756d5520f9fe1c43de060cf78ba\n"
     ]
    },
    {
     "name": "stderr",
     "output_type": "stream",
     "text": [
      "/Users/yongkangzhao/miniconda3/lib/python3.8/site-packages/ta/trend.py:768: RuntimeWarning:\n",
      "\n",
      "invalid value encountered in double_scalars\n",
      "\n",
      "/Users/yongkangzhao/miniconda3/lib/python3.8/site-packages/ta/trend.py:772: RuntimeWarning:\n",
      "\n",
      "invalid value encountered in double_scalars\n",
      "\n"
     ]
    }
   ],
   "source": [
    "# get data\n",
    "data = MS.get('SPY')\n",
    "data = raw_data_preprocessing(data)"
   ]
  },
  {
   "cell_type": "code",
   "execution_count": 103,
   "metadata": {},
   "outputs": [],
   "source": []
  },
  {
   "cell_type": "code",
   "execution_count": 138,
   "metadata": {},
   "outputs": [
    {
     "data": {
      "text/plain": [
       "Index(['date', 'next_close_change', 'price_change', 'volume_change', 'high',\n",
       "       'low', 'close', 'open', 'volume', 'volume_adi', 'volume_obv',\n",
       "       'volume_cmf', 'volume_fi', 'volume_mfi', 'volume_em', 'volume_sma_em',\n",
       "       'volume_vpt', 'volume_nvi', 'volume_vwap', 'volatility_atr',\n",
       "       'volatility_bbm', 'volatility_bbh', 'volatility_bbl', 'volatility_bbw',\n",
       "       'volatility_bbp', 'volatility_bbhi', 'volatility_bbli',\n",
       "       'volatility_kcc', 'volatility_kch', 'volatility_kcl', 'volatility_kcw',\n",
       "       'volatility_kcp', 'volatility_kchi', 'volatility_kcli',\n",
       "       'volatility_dcl', 'volatility_dch', 'volatility_dcm', 'volatility_dcw',\n",
       "       'volatility_dcp', 'volatility_ui', 'trend_macd', 'trend_macd_signal',\n",
       "       'trend_macd_diff', 'trend_sma_fast', 'trend_sma_slow', 'trend_ema_fast',\n",
       "       'trend_ema_slow', 'trend_adx', 'trend_adx_pos', 'trend_adx_neg',\n",
       "       'trend_vortex_ind_pos', 'trend_vortex_ind_neg', 'trend_vortex_ind_diff',\n",
       "       'trend_trix', 'trend_mass_index', 'trend_cci', 'trend_dpo', 'trend_kst',\n",
       "       'trend_kst_sig', 'trend_kst_diff', 'trend_ichimoku_conv',\n",
       "       'trend_ichimoku_base', 'trend_ichimoku_a', 'trend_ichimoku_b',\n",
       "       'trend_visual_ichimoku_a', 'trend_visual_ichimoku_b', 'trend_aroon_up',\n",
       "       'trend_aroon_down', 'trend_aroon_ind', 'trend_psar_up',\n",
       "       'trend_psar_down', 'trend_psar_up_indicator',\n",
       "       'trend_psar_down_indicator', 'trend_stc', 'momentum_rsi',\n",
       "       'momentum_stoch_rsi', 'momentum_stoch_rsi_k', 'momentum_stoch_rsi_d',\n",
       "       'momentum_tsi', 'momentum_uo', 'momentum_stoch',\n",
       "       'momentum_stoch_signal', 'momentum_wr', 'momentum_ao', 'momentum_kama',\n",
       "       'momentum_roc', 'momentum_ppo', 'momentum_ppo_signal',\n",
       "       'momentum_ppo_hist', 'others_dr', 'others_dlr', 'others_cr'],\n",
       "      dtype='object')"
      ]
     },
     "execution_count": 138,
     "metadata": {},
     "output_type": "execute_result"
    }
   ],
   "source": [
    "data.columns"
   ]
  },
  {
   "cell_type": "code",
   "execution_count": null,
   "metadata": {},
   "outputs": [],
   "source": [
    "full_basic_data = data[['date']]"
   ]
  },
  {
   "cell_type": "code",
   "execution_count": 124,
   "metadata": {},
   "outputs": [
    {
     "data": {
      "application/vnd.plotly.v1+json": {
       "config": {
        "plotlyServerURL": "https://plot.ly"
       },
       "data": [
        {
         "alignmentgroup": "True",
         "bingroup": "x",
         "hovertemplate": "variable=volume_change<br>value=%{x}<br>count=%{y}<extra></extra>",
         "legendgroup": "volume_change",
         "marker": {
          "color": "#636efa"
         },
         "name": "volume_change",
         "offsetgroup": "volume_change",
         "orientation": "v",
         "showlegend": true,
         "type": "histogram",
         "x": [
          0.24601118247462694,
          -0.20097869770957277,
          0.05271322543413226,
          0.21729955654505662,
          1.217103692105236,
          -0.06642233180381185,
          -0.3058960299809511,
          0.015407642815454814,
          -0.39572717356452314,
          -0.029689791866631454,
          0.6826572688353569,
          -0.4526553078811545,
          -0.0802666637408257,
          0.9402586572915763,
          -0.3263584776475331,
          0.43663457394812233,
          -0.37868325794315694,
          0.42080355613640563,
          -0.36265632620681143,
          -0.037482451071175094,
          -0.11653103492964201,
          0.35052077456324104,
          -0.3436622856409399,
          0.5327511964370713,
          -0.3084373807612264,
          0.7848780946280878,
          -0.09514759271412421,
          -0.06326313316478394,
          -0.37376368332345855,
          0.18349763196860747,
          -0.12839753002865495,
          0.01950304718415974,
          0.005226629959140805,
          0.316163821042845,
          -0.026029104099925315,
          -0.34532739798204326,
          0.19054551832285327,
          -0.15724538311423686,
          0.2767059686249018,
          0.3774392833667686,
          -0.37709802007974225,
          -0.21025784568762906,
          0.02262663822344324,
          0.018968093250944618,
          0.3120191288136043,
          -0.2273001959403067,
          0.5289474938727483,
          -0.2188981523946485,
          -0.22891708972074465,
          0.1289200234006651,
          -0.2506647319846038,
          0.1071818119676593,
          0.7356785655805071,
          -0.39070876372870966,
          0.3271656838674357,
          -0.11117799721743515,
          -0.21017460641980057,
          0.32401165243329255,
          0.14813491137228896,
          -0.18432965410015112,
          0.3455914759836738,
          -0.14029840186895237,
          0.2558659781115382,
          1.1257302943068814,
          -0.0676771459206843,
          -0.1752243828014527,
          -0.17457972440605563,
          -0.009760765885044043,
          -0.09203796622679405,
          -0.21154280633157851,
          -0.20062131695139818,
          0.5446383251497726,
          0.12464022708797873,
          0.12145717435371983,
          -0.04114340525176352,
          -0.3560932648707771,
          0.49357302644094814,
          -0.17646345958383125,
          -0.07318477462024264,
          -0.09124615696206695,
          -0.20210726969739268,
          1.0197538620676085,
          -0.14779230503402652,
          0.00825679100645682,
          -0.4888455820609723,
          0.9716201094880708,
          -0.3675767955539846,
          -0.20626673904378656,
          0.31576808484133356,
          0.3504185365939865,
          -0.08873180954801108,
          -0.2088138267491213,
          0.041389954776284155,
          0.4828585051650198,
          -0.23548395660300636,
          -0.12237718466070324,
          0.05866758875825373,
          -0.12859913017037727,
          -0.11291409644729755,
          0.8613285534687896,
          -0.2785400439793153,
          0.9258432434604618,
          -0.28716170583470746,
          0.32948959658341836,
          -0.28543595972010816,
          0.08395533644739506,
          0.3608532029517979,
          -0.3538126744155823,
          -0.086138440038377,
          1.2982175590128993,
          -0.5034826747667902,
          -0.31446333319860054,
          0.16146067707697487,
          -0.0757375636359211,
          0.18395511496776762,
          -0.11309364501518615,
          0.06776919710906237,
          -0.1508734383822573,
          0.1746876471604628,
          -0.10198962135514333,
          -0.0355145248642873,
          -0.25668791063271734,
          -0.3709792152768234,
          1.941449716476833,
          -0.13547957536461597,
          -0.36660861923657906,
          0.36917277418511985,
          -0.19293501138433933,
          -0.03557822692669943,
          -0.13250601413620056,
          0.7451790685190103,
          -0.220827689030217,
          -0.0006363345522456543,
          0.19961588678715914,
          -0.07433342097180928,
          -0.08819236891816074,
          0.0975505745695473,
          1.129498633426052,
          -0.2940888996707307,
          -0.4979759716961082,
          -0.04519796475449045,
          -0.42733657736187314,
          0.4337032184735474,
          0.41514941629926816,
          -0.07871006895974109,
          0.5877118750909787,
          0.40358920886876426,
          -0.39728027586404635,
          0.6258287821818096,
          -0.36325655158780035,
          0.04232268321526966,
          -0.2860112659522117,
          0.005146773868015986,
          -0.1192939619068496,
          0.10342427610474125,
          1.1436660018352396,
          -0.5218988599492038,
          0.2069505965846432,
          -0.22446857951594656,
          0.08718697666011632,
          0.3503282538820707,
          -0.39397604365366423,
          1.8911347847445326,
          -0.23634146107746212,
          0.34572900745433266,
          -0.4019049056877404,
          -0.17006363311672879,
          -0.166815961043409,
          -0.10079779365972819,
          0.032395740960582176,
          null
         ],
         "xaxis": "x",
         "xbins": {
          "end": 1.941449716476833,
          "size": 0.024633485764260367,
          "start": -0.5218988599492038
         },
         "yaxis": "y"
        }
       ],
       "layout": {
        "barmode": "relative",
        "legend": {
         "title": {
          "text": "variable"
         },
         "tracegroupgap": 0
        },
        "margin": {
         "t": 60
        },
        "template": {
         "data": {
          "bar": [
           {
            "error_x": {
             "color": "#2a3f5f"
            },
            "error_y": {
             "color": "#2a3f5f"
            },
            "marker": {
             "line": {
              "color": "#E5ECF6",
              "width": 0.5
             }
            },
            "type": "bar"
           }
          ],
          "barpolar": [
           {
            "marker": {
             "line": {
              "color": "#E5ECF6",
              "width": 0.5
             }
            },
            "type": "barpolar"
           }
          ],
          "carpet": [
           {
            "aaxis": {
             "endlinecolor": "#2a3f5f",
             "gridcolor": "white",
             "linecolor": "white",
             "minorgridcolor": "white",
             "startlinecolor": "#2a3f5f"
            },
            "baxis": {
             "endlinecolor": "#2a3f5f",
             "gridcolor": "white",
             "linecolor": "white",
             "minorgridcolor": "white",
             "startlinecolor": "#2a3f5f"
            },
            "type": "carpet"
           }
          ],
          "choropleth": [
           {
            "colorbar": {
             "outlinewidth": 0,
             "ticks": ""
            },
            "type": "choropleth"
           }
          ],
          "contour": [
           {
            "colorbar": {
             "outlinewidth": 0,
             "ticks": ""
            },
            "colorscale": [
             [
              0,
              "#0d0887"
             ],
             [
              0.1111111111111111,
              "#46039f"
             ],
             [
              0.2222222222222222,
              "#7201a8"
             ],
             [
              0.3333333333333333,
              "#9c179e"
             ],
             [
              0.4444444444444444,
              "#bd3786"
             ],
             [
              0.5555555555555556,
              "#d8576b"
             ],
             [
              0.6666666666666666,
              "#ed7953"
             ],
             [
              0.7777777777777778,
              "#fb9f3a"
             ],
             [
              0.8888888888888888,
              "#fdca26"
             ],
             [
              1,
              "#f0f921"
             ]
            ],
            "type": "contour"
           }
          ],
          "contourcarpet": [
           {
            "colorbar": {
             "outlinewidth": 0,
             "ticks": ""
            },
            "type": "contourcarpet"
           }
          ],
          "heatmap": [
           {
            "colorbar": {
             "outlinewidth": 0,
             "ticks": ""
            },
            "colorscale": [
             [
              0,
              "#0d0887"
             ],
             [
              0.1111111111111111,
              "#46039f"
             ],
             [
              0.2222222222222222,
              "#7201a8"
             ],
             [
              0.3333333333333333,
              "#9c179e"
             ],
             [
              0.4444444444444444,
              "#bd3786"
             ],
             [
              0.5555555555555556,
              "#d8576b"
             ],
             [
              0.6666666666666666,
              "#ed7953"
             ],
             [
              0.7777777777777778,
              "#fb9f3a"
             ],
             [
              0.8888888888888888,
              "#fdca26"
             ],
             [
              1,
              "#f0f921"
             ]
            ],
            "type": "heatmap"
           }
          ],
          "heatmapgl": [
           {
            "colorbar": {
             "outlinewidth": 0,
             "ticks": ""
            },
            "colorscale": [
             [
              0,
              "#0d0887"
             ],
             [
              0.1111111111111111,
              "#46039f"
             ],
             [
              0.2222222222222222,
              "#7201a8"
             ],
             [
              0.3333333333333333,
              "#9c179e"
             ],
             [
              0.4444444444444444,
              "#bd3786"
             ],
             [
              0.5555555555555556,
              "#d8576b"
             ],
             [
              0.6666666666666666,
              "#ed7953"
             ],
             [
              0.7777777777777778,
              "#fb9f3a"
             ],
             [
              0.8888888888888888,
              "#fdca26"
             ],
             [
              1,
              "#f0f921"
             ]
            ],
            "type": "heatmapgl"
           }
          ],
          "histogram": [
           {
            "marker": {
             "colorbar": {
              "outlinewidth": 0,
              "ticks": ""
             }
            },
            "type": "histogram"
           }
          ],
          "histogram2d": [
           {
            "colorbar": {
             "outlinewidth": 0,
             "ticks": ""
            },
            "colorscale": [
             [
              0,
              "#0d0887"
             ],
             [
              0.1111111111111111,
              "#46039f"
             ],
             [
              0.2222222222222222,
              "#7201a8"
             ],
             [
              0.3333333333333333,
              "#9c179e"
             ],
             [
              0.4444444444444444,
              "#bd3786"
             ],
             [
              0.5555555555555556,
              "#d8576b"
             ],
             [
              0.6666666666666666,
              "#ed7953"
             ],
             [
              0.7777777777777778,
              "#fb9f3a"
             ],
             [
              0.8888888888888888,
              "#fdca26"
             ],
             [
              1,
              "#f0f921"
             ]
            ],
            "type": "histogram2d"
           }
          ],
          "histogram2dcontour": [
           {
            "colorbar": {
             "outlinewidth": 0,
             "ticks": ""
            },
            "colorscale": [
             [
              0,
              "#0d0887"
             ],
             [
              0.1111111111111111,
              "#46039f"
             ],
             [
              0.2222222222222222,
              "#7201a8"
             ],
             [
              0.3333333333333333,
              "#9c179e"
             ],
             [
              0.4444444444444444,
              "#bd3786"
             ],
             [
              0.5555555555555556,
              "#d8576b"
             ],
             [
              0.6666666666666666,
              "#ed7953"
             ],
             [
              0.7777777777777778,
              "#fb9f3a"
             ],
             [
              0.8888888888888888,
              "#fdca26"
             ],
             [
              1,
              "#f0f921"
             ]
            ],
            "type": "histogram2dcontour"
           }
          ],
          "mesh3d": [
           {
            "colorbar": {
             "outlinewidth": 0,
             "ticks": ""
            },
            "type": "mesh3d"
           }
          ],
          "parcoords": [
           {
            "line": {
             "colorbar": {
              "outlinewidth": 0,
              "ticks": ""
             }
            },
            "type": "parcoords"
           }
          ],
          "pie": [
           {
            "automargin": true,
            "type": "pie"
           }
          ],
          "scatter": [
           {
            "marker": {
             "colorbar": {
              "outlinewidth": 0,
              "ticks": ""
             }
            },
            "type": "scatter"
           }
          ],
          "scatter3d": [
           {
            "line": {
             "colorbar": {
              "outlinewidth": 0,
              "ticks": ""
             }
            },
            "marker": {
             "colorbar": {
              "outlinewidth": 0,
              "ticks": ""
             }
            },
            "type": "scatter3d"
           }
          ],
          "scattercarpet": [
           {
            "marker": {
             "colorbar": {
              "outlinewidth": 0,
              "ticks": ""
             }
            },
            "type": "scattercarpet"
           }
          ],
          "scattergeo": [
           {
            "marker": {
             "colorbar": {
              "outlinewidth": 0,
              "ticks": ""
             }
            },
            "type": "scattergeo"
           }
          ],
          "scattergl": [
           {
            "marker": {
             "colorbar": {
              "outlinewidth": 0,
              "ticks": ""
             }
            },
            "type": "scattergl"
           }
          ],
          "scattermapbox": [
           {
            "marker": {
             "colorbar": {
              "outlinewidth": 0,
              "ticks": ""
             }
            },
            "type": "scattermapbox"
           }
          ],
          "scatterpolar": [
           {
            "marker": {
             "colorbar": {
              "outlinewidth": 0,
              "ticks": ""
             }
            },
            "type": "scatterpolar"
           }
          ],
          "scatterpolargl": [
           {
            "marker": {
             "colorbar": {
              "outlinewidth": 0,
              "ticks": ""
             }
            },
            "type": "scatterpolargl"
           }
          ],
          "scatterternary": [
           {
            "marker": {
             "colorbar": {
              "outlinewidth": 0,
              "ticks": ""
             }
            },
            "type": "scatterternary"
           }
          ],
          "surface": [
           {
            "colorbar": {
             "outlinewidth": 0,
             "ticks": ""
            },
            "colorscale": [
             [
              0,
              "#0d0887"
             ],
             [
              0.1111111111111111,
              "#46039f"
             ],
             [
              0.2222222222222222,
              "#7201a8"
             ],
             [
              0.3333333333333333,
              "#9c179e"
             ],
             [
              0.4444444444444444,
              "#bd3786"
             ],
             [
              0.5555555555555556,
              "#d8576b"
             ],
             [
              0.6666666666666666,
              "#ed7953"
             ],
             [
              0.7777777777777778,
              "#fb9f3a"
             ],
             [
              0.8888888888888888,
              "#fdca26"
             ],
             [
              1,
              "#f0f921"
             ]
            ],
            "type": "surface"
           }
          ],
          "table": [
           {
            "cells": {
             "fill": {
              "color": "#EBF0F8"
             },
             "line": {
              "color": "white"
             }
            },
            "header": {
             "fill": {
              "color": "#C8D4E3"
             },
             "line": {
              "color": "white"
             }
            },
            "type": "table"
           }
          ]
         },
         "layout": {
          "annotationdefaults": {
           "arrowcolor": "#2a3f5f",
           "arrowhead": 0,
           "arrowwidth": 1
          },
          "autotypenumbers": "strict",
          "coloraxis": {
           "colorbar": {
            "outlinewidth": 0,
            "ticks": ""
           }
          },
          "colorscale": {
           "diverging": [
            [
             0,
             "#8e0152"
            ],
            [
             0.1,
             "#c51b7d"
            ],
            [
             0.2,
             "#de77ae"
            ],
            [
             0.3,
             "#f1b6da"
            ],
            [
             0.4,
             "#fde0ef"
            ],
            [
             0.5,
             "#f7f7f7"
            ],
            [
             0.6,
             "#e6f5d0"
            ],
            [
             0.7,
             "#b8e186"
            ],
            [
             0.8,
             "#7fbc41"
            ],
            [
             0.9,
             "#4d9221"
            ],
            [
             1,
             "#276419"
            ]
           ],
           "sequential": [
            [
             0,
             "#0d0887"
            ],
            [
             0.1111111111111111,
             "#46039f"
            ],
            [
             0.2222222222222222,
             "#7201a8"
            ],
            [
             0.3333333333333333,
             "#9c179e"
            ],
            [
             0.4444444444444444,
             "#bd3786"
            ],
            [
             0.5555555555555556,
             "#d8576b"
            ],
            [
             0.6666666666666666,
             "#ed7953"
            ],
            [
             0.7777777777777778,
             "#fb9f3a"
            ],
            [
             0.8888888888888888,
             "#fdca26"
            ],
            [
             1,
             "#f0f921"
            ]
           ],
           "sequentialminus": [
            [
             0,
             "#0d0887"
            ],
            [
             0.1111111111111111,
             "#46039f"
            ],
            [
             0.2222222222222222,
             "#7201a8"
            ],
            [
             0.3333333333333333,
             "#9c179e"
            ],
            [
             0.4444444444444444,
             "#bd3786"
            ],
            [
             0.5555555555555556,
             "#d8576b"
            ],
            [
             0.6666666666666666,
             "#ed7953"
            ],
            [
             0.7777777777777778,
             "#fb9f3a"
            ],
            [
             0.8888888888888888,
             "#fdca26"
            ],
            [
             1,
             "#f0f921"
            ]
           ]
          },
          "colorway": [
           "#636efa",
           "#EF553B",
           "#00cc96",
           "#ab63fa",
           "#FFA15A",
           "#19d3f3",
           "#FF6692",
           "#B6E880",
           "#FF97FF",
           "#FECB52"
          ],
          "font": {
           "color": "#2a3f5f"
          },
          "geo": {
           "bgcolor": "white",
           "lakecolor": "white",
           "landcolor": "#E5ECF6",
           "showlakes": true,
           "showland": true,
           "subunitcolor": "white"
          },
          "hoverlabel": {
           "align": "left"
          },
          "hovermode": "closest",
          "mapbox": {
           "style": "light"
          },
          "paper_bgcolor": "white",
          "plot_bgcolor": "#E5ECF6",
          "polar": {
           "angularaxis": {
            "gridcolor": "white",
            "linecolor": "white",
            "ticks": ""
           },
           "bgcolor": "#E5ECF6",
           "radialaxis": {
            "gridcolor": "white",
            "linecolor": "white",
            "ticks": ""
           }
          },
          "scene": {
           "xaxis": {
            "backgroundcolor": "#E5ECF6",
            "gridcolor": "white",
            "gridwidth": 2,
            "linecolor": "white",
            "showbackground": true,
            "ticks": "",
            "zerolinecolor": "white"
           },
           "yaxis": {
            "backgroundcolor": "#E5ECF6",
            "gridcolor": "white",
            "gridwidth": 2,
            "linecolor": "white",
            "showbackground": true,
            "ticks": "",
            "zerolinecolor": "white"
           },
           "zaxis": {
            "backgroundcolor": "#E5ECF6",
            "gridcolor": "white",
            "gridwidth": 2,
            "linecolor": "white",
            "showbackground": true,
            "ticks": "",
            "zerolinecolor": "white"
           }
          },
          "shapedefaults": {
           "line": {
            "color": "#2a3f5f"
           }
          },
          "ternary": {
           "aaxis": {
            "gridcolor": "white",
            "linecolor": "white",
            "ticks": ""
           },
           "baxis": {
            "gridcolor": "white",
            "linecolor": "white",
            "ticks": ""
           },
           "bgcolor": "#E5ECF6",
           "caxis": {
            "gridcolor": "white",
            "linecolor": "white",
            "ticks": ""
           }
          },
          "title": {
           "x": 0.05
          },
          "xaxis": {
           "automargin": true,
           "gridcolor": "white",
           "linecolor": "white",
           "ticks": "",
           "title": {
            "standoff": 15
           },
           "zerolinecolor": "white",
           "zerolinewidth": 2
          },
          "yaxis": {
           "automargin": true,
           "gridcolor": "white",
           "linecolor": "white",
           "ticks": "",
           "title": {
            "standoff": 15
           },
           "zerolinecolor": "white",
           "zerolinewidth": 2
          }
         }
        },
        "xaxis": {
         "anchor": "y",
         "domain": [
          0,
          1
         ],
         "title": {
          "text": "value"
         }
        },
        "yaxis": {
         "anchor": "x",
         "domain": [
          0,
          1
         ],
         "title": {
          "text": "count"
         }
        }
       }
      },
      "text/html": [
       "<div>                            <div id=\"e0e013a7-a93e-4390-8ab3-139deffb3a54\" class=\"plotly-graph-div\" style=\"height:525px; width:100%;\"></div>            <script type=\"text/javascript\">                require([\"plotly\"], function(Plotly) {                    window.PLOTLYENV=window.PLOTLYENV || {};                                    if (document.getElementById(\"e0e013a7-a93e-4390-8ab3-139deffb3a54\")) {                    Plotly.newPlot(                        \"e0e013a7-a93e-4390-8ab3-139deffb3a54\",                        [{\"alignmentgroup\": \"True\", \"bingroup\": \"x\", \"hovertemplate\": \"variable=volume_change<br>value=%{x}<br>count=%{y}<extra></extra>\", \"legendgroup\": \"volume_change\", \"marker\": {\"color\": \"#636efa\"}, \"name\": \"volume_change\", \"offsetgroup\": \"volume_change\", \"orientation\": \"v\", \"showlegend\": true, \"type\": \"histogram\", \"x\": [0.24601118247462694, -0.20097869770957277, 0.05271322543413226, 0.21729955654505662, 1.217103692105236, -0.06642233180381185, -0.3058960299809511, 0.015407642815454814, -0.39572717356452314, -0.029689791866631454, 0.6826572688353569, -0.4526553078811545, -0.0802666637408257, 0.9402586572915763, -0.3263584776475331, 0.43663457394812233, -0.37868325794315694, 0.42080355613640563, -0.36265632620681143, -0.037482451071175094, -0.11653103492964201, 0.35052077456324104, -0.3436622856409399, 0.5327511964370713, -0.3084373807612264, 0.7848780946280878, -0.09514759271412421, -0.06326313316478394, -0.37376368332345855, 0.18349763196860747, -0.12839753002865495, 0.01950304718415974, 0.005226629959140805, 0.316163821042845, -0.026029104099925315, -0.34532739798204326, 0.19054551832285327, -0.15724538311423686, 0.2767059686249018, 0.3774392833667686, -0.37709802007974225, -0.21025784568762906, 0.02262663822344324, 0.018968093250944618, 0.3120191288136043, -0.2273001959403067, 0.5289474938727483, -0.2188981523946485, -0.22891708972074465, 0.1289200234006651, -0.2506647319846038, 0.1071818119676593, 0.7356785655805071, -0.39070876372870966, 0.3271656838674357, -0.11117799721743515, -0.21017460641980057, 0.32401165243329255, 0.14813491137228896, -0.18432965410015112, 0.3455914759836738, -0.14029840186895237, 0.2558659781115382, 1.1257302943068814, -0.0676771459206843, -0.1752243828014527, -0.17457972440605563, -0.009760765885044043, -0.09203796622679405, -0.21154280633157851, -0.20062131695139818, 0.5446383251497726, 0.12464022708797873, 0.12145717435371983, -0.04114340525176352, -0.3560932648707771, 0.49357302644094814, -0.17646345958383125, -0.07318477462024264, -0.09124615696206695, -0.20210726969739268, 1.0197538620676085, -0.14779230503402652, 0.00825679100645682, -0.4888455820609723, 0.9716201094880708, -0.3675767955539846, -0.20626673904378656, 0.31576808484133356, 0.3504185365939865, -0.08873180954801108, -0.2088138267491213, 0.041389954776284155, 0.4828585051650198, -0.23548395660300636, -0.12237718466070324, 0.05866758875825373, -0.12859913017037727, -0.11291409644729755, 0.8613285534687896, -0.2785400439793153, 0.9258432434604618, -0.28716170583470746, 0.32948959658341836, -0.28543595972010816, 0.08395533644739506, 0.3608532029517979, -0.3538126744155823, -0.086138440038377, 1.2982175590128993, -0.5034826747667902, -0.31446333319860054, 0.16146067707697487, -0.0757375636359211, 0.18395511496776762, -0.11309364501518615, 0.06776919710906237, -0.1508734383822573, 0.1746876471604628, -0.10198962135514333, -0.0355145248642873, -0.25668791063271734, -0.3709792152768234, 1.941449716476833, -0.13547957536461597, -0.36660861923657906, 0.36917277418511985, -0.19293501138433933, -0.03557822692669943, -0.13250601413620056, 0.7451790685190103, -0.220827689030217, -0.0006363345522456543, 0.19961588678715914, -0.07433342097180928, -0.08819236891816074, 0.0975505745695473, 1.129498633426052, -0.2940888996707307, -0.4979759716961082, -0.04519796475449045, -0.42733657736187314, 0.4337032184735474, 0.41514941629926816, -0.07871006895974109, 0.5877118750909787, 0.40358920886876426, -0.39728027586404635, 0.6258287821818096, -0.36325655158780035, 0.04232268321526966, -0.2860112659522117, 0.005146773868015986, -0.1192939619068496, 0.10342427610474125, 1.1436660018352396, -0.5218988599492038, 0.2069505965846432, -0.22446857951594656, 0.08718697666011632, 0.3503282538820707, -0.39397604365366423, 1.8911347847445326, -0.23634146107746212, 0.34572900745433266, -0.4019049056877404, -0.17006363311672879, -0.166815961043409, -0.10079779365972819, 0.032395740960582176, null], \"xaxis\": \"x\", \"xbins\": {\"end\": 1.941449716476833, \"size\": 0.024633485764260367, \"start\": -0.5218988599492038}, \"yaxis\": \"y\"}],                        {\"barmode\": \"relative\", \"legend\": {\"title\": {\"text\": \"variable\"}, \"tracegroupgap\": 0}, \"margin\": {\"t\": 60}, \"template\": {\"data\": {\"bar\": [{\"error_x\": {\"color\": \"#2a3f5f\"}, \"error_y\": {\"color\": \"#2a3f5f\"}, \"marker\": {\"line\": {\"color\": \"#E5ECF6\", \"width\": 0.5}}, \"type\": \"bar\"}], \"barpolar\": [{\"marker\": {\"line\": {\"color\": \"#E5ECF6\", \"width\": 0.5}}, \"type\": \"barpolar\"}], \"carpet\": [{\"aaxis\": {\"endlinecolor\": \"#2a3f5f\", \"gridcolor\": \"white\", \"linecolor\": \"white\", \"minorgridcolor\": \"white\", \"startlinecolor\": \"#2a3f5f\"}, \"baxis\": {\"endlinecolor\": \"#2a3f5f\", \"gridcolor\": \"white\", \"linecolor\": \"white\", \"minorgridcolor\": \"white\", \"startlinecolor\": \"#2a3f5f\"}, \"type\": \"carpet\"}], \"choropleth\": [{\"colorbar\": {\"outlinewidth\": 0, \"ticks\": \"\"}, \"type\": \"choropleth\"}], \"contour\": [{\"colorbar\": {\"outlinewidth\": 0, \"ticks\": \"\"}, \"colorscale\": [[0.0, \"#0d0887\"], [0.1111111111111111, \"#46039f\"], [0.2222222222222222, \"#7201a8\"], [0.3333333333333333, \"#9c179e\"], [0.4444444444444444, \"#bd3786\"], [0.5555555555555556, \"#d8576b\"], [0.6666666666666666, \"#ed7953\"], [0.7777777777777778, \"#fb9f3a\"], [0.8888888888888888, \"#fdca26\"], [1.0, \"#f0f921\"]], \"type\": \"contour\"}], \"contourcarpet\": [{\"colorbar\": {\"outlinewidth\": 0, \"ticks\": \"\"}, \"type\": \"contourcarpet\"}], \"heatmap\": [{\"colorbar\": {\"outlinewidth\": 0, \"ticks\": \"\"}, \"colorscale\": [[0.0, \"#0d0887\"], [0.1111111111111111, \"#46039f\"], [0.2222222222222222, \"#7201a8\"], [0.3333333333333333, \"#9c179e\"], [0.4444444444444444, \"#bd3786\"], [0.5555555555555556, \"#d8576b\"], [0.6666666666666666, \"#ed7953\"], [0.7777777777777778, \"#fb9f3a\"], [0.8888888888888888, \"#fdca26\"], [1.0, \"#f0f921\"]], \"type\": \"heatmap\"}], \"heatmapgl\": [{\"colorbar\": {\"outlinewidth\": 0, \"ticks\": \"\"}, \"colorscale\": [[0.0, \"#0d0887\"], [0.1111111111111111, \"#46039f\"], [0.2222222222222222, \"#7201a8\"], [0.3333333333333333, \"#9c179e\"], [0.4444444444444444, \"#bd3786\"], [0.5555555555555556, \"#d8576b\"], [0.6666666666666666, \"#ed7953\"], [0.7777777777777778, \"#fb9f3a\"], [0.8888888888888888, \"#fdca26\"], [1.0, \"#f0f921\"]], \"type\": \"heatmapgl\"}], \"histogram\": [{\"marker\": {\"colorbar\": {\"outlinewidth\": 0, \"ticks\": \"\"}}, \"type\": \"histogram\"}], \"histogram2d\": [{\"colorbar\": {\"outlinewidth\": 0, \"ticks\": \"\"}, \"colorscale\": [[0.0, \"#0d0887\"], [0.1111111111111111, \"#46039f\"], [0.2222222222222222, \"#7201a8\"], [0.3333333333333333, \"#9c179e\"], [0.4444444444444444, \"#bd3786\"], [0.5555555555555556, \"#d8576b\"], [0.6666666666666666, \"#ed7953\"], [0.7777777777777778, \"#fb9f3a\"], [0.8888888888888888, \"#fdca26\"], [1.0, \"#f0f921\"]], \"type\": \"histogram2d\"}], \"histogram2dcontour\": [{\"colorbar\": {\"outlinewidth\": 0, \"ticks\": \"\"}, \"colorscale\": [[0.0, \"#0d0887\"], [0.1111111111111111, \"#46039f\"], [0.2222222222222222, \"#7201a8\"], [0.3333333333333333, \"#9c179e\"], [0.4444444444444444, \"#bd3786\"], [0.5555555555555556, \"#d8576b\"], [0.6666666666666666, \"#ed7953\"], [0.7777777777777778, \"#fb9f3a\"], [0.8888888888888888, \"#fdca26\"], [1.0, \"#f0f921\"]], \"type\": \"histogram2dcontour\"}], \"mesh3d\": [{\"colorbar\": {\"outlinewidth\": 0, \"ticks\": \"\"}, \"type\": \"mesh3d\"}], \"parcoords\": [{\"line\": {\"colorbar\": {\"outlinewidth\": 0, \"ticks\": \"\"}}, \"type\": \"parcoords\"}], \"pie\": [{\"automargin\": true, \"type\": \"pie\"}], \"scatter\": [{\"marker\": {\"colorbar\": {\"outlinewidth\": 0, \"ticks\": \"\"}}, \"type\": \"scatter\"}], \"scatter3d\": [{\"line\": {\"colorbar\": {\"outlinewidth\": 0, \"ticks\": \"\"}}, \"marker\": {\"colorbar\": {\"outlinewidth\": 0, \"ticks\": \"\"}}, \"type\": \"scatter3d\"}], \"scattercarpet\": [{\"marker\": {\"colorbar\": {\"outlinewidth\": 0, \"ticks\": \"\"}}, \"type\": \"scattercarpet\"}], \"scattergeo\": [{\"marker\": {\"colorbar\": {\"outlinewidth\": 0, \"ticks\": \"\"}}, \"type\": \"scattergeo\"}], \"scattergl\": [{\"marker\": {\"colorbar\": {\"outlinewidth\": 0, \"ticks\": \"\"}}, \"type\": \"scattergl\"}], \"scattermapbox\": [{\"marker\": {\"colorbar\": {\"outlinewidth\": 0, \"ticks\": \"\"}}, \"type\": \"scattermapbox\"}], \"scatterpolar\": [{\"marker\": {\"colorbar\": {\"outlinewidth\": 0, \"ticks\": \"\"}}, \"type\": \"scatterpolar\"}], \"scatterpolargl\": [{\"marker\": {\"colorbar\": {\"outlinewidth\": 0, \"ticks\": \"\"}}, \"type\": \"scatterpolargl\"}], \"scatterternary\": [{\"marker\": {\"colorbar\": {\"outlinewidth\": 0, \"ticks\": \"\"}}, \"type\": \"scatterternary\"}], \"surface\": [{\"colorbar\": {\"outlinewidth\": 0, \"ticks\": \"\"}, \"colorscale\": [[0.0, \"#0d0887\"], [0.1111111111111111, \"#46039f\"], [0.2222222222222222, \"#7201a8\"], [0.3333333333333333, \"#9c179e\"], [0.4444444444444444, \"#bd3786\"], [0.5555555555555556, \"#d8576b\"], [0.6666666666666666, \"#ed7953\"], [0.7777777777777778, \"#fb9f3a\"], [0.8888888888888888, \"#fdca26\"], [1.0, \"#f0f921\"]], \"type\": \"surface\"}], \"table\": [{\"cells\": {\"fill\": {\"color\": \"#EBF0F8\"}, \"line\": {\"color\": \"white\"}}, \"header\": {\"fill\": {\"color\": \"#C8D4E3\"}, \"line\": {\"color\": \"white\"}}, \"type\": \"table\"}]}, \"layout\": {\"annotationdefaults\": {\"arrowcolor\": \"#2a3f5f\", \"arrowhead\": 0, \"arrowwidth\": 1}, \"autotypenumbers\": \"strict\", \"coloraxis\": {\"colorbar\": {\"outlinewidth\": 0, \"ticks\": \"\"}}, \"colorscale\": {\"diverging\": [[0, \"#8e0152\"], [0.1, \"#c51b7d\"], [0.2, \"#de77ae\"], [0.3, \"#f1b6da\"], [0.4, \"#fde0ef\"], [0.5, \"#f7f7f7\"], [0.6, \"#e6f5d0\"], [0.7, \"#b8e186\"], [0.8, \"#7fbc41\"], [0.9, \"#4d9221\"], [1, \"#276419\"]], \"sequential\": [[0.0, \"#0d0887\"], [0.1111111111111111, \"#46039f\"], [0.2222222222222222, \"#7201a8\"], [0.3333333333333333, \"#9c179e\"], [0.4444444444444444, \"#bd3786\"], [0.5555555555555556, \"#d8576b\"], [0.6666666666666666, \"#ed7953\"], [0.7777777777777778, \"#fb9f3a\"], [0.8888888888888888, \"#fdca26\"], [1.0, \"#f0f921\"]], \"sequentialminus\": [[0.0, \"#0d0887\"], [0.1111111111111111, \"#46039f\"], [0.2222222222222222, \"#7201a8\"], [0.3333333333333333, \"#9c179e\"], [0.4444444444444444, \"#bd3786\"], [0.5555555555555556, \"#d8576b\"], [0.6666666666666666, \"#ed7953\"], [0.7777777777777778, \"#fb9f3a\"], [0.8888888888888888, \"#fdca26\"], [1.0, \"#f0f921\"]]}, \"colorway\": [\"#636efa\", \"#EF553B\", \"#00cc96\", \"#ab63fa\", \"#FFA15A\", \"#19d3f3\", \"#FF6692\", \"#B6E880\", \"#FF97FF\", \"#FECB52\"], \"font\": {\"color\": \"#2a3f5f\"}, \"geo\": {\"bgcolor\": \"white\", \"lakecolor\": \"white\", \"landcolor\": \"#E5ECF6\", \"showlakes\": true, \"showland\": true, \"subunitcolor\": \"white\"}, \"hoverlabel\": {\"align\": \"left\"}, \"hovermode\": \"closest\", \"mapbox\": {\"style\": \"light\"}, \"paper_bgcolor\": \"white\", \"plot_bgcolor\": \"#E5ECF6\", \"polar\": {\"angularaxis\": {\"gridcolor\": \"white\", \"linecolor\": \"white\", \"ticks\": \"\"}, \"bgcolor\": \"#E5ECF6\", \"radialaxis\": {\"gridcolor\": \"white\", \"linecolor\": \"white\", \"ticks\": \"\"}}, \"scene\": {\"xaxis\": {\"backgroundcolor\": \"#E5ECF6\", \"gridcolor\": \"white\", \"gridwidth\": 2, \"linecolor\": \"white\", \"showbackground\": true, \"ticks\": \"\", \"zerolinecolor\": \"white\"}, \"yaxis\": {\"backgroundcolor\": \"#E5ECF6\", \"gridcolor\": \"white\", \"gridwidth\": 2, \"linecolor\": \"white\", \"showbackground\": true, \"ticks\": \"\", \"zerolinecolor\": \"white\"}, \"zaxis\": {\"backgroundcolor\": \"#E5ECF6\", \"gridcolor\": \"white\", \"gridwidth\": 2, \"linecolor\": \"white\", \"showbackground\": true, \"ticks\": \"\", \"zerolinecolor\": \"white\"}}, \"shapedefaults\": {\"line\": {\"color\": \"#2a3f5f\"}}, \"ternary\": {\"aaxis\": {\"gridcolor\": \"white\", \"linecolor\": \"white\", \"ticks\": \"\"}, \"baxis\": {\"gridcolor\": \"white\", \"linecolor\": \"white\", \"ticks\": \"\"}, \"bgcolor\": \"#E5ECF6\", \"caxis\": {\"gridcolor\": \"white\", \"linecolor\": \"white\", \"ticks\": \"\"}}, \"title\": {\"x\": 0.05}, \"xaxis\": {\"automargin\": true, \"gridcolor\": \"white\", \"linecolor\": \"white\", \"ticks\": \"\", \"title\": {\"standoff\": 15}, \"zerolinecolor\": \"white\", \"zerolinewidth\": 2}, \"yaxis\": {\"automargin\": true, \"gridcolor\": \"white\", \"linecolor\": \"white\", \"ticks\": \"\", \"title\": {\"standoff\": 15}, \"zerolinecolor\": \"white\", \"zerolinewidth\": 2}}}, \"xaxis\": {\"anchor\": \"y\", \"domain\": [0.0, 1.0], \"title\": {\"text\": \"value\"}}, \"yaxis\": {\"anchor\": \"x\", \"domain\": [0.0, 1.0], \"title\": {\"text\": \"count\"}}},                        {\"responsive\": true}                    ).then(function(){\n",
       "                            \n",
       "var gd = document.getElementById('e0e013a7-a93e-4390-8ab3-139deffb3a54');\n",
       "var x = new MutationObserver(function (mutations, observer) {{\n",
       "        var display = window.getComputedStyle(gd).display;\n",
       "        if (!display || display === 'none') {{\n",
       "            console.log([gd, 'removed!']);\n",
       "            Plotly.purge(gd);\n",
       "            observer.disconnect();\n",
       "        }}\n",
       "}});\n",
       "\n",
       "// Listen for the removal of the full notebook cells\n",
       "var notebookContainer = gd.closest('#notebook-container');\n",
       "if (notebookContainer) {{\n",
       "    x.observe(notebookContainer, {childList: true});\n",
       "}}\n",
       "\n",
       "// Listen for the clearing of the current output cell\n",
       "var outputEl = gd.closest('.output');\n",
       "if (outputEl) {{\n",
       "    x.observe(outputEl, {childList: true});\n",
       "}}\n",
       "\n",
       "                        })                };                });            </script>        </div>"
      ]
     },
     "metadata": {},
     "output_type": "display_data"
    }
   ],
   "source": [
    "summary(data['volume_change'])"
   ]
  },
  {
   "cell_type": "code",
   "execution_count": 28,
   "metadata": {},
   "outputs": [
    {
     "data": {
      "application/vnd.plotly.v1+json": {
       "config": {
        "linkText": "Export to plot.ly",
        "plotlyServerURL": "https://plot.ly",
        "showLink": true
       },
       "data": [
        {
         "marker": {
          "color": [
           "#808080",
           "#17BECF",
           "#17BECF",
           "#808080",
           "#808080",
           "#808080",
           "#17BECF",
           "#17BECF",
           "#17BECF",
           "#808080",
           "#17BECF",
           "#808080",
           "#17BECF",
           "#17BECF",
           "#808080",
           "#17BECF",
           "#808080",
           "#17BECF",
           "#17BECF",
           "#17BECF",
           "#17BECF",
           "#17BECF",
           "#808080",
           "#17BECF",
           "#808080",
           "#17BECF",
           "#808080",
           "#17BECF",
           "#17BECF",
           "#808080",
           "#17BECF",
           "#17BECF",
           "#17BECF",
           "#17BECF",
           "#808080",
           "#808080",
           "#17BECF",
           "#808080",
           "#17BECF",
           "#808080",
           "#17BECF",
           "#17BECF",
           "#17BECF",
           "#17BECF",
           "#17BECF",
           "#17BECF",
           "#17BECF",
           "#808080",
           "#17BECF",
           "#808080",
           "#17BECF",
           "#17BECF",
           "#17BECF",
           "#808080",
           "#17BECF",
           "#17BECF",
           "#17BECF",
           "#17BECF",
           "#17BECF",
           "#17BECF",
           "#17BECF",
           "#808080",
           "#17BECF",
           "#17BECF",
           "#808080",
           "#808080",
           "#808080",
           "#17BECF",
           "#808080",
           "#17BECF",
           "#17BECF",
           "#17BECF",
           "#808080",
           "#808080",
           "#808080",
           "#808080",
           "#17BECF",
           "#808080",
           "#17BECF",
           "#17BECF",
           "#17BECF",
           "#808080",
           "#17BECF",
           "#17BECF",
           "#808080",
           "#17BECF",
           "#808080",
           "#17BECF",
           "#17BECF",
           "#17BECF",
           "#17BECF",
           "#808080",
           "#808080",
           "#808080",
           "#808080",
           "#808080",
           "#17BECF",
           "#808080",
           "#17BECF",
           "#17BECF",
           "#808080",
           "#808080",
           "#808080",
           "#17BECF",
           "#808080",
           "#17BECF",
           "#17BECF",
           "#17BECF",
           "#17BECF",
           "#808080",
           "#17BECF",
           "#808080",
           "#17BECF",
           "#808080",
           "#17BECF",
           "#17BECF",
           "#808080",
           "#808080",
           "#17BECF",
           "#808080",
           "#17BECF",
           "#17BECF",
           "#808080",
           "#17BECF",
           "#808080",
           "#17BECF",
           "#17BECF",
           "#808080",
           "#17BECF",
           "#808080",
           "#17BECF",
           "#808080",
           "#808080",
           "#808080",
           "#808080",
           "#17BECF",
           "#808080",
           "#17BECF",
           "#808080",
           "#808080",
           "#808080",
           "#17BECF",
           "#17BECF",
           "#17BECF",
           "#808080",
           "#17BECF",
           "#17BECF",
           "#808080",
           "#17BECF",
           "#17BECF",
           "#17BECF",
           "#17BECF",
           "#808080",
           "#17BECF",
           "#17BECF",
           "#808080",
           "#808080",
           "#17BECF",
           "#17BECF",
           "#17BECF",
           "#808080",
           "#17BECF",
           "#808080",
           "#808080",
           "#17BECF",
           "#808080",
           "#17BECF",
           "#17BECF",
           "#17BECF",
           "#17BECF",
           "#17BECF"
          ],
          "line": {
           "color": [
            "#808080",
            "#17BECF",
            "#17BECF",
            "#808080",
            "#808080",
            "#808080",
            "#17BECF",
            "#17BECF",
            "#17BECF",
            "#808080",
            "#17BECF",
            "#808080",
            "#17BECF",
            "#17BECF",
            "#808080",
            "#17BECF",
            "#808080",
            "#17BECF",
            "#17BECF",
            "#17BECF",
            "#17BECF",
            "#17BECF",
            "#808080",
            "#17BECF",
            "#808080",
            "#17BECF",
            "#808080",
            "#17BECF",
            "#17BECF",
            "#808080",
            "#17BECF",
            "#17BECF",
            "#17BECF",
            "#17BECF",
            "#808080",
            "#808080",
            "#17BECF",
            "#808080",
            "#17BECF",
            "#808080",
            "#17BECF",
            "#17BECF",
            "#17BECF",
            "#17BECF",
            "#17BECF",
            "#17BECF",
            "#17BECF",
            "#808080",
            "#17BECF",
            "#808080",
            "#17BECF",
            "#17BECF",
            "#17BECF",
            "#808080",
            "#17BECF",
            "#17BECF",
            "#17BECF",
            "#17BECF",
            "#17BECF",
            "#17BECF",
            "#17BECF",
            "#808080",
            "#17BECF",
            "#17BECF",
            "#808080",
            "#808080",
            "#808080",
            "#17BECF",
            "#808080",
            "#17BECF",
            "#17BECF",
            "#17BECF",
            "#808080",
            "#808080",
            "#808080",
            "#808080",
            "#17BECF",
            "#808080",
            "#17BECF",
            "#17BECF",
            "#17BECF",
            "#808080",
            "#17BECF",
            "#17BECF",
            "#808080",
            "#17BECF",
            "#808080",
            "#17BECF",
            "#17BECF",
            "#17BECF",
            "#17BECF",
            "#808080",
            "#808080",
            "#808080",
            "#808080",
            "#808080",
            "#17BECF",
            "#808080",
            "#17BECF",
            "#17BECF",
            "#808080",
            "#808080",
            "#808080",
            "#17BECF",
            "#808080",
            "#17BECF",
            "#17BECF",
            "#17BECF",
            "#17BECF",
            "#808080",
            "#17BECF",
            "#808080",
            "#17BECF",
            "#808080",
            "#17BECF",
            "#17BECF",
            "#808080",
            "#808080",
            "#17BECF",
            "#808080",
            "#17BECF",
            "#17BECF",
            "#808080",
            "#17BECF",
            "#808080",
            "#17BECF",
            "#17BECF",
            "#808080",
            "#17BECF",
            "#808080",
            "#17BECF",
            "#808080",
            "#808080",
            "#808080",
            "#808080",
            "#17BECF",
            "#808080",
            "#17BECF",
            "#808080",
            "#808080",
            "#808080",
            "#17BECF",
            "#17BECF",
            "#17BECF",
            "#808080",
            "#17BECF",
            "#17BECF",
            "#808080",
            "#17BECF",
            "#17BECF",
            "#17BECF",
            "#17BECF",
            "#808080",
            "#17BECF",
            "#17BECF",
            "#808080",
            "#808080",
            "#17BECF",
            "#17BECF",
            "#17BECF",
            "#808080",
            "#17BECF",
            "#808080",
            "#808080",
            "#17BECF",
            "#808080",
            "#17BECF",
            "#17BECF",
            "#17BECF",
            "#17BECF",
            "#17BECF"
           ],
           "width": 1
          }
         },
         "name": "volume",
         "opacity": 0.8,
         "orientation": "v",
         "text": "",
         "type": "bar",
         "x": [
          0,
          1,
          2,
          3,
          4,
          5,
          6,
          7,
          8,
          9,
          10,
          11,
          12,
          13,
          14,
          15,
          16,
          17,
          18,
          19,
          20,
          21,
          22,
          23,
          24,
          25,
          26,
          27,
          28,
          29,
          30,
          31,
          32,
          33,
          34,
          35,
          36,
          37,
          38,
          39,
          40,
          41,
          42,
          43,
          44,
          45,
          46,
          47,
          48,
          49,
          50,
          51,
          52,
          53,
          54,
          55,
          56,
          57,
          58,
          59,
          60,
          61,
          62,
          63,
          64,
          65,
          66,
          67,
          68,
          69,
          70,
          71,
          72,
          73,
          74,
          75,
          76,
          77,
          78,
          79,
          80,
          81,
          82,
          83,
          84,
          85,
          86,
          87,
          88,
          89,
          90,
          91,
          92,
          93,
          94,
          95,
          96,
          97,
          98,
          99,
          100,
          101,
          102,
          103,
          104,
          105,
          106,
          107,
          108,
          109,
          110,
          111,
          112,
          113,
          114,
          115,
          116,
          117,
          118,
          119,
          120,
          121,
          122,
          123,
          124,
          125,
          126,
          127,
          128,
          129,
          130,
          131,
          132,
          133,
          134,
          135,
          136,
          137,
          138,
          139,
          140,
          141,
          142,
          143,
          144,
          145,
          146,
          147,
          148,
          149,
          150,
          151,
          152,
          153,
          154,
          155,
          156,
          157,
          158,
          159,
          160,
          161,
          162,
          163,
          164,
          165,
          166,
          167,
          168,
          169,
          170
         ],
         "y": [
          73635043,
          91750087,
          73310274,
          77174695,
          93944722,
          208285190,
          194450402,
          134968796,
          137048347,
          82814592,
          80355844,
          135211345,
          74007212,
          68066900,
          132067392,
          88966079,
          127811745,
          79411577,
          112828251,
          71910372,
          69214995,
          61149300,
          82583400,
          54202600,
          83079100,
          57454400,
          102549100,
          92791800,
          86921500,
          54433400,
          64421800,
          56150200,
          57245300,
          57544500,
          75737989,
          73766597,
          48292970,
          57494979,
          48454159,
          61861714,
          85210755,
          53077948,
          41917893,
          42866354,
          43679447,
          57308270,
          44282089,
          67704989,
          52884492,
          40778328,
          46035471,
          34496002,
          38193346,
          66291372,
          40390752,
          53605220,
          47645499,
          37631625,
          49824710,
          57205489,
          46660821,
          62786403,
          53977571,
          67788595,
          144100270,
          134347975,
          110806934,
          91462290,
          90569548,
          82233711,
          64837761,
          51829924,
          80058487,
          90036995,
          100972634,
          96818276,
          62341940,
          93112240,
          76681332,
          71069426,
          64584614,
          51531594,
          104081136,
          88698745,
          89431112,
          45713108,
          90128883,
          56999597,
          45242476,
          59528606,
          80388533,
          73255513,
          57958749,
          60357659,
          89501868,
          68425614,
          60051880,
          63574979,
          55399292,
          49143931,
          91473002,
          65994108,
          127094307,
          90597689,
          120448685,
          86068299,
          93294192,
          126959700,
          82039749,
          74972973,
          172304203,
          85552022,
          58649048,
          68118563,
          62959429,
          74541138,
          66111009,
          70591299,
          59940947,
          70411890,
          63230608,
          60985003,
          45330890,
          28514072,
          83872709,
          72509670,
          45927000,
          62881998,
          50749859,
          48944269,
          42458859,
          74098312,
          57735353,
          57698614,
          69216174,
          64071099,
          58420517,
          64119472,
          136542328,
          96386745,
          48388462,
          46201402,
          26457853,
          37932709,
          53680451,
          49455259,
          78520702,
          110210810,
          66426229,
          107997675,
          68766812,
          71677208,
          51176719,
          51440114,
          45303619,
          49989113,
          107159962,
          51233300,
          61836062,
          47955809,
          52136931,
          70401971,
          42665281,
          123351078,
          94198104,
          126765121,
          75817597,
          62923781,
          52427090,
          47142555,
          48669773
         ],
         "yaxis": "y3"
        },
        {
         "close": [
          308.08,
          312.18,
          323.2,
          320.79,
          319,
          300.61,
          304.21,
          307.05,
          312.96,
          311.66,
          311.78,
          308.64,
          310.62,
          312.05,
          304.09,
          307.35,
          300.05,
          304.46,
          308.36,
          310.57,
          312.19,
          317.01,
          313.77,
          316.16,
          314.6,
          317.59,
          314.84,
          318.92,
          321.85,
          320.79,
          321.72,
          324.32,
          325.01,
          326.86,
          322.96,
          320.88,
          323.22,
          321.17,
          325.12,
          323.96,
          326.52,
          328.79,
          330.06,
          332.11,
          334.33,
          334.57,
          335.57,
          332.8,
          337.44,
          336.83,
          336.84,
          337.91,
          338.64,
          337.23,
          338.28,
          339.48,
          342.92,
          344.12,
          347.57,
          348.33,
          350.58,
          349.31,
          352.6,
          357.7,
          345.39,
          342.57,
          333.21,
          339.79,
          333.89,
          334.06,
          338.46,
          340.17,
          338.82,
          335.84,
          330.65,
          326.97,
          330.3,
          322.64,
          323.5,
          328.73,
          334.19,
          332.37,
          334.89,
          337.04,
          333.84,
          339.76,
          334.93,
          340.76,
          343.78,
          346.85,
          352.43,
          350.13,
          347.93,
          347.5,
          347.29,
          342.01,
          343.38,
          342.73,
          344.61,
          345.78,
          339.39,
          338.22,
          326.66,
          329.98,
          326.54,
          330.2,
          336.03,
          343.54,
          350.24,
          350.16,
          354.56,
          354.04,
          356.67,
          353.21,
          358.1,
          362.57,
          360.62,
          356.28,
          357.78,
          355.33,
          357.46,
          363.22,
          362.66,
          363.67,
          362.06,
          366.02,
          366.79,
          366.69,
          369.85,
          369.09,
          370.17,
          366.85,
          366.73,
          366.3,
          364.66,
          369.59,
          368.592514295,
          370.653692955,
          369.18,
          367.86,
          367.24,
          367.57,
          369,
          372.17,
          371.46,
          371.99,
          373.88,
          368.79,
          371.33,
          373.55,
          379.1,
          381.26,
          378.69,
          378.77,
          379.79,
          378.46,
          375.7,
          378.65,
          383.89,
          384.24,
          382.88,
          384.39,
          383.79,
          374.41,
          377.63,
          370.07,
          376.23,
          381.55,
          381.85,
          386.19,
          387.71
         ],
         "decreasing": {
          "line": {
           "color": "#808080"
          }
         },
         "high": [
          308.13,
          313.22,
          323.41,
          323.2849,
          322.39,
          312.15,
          309.08,
          308.28,
          315.64,
          314.39,
          312.3,
          314.38,
          311.05,
          314.5,
          310.51,
          307.64,
          306.39,
          304.61,
          310.2,
          311.85,
          315.7,
          317.24,
          317.47,
          316.25,
          317.13,
          317.88,
          322.71,
          319.76,
          323.04,
          321.28,
          322.57,
          325.13,
          326.93,
          327.2,
          327.23,
          321.99,
          323.41,
          323.64,
          325.73,
          324.41,
          326.63,
          329.62,
          330.06,
          332.39,
          334.46,
          334.88,
          335.77,
          337.54,
          338.28,
          338.2514,
          337.42,
          338.34,
          339.1,
          339.61,
          338.8,
          339.72,
          343,
          344.21,
          347.86,
          349.9,
          350.72,
          351.3,
          352.71,
          358.75,
          356.38,
          347.83,
          342.64,
          342.46,
          342.53,
          336.97,
          340.38,
          342.02,
          343.06,
          337.6996,
          335.49,
          327.13,
          330.9,
          331.2,
          326.797,
          329.58,
          334.96,
          334.77,
          338.29,
          338.74,
          337.0126,
          339.96,
          342.17,
          341.63,
          343.85,
          347.35,
          354.02,
          352.4651,
          351.93,
          348.02,
          350.75,
          349.33,
          346.88,
          348.6847,
          345.24,
          345.99,
          342.98,
          340.12,
          338.2483,
          333.395,
          329.69,
          332.36,
          338.25,
          347.94,
          352.19,
          351.51,
          364.38,
          355.18,
          357.56,
          356.7182,
          358.9,
          362.78,
          361.92,
          361.5,
          358.18,
          357.72,
          358.82,
          363.81,
          363.16,
          364.18,
          363.12,
          367.68,
          366.96,
          368.19,
          369.85,
          369.62,
          370.78,
          371.05,
          367.86,
          366.7402,
          369.8,
          369.59,
          369.5782953932,
          370.8727554213,
          371.15,
          378.46,
          368.3317,
          369.62,
          369.03,
          372.59,
          374,
          373.1,
          374.66,
          375.45,
          372.5,
          376.98,
          379.9,
          381.49,
          380.58,
          379.86,
          380.86,
          381.13,
          377.58,
          379.23,
          384.79,
          384.95,
          384.1256,
          384.77,
          385.85,
          380.32,
          381.93,
          376.67,
          377.34,
          383.22,
          383.7,
          386.24,
          388.47
         ],
         "increasing": {
          "line": {
           "color": "#17BECF"
          }
         },
         "low": [
          305.1,
          309.94,
          319.63,
          319.36,
          318.2209,
          300.01,
          298.6,
          296.74,
          307.67,
          310.86,
          309.51,
          306.53,
          306.75,
          311.6101,
          302.1,
          301.28,
          299.42,
          298.93,
          303.82,
          309.0371,
          310.5962,
          312.07,
          313.37,
          312.78,
          310.68,
          312.76,
          314.13,
          312,
          319.27,
          319.09,
          319.74,
          320.62,
          323.94,
          324.5,
          321.48,
          319.246,
          320.775,
          320.85,
          322.075,
          319.64,
          321.33,
          327.73,
          327.86,
          331.18,
          331.13,
          332.3,
          332.955,
          332.01,
          332.8377,
          335.83,
          335.62,
          336.8517,
          336.61,
          336.62,
          335.22,
          337.55,
          339.4504,
          342.27,
          344.17,
          346.53,
          348.15,
          349.06,
          349.24,
          353.43,
          342.59,
          334.87,
          332.88,
          336.61,
          332.85,
          331,
          334.2208,
          338.4683,
          338.52,
          332.991,
          327.97,
          321.73,
          325.86,
          322.1,
          319.8,
          321.64,
          332.15,
          331.6209,
          332.88,
          335.01,
          331.19,
          336.01,
          334.38,
          338.09,
          341.86,
          344.89,
          349.06,
          349.09,
          347.14,
          343.13,
          347.1,
          341.04,
          342.64,
          342.4,
          340.65,
          343.13,
          335.62,
          337.99,
          326.13,
          325.09,
          322.6,
          327.24,
          330.2935,
          339.59,
          348.86,
          347.65,
          354.06,
          350.51,
          355.06,
          351.26,
          354.71,
          359.59,
          358.34,
          356.24,
          354.15,
          355.25,
          354.865,
          359.29,
          361.48,
          362.58,
          359.17,
          364.93,
          364.2,
          365.5,
          367.22,
          367.72,
          367.67,
          365.95,
          364.43,
          363.26,
          364.47,
          365.92,
          367.2956644946,
          369.4687641601,
          367.02,
          362.03,
          366.03,
          367.2172,
          367.45,
          371.07,
          370.83,
          371.57,
          371.232,
          364.82,
          368.05,
          369.12,
          375.91,
          377.1,
          377.7189,
          376.36,
          377.85,
          378.1,
          373.7,
          376.75,
          380.69,
          383.25,
          381.835,
          378.46,
          383.54,
          372.01,
          375.89,
          368.27,
          370.376,
          376.3181,
          380.48,
          381.9655,
          386.1444
         ],
         "name": "Trace 1",
         "open": [
          306.55,
          310.24,
          320.22,
          320.3,
          321.42,
          311.46,
          308.24,
          298.02,
          315.48,
          314.07,
          310.005,
          314.17,
          307.99,
          313.4801,
          309.84,
          303.47,
          306.16,
          301.41,
          303.99,
          309.57,
          314.2379,
          316.37,
          315.38,
          314.61,
          316.84,
          314.31,
          320.13,
          313.3,
          322.41,
          319.79,
          321.88,
          321.43,
          326.45,
          324.62,
          326.47,
          320.95,
          321.63,
          322.43,
          322.12,
          321.9,
          325.9,
          328.32,
          327.86,
          331.47,
          331.4799,
          333.28,
          335.06,
          336.85,
          335.44,
          336.61,
          336.41,
          337.94,
          338.34,
          339.05,
          335.36,
          337.92,
          342.12,
          343.53,
          344.76,
          348.51,
          349.44,
          350.35,
          350.21,
          354.67,
          355.87,
          346.13,
          336.71,
          337.55,
          341.82,
          335.82,
          337.49,
          341.12,
          341.51,
          333.56,
          335.37,
          325.7,
          328.57,
          330.9,
          321.22,
          322.58,
          333.22,
          333.97,
          333.09,
          337.69,
          331.7,
          336.06,
          339.91,
          338.12,
          342.85,
          345.56,
          349.59,
          352.28,
          350.75,
          343.71,
          348.96,
          348.65,
          343.46,
          343.33,
          342.96,
          345.93,
          342.13,
          339.76,
          332.1,
          326.91,
          328.28,
          330.2,
          333.69,
          340.86,
          349.24,
          349.93,
          363.97,
          353.49,
          356.4,
          355.58,
          355.27,
          360.98,
          359.97,
          360.91,
          355.6,
          357.5,
          357.28,
          360.21,
          363.13,
          363.84,
          362.83,
          365.57,
          364.82,
          366.68,
          367.32,
          369.02,
          367.72,
          370.88,
          365.37,
          364.9,
          368.64,
          367.4,
          368.2440058259,
          370.3549714101,
          370.97,
          364.97,
          368.21,
          368.28,
          368.08,
          371.74,
          373.81,
          372.34,
          371.78,
          375.31,
          368.1,
          369.71,
          376.1,
          380.59,
          377.85,
          378.89,
          378.69,
          380.59,
          376.72,
          378.34,
          381.11,
          384.49,
          382.25,
          383.67,
          385.41,
          380.22,
          376.36,
          375.63,
          373.72,
          379.65,
          382.435,
          382.96,
          388.2
         ],
         "showlegend": true,
         "type": "candlestick",
         "x": [
          0,
          1,
          2,
          3,
          4,
          5,
          6,
          7,
          8,
          9,
          10,
          11,
          12,
          13,
          14,
          15,
          16,
          17,
          18,
          19,
          20,
          21,
          22,
          23,
          24,
          25,
          26,
          27,
          28,
          29,
          30,
          31,
          32,
          33,
          34,
          35,
          36,
          37,
          38,
          39,
          40,
          41,
          42,
          43,
          44,
          45,
          46,
          47,
          48,
          49,
          50,
          51,
          52,
          53,
          54,
          55,
          56,
          57,
          58,
          59,
          60,
          61,
          62,
          63,
          64,
          65,
          66,
          67,
          68,
          69,
          70,
          71,
          72,
          73,
          74,
          75,
          76,
          77,
          78,
          79,
          80,
          81,
          82,
          83,
          84,
          85,
          86,
          87,
          88,
          89,
          90,
          91,
          92,
          93,
          94,
          95,
          96,
          97,
          98,
          99,
          100,
          101,
          102,
          103,
          104,
          105,
          106,
          107,
          108,
          109,
          110,
          111,
          112,
          113,
          114,
          115,
          116,
          117,
          118,
          119,
          120,
          121,
          122,
          123,
          124,
          125,
          126,
          127,
          128,
          129,
          130,
          131,
          132,
          133,
          134,
          135,
          136,
          137,
          138,
          139,
          140,
          141,
          142,
          143,
          144,
          145,
          146,
          147,
          148,
          149,
          150,
          151,
          152,
          153,
          154,
          155,
          156,
          157,
          158,
          159,
          160,
          161,
          162,
          163,
          164,
          165,
          166,
          167,
          168,
          169,
          170
         ],
         "yaxis": "y2"
        }
       ],
       "layout": {
        "legend": {
         "bgcolor": "#242424",
         "font": {
          "color": "#F4F4F4"
         },
         "orientation": "h",
         "x": 0.3,
         "y": -0.5,
         "yanchor": "bottom"
        },
        "margin": {
         "b": 30,
         "l": 30,
         "r": 30,
         "t": 30
        },
        "paper_bgcolor": "#242424",
        "plot_bgcolor": "#242424",
        "showlegend": true,
        "template": {
         "data": {
          "bar": [
           {
            "error_x": {
             "color": "#2a3f5f"
            },
            "error_y": {
             "color": "#2a3f5f"
            },
            "marker": {
             "line": {
              "color": "#E5ECF6",
              "width": 0.5
             }
            },
            "type": "bar"
           }
          ],
          "barpolar": [
           {
            "marker": {
             "line": {
              "color": "#E5ECF6",
              "width": 0.5
             }
            },
            "type": "barpolar"
           }
          ],
          "carpet": [
           {
            "aaxis": {
             "endlinecolor": "#2a3f5f",
             "gridcolor": "white",
             "linecolor": "white",
             "minorgridcolor": "white",
             "startlinecolor": "#2a3f5f"
            },
            "baxis": {
             "endlinecolor": "#2a3f5f",
             "gridcolor": "white",
             "linecolor": "white",
             "minorgridcolor": "white",
             "startlinecolor": "#2a3f5f"
            },
            "type": "carpet"
           }
          ],
          "choropleth": [
           {
            "colorbar": {
             "outlinewidth": 0,
             "ticks": ""
            },
            "type": "choropleth"
           }
          ],
          "contour": [
           {
            "colorbar": {
             "outlinewidth": 0,
             "ticks": ""
            },
            "colorscale": [
             [
              0,
              "#0d0887"
             ],
             [
              0.1111111111111111,
              "#46039f"
             ],
             [
              0.2222222222222222,
              "#7201a8"
             ],
             [
              0.3333333333333333,
              "#9c179e"
             ],
             [
              0.4444444444444444,
              "#bd3786"
             ],
             [
              0.5555555555555556,
              "#d8576b"
             ],
             [
              0.6666666666666666,
              "#ed7953"
             ],
             [
              0.7777777777777778,
              "#fb9f3a"
             ],
             [
              0.8888888888888888,
              "#fdca26"
             ],
             [
              1,
              "#f0f921"
             ]
            ],
            "type": "contour"
           }
          ],
          "contourcarpet": [
           {
            "colorbar": {
             "outlinewidth": 0,
             "ticks": ""
            },
            "type": "contourcarpet"
           }
          ],
          "heatmap": [
           {
            "colorbar": {
             "outlinewidth": 0,
             "ticks": ""
            },
            "colorscale": [
             [
              0,
              "#0d0887"
             ],
             [
              0.1111111111111111,
              "#46039f"
             ],
             [
              0.2222222222222222,
              "#7201a8"
             ],
             [
              0.3333333333333333,
              "#9c179e"
             ],
             [
              0.4444444444444444,
              "#bd3786"
             ],
             [
              0.5555555555555556,
              "#d8576b"
             ],
             [
              0.6666666666666666,
              "#ed7953"
             ],
             [
              0.7777777777777778,
              "#fb9f3a"
             ],
             [
              0.8888888888888888,
              "#fdca26"
             ],
             [
              1,
              "#f0f921"
             ]
            ],
            "type": "heatmap"
           }
          ],
          "heatmapgl": [
           {
            "colorbar": {
             "outlinewidth": 0,
             "ticks": ""
            },
            "colorscale": [
             [
              0,
              "#0d0887"
             ],
             [
              0.1111111111111111,
              "#46039f"
             ],
             [
              0.2222222222222222,
              "#7201a8"
             ],
             [
              0.3333333333333333,
              "#9c179e"
             ],
             [
              0.4444444444444444,
              "#bd3786"
             ],
             [
              0.5555555555555556,
              "#d8576b"
             ],
             [
              0.6666666666666666,
              "#ed7953"
             ],
             [
              0.7777777777777778,
              "#fb9f3a"
             ],
             [
              0.8888888888888888,
              "#fdca26"
             ],
             [
              1,
              "#f0f921"
             ]
            ],
            "type": "heatmapgl"
           }
          ],
          "histogram": [
           {
            "marker": {
             "colorbar": {
              "outlinewidth": 0,
              "ticks": ""
             }
            },
            "type": "histogram"
           }
          ],
          "histogram2d": [
           {
            "colorbar": {
             "outlinewidth": 0,
             "ticks": ""
            },
            "colorscale": [
             [
              0,
              "#0d0887"
             ],
             [
              0.1111111111111111,
              "#46039f"
             ],
             [
              0.2222222222222222,
              "#7201a8"
             ],
             [
              0.3333333333333333,
              "#9c179e"
             ],
             [
              0.4444444444444444,
              "#bd3786"
             ],
             [
              0.5555555555555556,
              "#d8576b"
             ],
             [
              0.6666666666666666,
              "#ed7953"
             ],
             [
              0.7777777777777778,
              "#fb9f3a"
             ],
             [
              0.8888888888888888,
              "#fdca26"
             ],
             [
              1,
              "#f0f921"
             ]
            ],
            "type": "histogram2d"
           }
          ],
          "histogram2dcontour": [
           {
            "colorbar": {
             "outlinewidth": 0,
             "ticks": ""
            },
            "colorscale": [
             [
              0,
              "#0d0887"
             ],
             [
              0.1111111111111111,
              "#46039f"
             ],
             [
              0.2222222222222222,
              "#7201a8"
             ],
             [
              0.3333333333333333,
              "#9c179e"
             ],
             [
              0.4444444444444444,
              "#bd3786"
             ],
             [
              0.5555555555555556,
              "#d8576b"
             ],
             [
              0.6666666666666666,
              "#ed7953"
             ],
             [
              0.7777777777777778,
              "#fb9f3a"
             ],
             [
              0.8888888888888888,
              "#fdca26"
             ],
             [
              1,
              "#f0f921"
             ]
            ],
            "type": "histogram2dcontour"
           }
          ],
          "mesh3d": [
           {
            "colorbar": {
             "outlinewidth": 0,
             "ticks": ""
            },
            "type": "mesh3d"
           }
          ],
          "parcoords": [
           {
            "line": {
             "colorbar": {
              "outlinewidth": 0,
              "ticks": ""
             }
            },
            "type": "parcoords"
           }
          ],
          "pie": [
           {
            "automargin": true,
            "type": "pie"
           }
          ],
          "scatter": [
           {
            "marker": {
             "colorbar": {
              "outlinewidth": 0,
              "ticks": ""
             }
            },
            "type": "scatter"
           }
          ],
          "scatter3d": [
           {
            "line": {
             "colorbar": {
              "outlinewidth": 0,
              "ticks": ""
             }
            },
            "marker": {
             "colorbar": {
              "outlinewidth": 0,
              "ticks": ""
             }
            },
            "type": "scatter3d"
           }
          ],
          "scattercarpet": [
           {
            "marker": {
             "colorbar": {
              "outlinewidth": 0,
              "ticks": ""
             }
            },
            "type": "scattercarpet"
           }
          ],
          "scattergeo": [
           {
            "marker": {
             "colorbar": {
              "outlinewidth": 0,
              "ticks": ""
             }
            },
            "type": "scattergeo"
           }
          ],
          "scattergl": [
           {
            "marker": {
             "colorbar": {
              "outlinewidth": 0,
              "ticks": ""
             }
            },
            "type": "scattergl"
           }
          ],
          "scattermapbox": [
           {
            "marker": {
             "colorbar": {
              "outlinewidth": 0,
              "ticks": ""
             }
            },
            "type": "scattermapbox"
           }
          ],
          "scatterpolar": [
           {
            "marker": {
             "colorbar": {
              "outlinewidth": 0,
              "ticks": ""
             }
            },
            "type": "scatterpolar"
           }
          ],
          "scatterpolargl": [
           {
            "marker": {
             "colorbar": {
              "outlinewidth": 0,
              "ticks": ""
             }
            },
            "type": "scatterpolargl"
           }
          ],
          "scatterternary": [
           {
            "marker": {
             "colorbar": {
              "outlinewidth": 0,
              "ticks": ""
             }
            },
            "type": "scatterternary"
           }
          ],
          "surface": [
           {
            "colorbar": {
             "outlinewidth": 0,
             "ticks": ""
            },
            "colorscale": [
             [
              0,
              "#0d0887"
             ],
             [
              0.1111111111111111,
              "#46039f"
             ],
             [
              0.2222222222222222,
              "#7201a8"
             ],
             [
              0.3333333333333333,
              "#9c179e"
             ],
             [
              0.4444444444444444,
              "#bd3786"
             ],
             [
              0.5555555555555556,
              "#d8576b"
             ],
             [
              0.6666666666666666,
              "#ed7953"
             ],
             [
              0.7777777777777778,
              "#fb9f3a"
             ],
             [
              0.8888888888888888,
              "#fdca26"
             ],
             [
              1,
              "#f0f921"
             ]
            ],
            "type": "surface"
           }
          ],
          "table": [
           {
            "cells": {
             "fill": {
              "color": "#EBF0F8"
             },
             "line": {
              "color": "white"
             }
            },
            "header": {
             "fill": {
              "color": "#C8D4E3"
             },
             "line": {
              "color": "white"
             }
            },
            "type": "table"
           }
          ]
         },
         "layout": {
          "annotationdefaults": {
           "arrowcolor": "#2a3f5f",
           "arrowhead": 0,
           "arrowwidth": 1
          },
          "autotypenumbers": "strict",
          "coloraxis": {
           "colorbar": {
            "outlinewidth": 0,
            "ticks": ""
           }
          },
          "colorscale": {
           "diverging": [
            [
             0,
             "#8e0152"
            ],
            [
             0.1,
             "#c51b7d"
            ],
            [
             0.2,
             "#de77ae"
            ],
            [
             0.3,
             "#f1b6da"
            ],
            [
             0.4,
             "#fde0ef"
            ],
            [
             0.5,
             "#f7f7f7"
            ],
            [
             0.6,
             "#e6f5d0"
            ],
            [
             0.7,
             "#b8e186"
            ],
            [
             0.8,
             "#7fbc41"
            ],
            [
             0.9,
             "#4d9221"
            ],
            [
             1,
             "#276419"
            ]
           ],
           "sequential": [
            [
             0,
             "#0d0887"
            ],
            [
             0.1111111111111111,
             "#46039f"
            ],
            [
             0.2222222222222222,
             "#7201a8"
            ],
            [
             0.3333333333333333,
             "#9c179e"
            ],
            [
             0.4444444444444444,
             "#bd3786"
            ],
            [
             0.5555555555555556,
             "#d8576b"
            ],
            [
             0.6666666666666666,
             "#ed7953"
            ],
            [
             0.7777777777777778,
             "#fb9f3a"
            ],
            [
             0.8888888888888888,
             "#fdca26"
            ],
            [
             1,
             "#f0f921"
            ]
           ],
           "sequentialminus": [
            [
             0,
             "#0d0887"
            ],
            [
             0.1111111111111111,
             "#46039f"
            ],
            [
             0.2222222222222222,
             "#7201a8"
            ],
            [
             0.3333333333333333,
             "#9c179e"
            ],
            [
             0.4444444444444444,
             "#bd3786"
            ],
            [
             0.5555555555555556,
             "#d8576b"
            ],
            [
             0.6666666666666666,
             "#ed7953"
            ],
            [
             0.7777777777777778,
             "#fb9f3a"
            ],
            [
             0.8888888888888888,
             "#fdca26"
            ],
            [
             1,
             "#f0f921"
            ]
           ]
          },
          "colorway": [
           "#636efa",
           "#EF553B",
           "#00cc96",
           "#ab63fa",
           "#FFA15A",
           "#19d3f3",
           "#FF6692",
           "#B6E880",
           "#FF97FF",
           "#FECB52"
          ],
          "font": {
           "color": "#2a3f5f"
          },
          "geo": {
           "bgcolor": "white",
           "lakecolor": "white",
           "landcolor": "#E5ECF6",
           "showlakes": true,
           "showland": true,
           "subunitcolor": "white"
          },
          "hoverlabel": {
           "align": "left"
          },
          "hovermode": "closest",
          "mapbox": {
           "style": "light"
          },
          "paper_bgcolor": "white",
          "plot_bgcolor": "#E5ECF6",
          "polar": {
           "angularaxis": {
            "gridcolor": "white",
            "linecolor": "white",
            "ticks": ""
           },
           "bgcolor": "#E5ECF6",
           "radialaxis": {
            "gridcolor": "white",
            "linecolor": "white",
            "ticks": ""
           }
          },
          "scene": {
           "xaxis": {
            "backgroundcolor": "#E5ECF6",
            "gridcolor": "white",
            "gridwidth": 2,
            "linecolor": "white",
            "showbackground": true,
            "ticks": "",
            "zerolinecolor": "white"
           },
           "yaxis": {
            "backgroundcolor": "#E5ECF6",
            "gridcolor": "white",
            "gridwidth": 2,
            "linecolor": "white",
            "showbackground": true,
            "ticks": "",
            "zerolinecolor": "white"
           },
           "zaxis": {
            "backgroundcolor": "#E5ECF6",
            "gridcolor": "white",
            "gridwidth": 2,
            "linecolor": "white",
            "showbackground": true,
            "ticks": "",
            "zerolinecolor": "white"
           }
          },
          "shapedefaults": {
           "line": {
            "color": "#2a3f5f"
           }
          },
          "ternary": {
           "aaxis": {
            "gridcolor": "white",
            "linecolor": "white",
            "ticks": ""
           },
           "baxis": {
            "gridcolor": "white",
            "linecolor": "white",
            "ticks": ""
           },
           "bgcolor": "#E5ECF6",
           "caxis": {
            "gridcolor": "white",
            "linecolor": "white",
            "ticks": ""
           }
          },
          "title": {
           "x": 0.05
          },
          "xaxis": {
           "automargin": true,
           "gridcolor": "white",
           "linecolor": "white",
           "ticks": "",
           "title": {
            "standoff": 15
           },
           "zerolinecolor": "white",
           "zerolinewidth": 2
          },
          "yaxis": {
           "automargin": true,
           "gridcolor": "white",
           "linecolor": "white",
           "ticks": "",
           "title": {
            "standoff": 15
           },
           "zerolinecolor": "white",
           "zerolinewidth": 2
          }
         }
        },
        "title": {
         "font": {
          "color": "#F4F4F4"
         }
        },
        "xaxis": {
         "anchor": "y2",
         "gridcolor": "#343434",
         "rangeselector": {
          "bgcolor": "rgba(150, 200, 250, 1)",
          "buttons": [
           {
            "count": 1,
            "label": "1m",
            "step": "month",
            "stepmode": "backward"
           },
           {
            "count": 1,
            "label": "1y",
            "step": "year",
            "stepmode": "backward"
           }
          ],
          "font": {
           "size": 13
          },
          "visible": false,
          "x": 0,
          "y": 0.9
         },
         "rangeslider": {
          "visible": false
         },
         "showgrid": true,
         "tickfont": {
          "color": "#A4A4A4"
         },
         "title": {
          "font": {
           "color": "#A4A4A4"
          },
          "text": ""
         },
         "zerolinecolor": "#444444"
        },
        "yaxis": {
         "gridcolor": "#343434",
         "showgrid": true,
         "showticklabels": false,
         "tickfont": {
          "color": "#A4A4A4"
         },
         "title": {
          "font": {
           "color": "#A4A4A4"
          },
          "text": ""
         },
         "zerolinecolor": "#444444"
        },
        "yaxis2": {
         "domain": [
          0.23,
          0.9
         ],
         "gridcolor": "#343434",
         "showgrid": true,
         "tickfont": {
          "color": "#A4A4A4"
         },
         "title": {
          "font": {
           "color": "#A4A4A4"
          },
          "text": ""
         },
         "zerolinecolor": "#444444"
        },
        "yaxis3": {
         "domain": [
          0,
          0.15
         ],
         "gridcolor": "#343434",
         "showgrid": true,
         "tickfont": {
          "color": "#A4A4A4"
         },
         "title": {
          "font": {
           "color": "#A4A4A4"
          },
          "text": ""
         },
         "zerolinecolor": "#444444"
        }
       }
      },
      "text/html": [
       "<div>                            <div id=\"eba91ea1-b600-4999-a19b-f836c94b2976\" class=\"plotly-graph-div\" style=\"height:525px; width:100%;\"></div>            <script type=\"text/javascript\">                require([\"plotly\"], function(Plotly) {                    window.PLOTLYENV=window.PLOTLYENV || {};\n",
       "                    window.PLOTLYENV.BASE_URL='https://plot.ly';                                    if (document.getElementById(\"eba91ea1-b600-4999-a19b-f836c94b2976\")) {                    Plotly.newPlot(                        \"eba91ea1-b600-4999-a19b-f836c94b2976\",                        [{\"marker\": {\"color\": [\"#808080\", \"#17BECF\", \"#17BECF\", \"#808080\", \"#808080\", \"#808080\", \"#17BECF\", \"#17BECF\", \"#17BECF\", \"#808080\", \"#17BECF\", \"#808080\", \"#17BECF\", \"#17BECF\", \"#808080\", \"#17BECF\", \"#808080\", \"#17BECF\", \"#17BECF\", \"#17BECF\", \"#17BECF\", \"#17BECF\", \"#808080\", \"#17BECF\", \"#808080\", \"#17BECF\", \"#808080\", \"#17BECF\", \"#17BECF\", \"#808080\", \"#17BECF\", \"#17BECF\", \"#17BECF\", \"#17BECF\", \"#808080\", \"#808080\", \"#17BECF\", \"#808080\", \"#17BECF\", \"#808080\", \"#17BECF\", \"#17BECF\", \"#17BECF\", \"#17BECF\", \"#17BECF\", \"#17BECF\", \"#17BECF\", \"#808080\", \"#17BECF\", \"#808080\", \"#17BECF\", \"#17BECF\", \"#17BECF\", \"#808080\", \"#17BECF\", \"#17BECF\", \"#17BECF\", \"#17BECF\", \"#17BECF\", \"#17BECF\", \"#17BECF\", \"#808080\", \"#17BECF\", \"#17BECF\", \"#808080\", \"#808080\", \"#808080\", \"#17BECF\", \"#808080\", \"#17BECF\", \"#17BECF\", \"#17BECF\", \"#808080\", \"#808080\", \"#808080\", \"#808080\", \"#17BECF\", \"#808080\", \"#17BECF\", \"#17BECF\", \"#17BECF\", \"#808080\", \"#17BECF\", \"#17BECF\", \"#808080\", \"#17BECF\", \"#808080\", \"#17BECF\", \"#17BECF\", \"#17BECF\", \"#17BECF\", \"#808080\", \"#808080\", \"#808080\", \"#808080\", \"#808080\", \"#17BECF\", \"#808080\", \"#17BECF\", \"#17BECF\", \"#808080\", \"#808080\", \"#808080\", \"#17BECF\", \"#808080\", \"#17BECF\", \"#17BECF\", \"#17BECF\", \"#17BECF\", \"#808080\", \"#17BECF\", \"#808080\", \"#17BECF\", \"#808080\", \"#17BECF\", \"#17BECF\", \"#808080\", \"#808080\", \"#17BECF\", \"#808080\", \"#17BECF\", \"#17BECF\", \"#808080\", \"#17BECF\", \"#808080\", \"#17BECF\", \"#17BECF\", \"#808080\", \"#17BECF\", \"#808080\", \"#17BECF\", \"#808080\", \"#808080\", \"#808080\", \"#808080\", \"#17BECF\", \"#808080\", \"#17BECF\", \"#808080\", \"#808080\", \"#808080\", \"#17BECF\", \"#17BECF\", \"#17BECF\", \"#808080\", \"#17BECF\", \"#17BECF\", \"#808080\", \"#17BECF\", \"#17BECF\", \"#17BECF\", \"#17BECF\", \"#808080\", \"#17BECF\", \"#17BECF\", \"#808080\", \"#808080\", \"#17BECF\", \"#17BECF\", \"#17BECF\", \"#808080\", \"#17BECF\", \"#808080\", \"#808080\", \"#17BECF\", \"#808080\", \"#17BECF\", \"#17BECF\", \"#17BECF\", \"#17BECF\", \"#17BECF\"], \"line\": {\"color\": [\"#808080\", \"#17BECF\", \"#17BECF\", \"#808080\", \"#808080\", \"#808080\", \"#17BECF\", \"#17BECF\", \"#17BECF\", \"#808080\", \"#17BECF\", \"#808080\", \"#17BECF\", \"#17BECF\", \"#808080\", \"#17BECF\", \"#808080\", \"#17BECF\", \"#17BECF\", \"#17BECF\", \"#17BECF\", \"#17BECF\", \"#808080\", \"#17BECF\", \"#808080\", \"#17BECF\", \"#808080\", \"#17BECF\", \"#17BECF\", \"#808080\", \"#17BECF\", \"#17BECF\", \"#17BECF\", \"#17BECF\", \"#808080\", \"#808080\", \"#17BECF\", \"#808080\", \"#17BECF\", \"#808080\", \"#17BECF\", \"#17BECF\", \"#17BECF\", \"#17BECF\", \"#17BECF\", \"#17BECF\", \"#17BECF\", \"#808080\", \"#17BECF\", \"#808080\", \"#17BECF\", \"#17BECF\", \"#17BECF\", \"#808080\", \"#17BECF\", \"#17BECF\", \"#17BECF\", \"#17BECF\", \"#17BECF\", \"#17BECF\", \"#17BECF\", \"#808080\", \"#17BECF\", \"#17BECF\", \"#808080\", \"#808080\", \"#808080\", \"#17BECF\", \"#808080\", \"#17BECF\", \"#17BECF\", \"#17BECF\", \"#808080\", \"#808080\", \"#808080\", \"#808080\", \"#17BECF\", \"#808080\", \"#17BECF\", \"#17BECF\", \"#17BECF\", \"#808080\", \"#17BECF\", \"#17BECF\", \"#808080\", \"#17BECF\", \"#808080\", \"#17BECF\", \"#17BECF\", \"#17BECF\", \"#17BECF\", \"#808080\", \"#808080\", \"#808080\", \"#808080\", \"#808080\", \"#17BECF\", \"#808080\", \"#17BECF\", \"#17BECF\", \"#808080\", \"#808080\", \"#808080\", \"#17BECF\", \"#808080\", \"#17BECF\", \"#17BECF\", \"#17BECF\", \"#17BECF\", \"#808080\", \"#17BECF\", \"#808080\", \"#17BECF\", \"#808080\", \"#17BECF\", \"#17BECF\", \"#808080\", \"#808080\", \"#17BECF\", \"#808080\", \"#17BECF\", \"#17BECF\", \"#808080\", \"#17BECF\", \"#808080\", \"#17BECF\", \"#17BECF\", \"#808080\", \"#17BECF\", \"#808080\", \"#17BECF\", \"#808080\", \"#808080\", \"#808080\", \"#808080\", \"#17BECF\", \"#808080\", \"#17BECF\", \"#808080\", \"#808080\", \"#808080\", \"#17BECF\", \"#17BECF\", \"#17BECF\", \"#808080\", \"#17BECF\", \"#17BECF\", \"#808080\", \"#17BECF\", \"#17BECF\", \"#17BECF\", \"#17BECF\", \"#808080\", \"#17BECF\", \"#17BECF\", \"#808080\", \"#808080\", \"#17BECF\", \"#17BECF\", \"#17BECF\", \"#808080\", \"#17BECF\", \"#808080\", \"#808080\", \"#17BECF\", \"#808080\", \"#17BECF\", \"#17BECF\", \"#17BECF\", \"#17BECF\", \"#17BECF\"], \"width\": 1}}, \"name\": \"volume\", \"opacity\": 0.8, \"orientation\": \"v\", \"text\": \"\", \"type\": \"bar\", \"x\": [0, 1, 2, 3, 4, 5, 6, 7, 8, 9, 10, 11, 12, 13, 14, 15, 16, 17, 18, 19, 20, 21, 22, 23, 24, 25, 26, 27, 28, 29, 30, 31, 32, 33, 34, 35, 36, 37, 38, 39, 40, 41, 42, 43, 44, 45, 46, 47, 48, 49, 50, 51, 52, 53, 54, 55, 56, 57, 58, 59, 60, 61, 62, 63, 64, 65, 66, 67, 68, 69, 70, 71, 72, 73, 74, 75, 76, 77, 78, 79, 80, 81, 82, 83, 84, 85, 86, 87, 88, 89, 90, 91, 92, 93, 94, 95, 96, 97, 98, 99, 100, 101, 102, 103, 104, 105, 106, 107, 108, 109, 110, 111, 112, 113, 114, 115, 116, 117, 118, 119, 120, 121, 122, 123, 124, 125, 126, 127, 128, 129, 130, 131, 132, 133, 134, 135, 136, 137, 138, 139, 140, 141, 142, 143, 144, 145, 146, 147, 148, 149, 150, 151, 152, 153, 154, 155, 156, 157, 158, 159, 160, 161, 162, 163, 164, 165, 166, 167, 168, 169, 170], \"y\": [73635043.0, 91750087.0, 73310274.0, 77174695.0, 93944722.0, 208285190.0, 194450402.0, 134968796.0, 137048347.0, 82814592.0, 80355844.0, 135211345.0, 74007212.0, 68066900.0, 132067392.0, 88966079.0, 127811745.0, 79411577.0, 112828251.0, 71910372.0, 69214995.0, 61149300.0, 82583400.0, 54202600.0, 83079100.0, 57454400.0, 102549100.0, 92791800.0, 86921500.0, 54433400.0, 64421800.0, 56150200.0, 57245300.0, 57544500.0, 75737989.0, 73766597.0, 48292970.0, 57494979.0, 48454159.0, 61861714.0, 85210755.0, 53077948.0, 41917893.0, 42866354.0, 43679447.0, 57308270.0, 44282089.0, 67704989.0, 52884492.0, 40778328.0, 46035471.0, 34496002.0, 38193346.0, 66291372.0, 40390752.0, 53605220.0, 47645499.0, 37631625.0, 49824710.0, 57205489.0, 46660821.0, 62786403.0, 53977571.0, 67788595.0, 144100270.0, 134347975.0, 110806934.0, 91462290.0, 90569548.0, 82233711.0, 64837761.0, 51829924.0, 80058487.0, 90036995.0, 100972634.0, 96818276.0, 62341940.0, 93112240.0, 76681332.0, 71069426.0, 64584614.0, 51531594.0, 104081136.0, 88698745.0, 89431112.0, 45713108.0, 90128883.0, 56999597.0, 45242476.0, 59528606.0, 80388533.0, 73255513.0, 57958749.0, 60357659.0, 89501868.0, 68425614.0, 60051880.0, 63574979.0, 55399292.0, 49143931.0, 91473002.0, 65994108.0, 127094307.0, 90597689.0, 120448685.0, 86068299.0, 93294192.0, 126959700.0, 82039749.0, 74972973.0, 172304203.0, 85552022.0, 58649048.0, 68118563.0, 62959429.0, 74541138.0, 66111009.0, 70591299.0, 59940947.0, 70411890.0, 63230608.0, 60985003.0, 45330890.0, 28514072.0, 83872709.0, 72509670.0, 45927000.0, 62881998.0, 50749859.0, 48944269.0, 42458859.0, 74098312.0, 57735353.0, 57698614.0, 69216174.0, 64071099.0, 58420517.0, 64119472.0, 136542328.0, 96386745.0, 48388462.0, 46201402.0, 26457853.0, 37932709.0, 53680451.0, 49455259.0, 78520702.0, 110210810.0, 66426229.0, 107997675.0, 68766812.0, 71677208.0, 51176719.0, 51440114.0, 45303619.0, 49989113.0, 107159962.0, 51233300.0, 61836062.0, 47955809.0, 52136931.0, 70401971.0, 42665281.0, 123351078.0, 94198104.0, 126765121.0, 75817597.0, 62923781.0, 52427090.0, 47142555.0, 48669773.0], \"yaxis\": \"y3\"}, {\"close\": [308.08, 312.18, 323.2, 320.79, 319.0, 300.61, 304.21, 307.05, 312.96, 311.66, 311.78, 308.64, 310.62, 312.05, 304.09, 307.35, 300.05, 304.46, 308.36, 310.57, 312.19, 317.01, 313.77, 316.16, 314.6, 317.59, 314.84, 318.92, 321.85, 320.79, 321.72, 324.32, 325.01, 326.86, 322.96, 320.88, 323.22, 321.17, 325.12, 323.96, 326.52, 328.79, 330.06, 332.11, 334.33, 334.57, 335.57, 332.8, 337.44, 336.83, 336.84, 337.91, 338.64, 337.23, 338.28, 339.48, 342.92, 344.12, 347.57, 348.33, 350.58, 349.31, 352.6, 357.7, 345.39, 342.57, 333.21, 339.79, 333.89, 334.06, 338.46, 340.17, 338.82, 335.84, 330.65, 326.97, 330.3, 322.64, 323.5, 328.73, 334.19, 332.37, 334.89, 337.04, 333.84, 339.76, 334.93, 340.76, 343.78, 346.85, 352.43, 350.13, 347.93, 347.5, 347.29, 342.01, 343.38, 342.73, 344.61, 345.78, 339.39, 338.22, 326.66, 329.98, 326.54, 330.2, 336.03, 343.54, 350.24, 350.16, 354.56, 354.04, 356.67, 353.21, 358.1, 362.57, 360.62, 356.28, 357.78, 355.33, 357.46, 363.22, 362.66, 363.67, 362.06, 366.02, 366.79, 366.69, 369.85, 369.09, 370.17, 366.85, 366.73, 366.3, 364.66, 369.59, 368.592514295, 370.653692955, 369.18, 367.86, 367.24, 367.57, 369.0, 372.17, 371.46, 371.99, 373.88, 368.79, 371.33, 373.55, 379.1, 381.26, 378.69, 378.77, 379.79, 378.46, 375.7, 378.65, 383.89, 384.24, 382.88, 384.39, 383.79, 374.41, 377.63, 370.07, 376.23, 381.55, 381.85, 386.19, 387.71], \"decreasing\": {\"line\": {\"color\": \"#808080\"}}, \"high\": [308.13, 313.22, 323.41, 323.2849, 322.39, 312.15, 309.08, 308.28, 315.64, 314.39, 312.3, 314.38, 311.05, 314.5, 310.51, 307.64, 306.39, 304.61, 310.2, 311.85, 315.7, 317.24, 317.47, 316.25, 317.13, 317.88, 322.71, 319.76, 323.04, 321.28, 322.57, 325.13, 326.93, 327.2, 327.23, 321.99, 323.41, 323.64, 325.73, 324.41, 326.63, 329.62, 330.06, 332.39, 334.46, 334.88, 335.77, 337.54, 338.28, 338.2514, 337.42, 338.34, 339.1, 339.61, 338.8, 339.72, 343.0, 344.21, 347.86, 349.9, 350.72, 351.3, 352.71, 358.75, 356.38, 347.83, 342.64, 342.46, 342.53, 336.97, 340.38, 342.02, 343.06, 337.6996, 335.49, 327.13, 330.9, 331.2, 326.797, 329.58, 334.96, 334.77, 338.29, 338.74, 337.0126, 339.96, 342.17, 341.63, 343.85, 347.35, 354.02, 352.4651, 351.93, 348.02, 350.75, 349.33, 346.88, 348.6847, 345.24, 345.99, 342.98, 340.12, 338.2483, 333.395, 329.69, 332.36, 338.25, 347.94, 352.19, 351.51, 364.38, 355.18, 357.56, 356.7182, 358.9, 362.78, 361.92, 361.5, 358.18, 357.72, 358.82, 363.81, 363.16, 364.18, 363.12, 367.68, 366.96, 368.19, 369.85, 369.62, 370.78, 371.05, 367.86, 366.7402, 369.8, 369.59, 369.5782953932, 370.8727554213, 371.15, 378.46, 368.3317, 369.62, 369.03, 372.59, 374.0, 373.1, 374.66, 375.45, 372.5, 376.98, 379.9, 381.49, 380.58, 379.86, 380.86, 381.13, 377.58, 379.23, 384.79, 384.95, 384.1256, 384.77, 385.85, 380.32, 381.93, 376.67, 377.34, 383.22, 383.7, 386.24, 388.47], \"increasing\": {\"line\": {\"color\": \"#17BECF\"}}, \"low\": [305.1, 309.94, 319.63, 319.36, 318.2209, 300.01, 298.6, 296.74, 307.67, 310.86, 309.51, 306.53, 306.75, 311.6101, 302.1, 301.28, 299.42, 298.93, 303.82, 309.0371, 310.5962, 312.07, 313.37, 312.78, 310.68, 312.76, 314.13, 312.0, 319.27, 319.09, 319.74, 320.62, 323.94, 324.5, 321.48, 319.246, 320.775, 320.85, 322.075, 319.64, 321.33, 327.73, 327.86, 331.18, 331.13, 332.3, 332.955, 332.01, 332.8377, 335.83, 335.62, 336.8517, 336.61, 336.62, 335.22, 337.55, 339.4504, 342.27, 344.17, 346.53, 348.15, 349.06, 349.24, 353.43, 342.59, 334.87, 332.88, 336.61, 332.85, 331.0, 334.2208, 338.4683, 338.52, 332.991, 327.97, 321.73, 325.86, 322.1, 319.8, 321.64, 332.15, 331.6209, 332.88, 335.01, 331.19, 336.01, 334.38, 338.09, 341.86, 344.89, 349.06, 349.09, 347.14, 343.13, 347.1, 341.04, 342.64, 342.4, 340.65, 343.13, 335.62, 337.99, 326.13, 325.09, 322.6, 327.24, 330.2935, 339.59, 348.86, 347.65, 354.06, 350.51, 355.06, 351.26, 354.71, 359.59, 358.34, 356.24, 354.15, 355.25, 354.865, 359.29, 361.48, 362.58, 359.17, 364.93, 364.2, 365.5, 367.22, 367.72, 367.67, 365.95, 364.43, 363.26, 364.47, 365.92, 367.2956644946, 369.4687641601, 367.02, 362.03, 366.03, 367.2172, 367.45, 371.07, 370.83, 371.57, 371.232, 364.82, 368.05, 369.12, 375.91, 377.1, 377.7189, 376.36, 377.85, 378.1, 373.7, 376.75, 380.69, 383.25, 381.835, 378.46, 383.54, 372.01, 375.89, 368.27, 370.376, 376.3181, 380.48, 381.9655, 386.1444], \"name\": \"Trace 1\", \"open\": [306.55, 310.24, 320.22, 320.3, 321.42, 311.46, 308.24, 298.02, 315.48, 314.07, 310.005, 314.17, 307.99, 313.4801, 309.84, 303.47, 306.16, 301.41, 303.99, 309.57, 314.2379, 316.37, 315.38, 314.61, 316.84, 314.31, 320.13, 313.3, 322.41, 319.79, 321.88, 321.43, 326.45, 324.62, 326.47, 320.95, 321.63, 322.43, 322.12, 321.9, 325.9, 328.32, 327.86, 331.47, 331.4799, 333.28, 335.06, 336.85, 335.44, 336.61, 336.41, 337.94, 338.34, 339.05, 335.36, 337.92, 342.12, 343.53, 344.76, 348.51, 349.44, 350.35, 350.21, 354.67, 355.87, 346.13, 336.71, 337.55, 341.82, 335.82, 337.49, 341.12, 341.51, 333.56, 335.37, 325.7, 328.57, 330.9, 321.22, 322.58, 333.22, 333.97, 333.09, 337.69, 331.7, 336.06, 339.91, 338.12, 342.85, 345.56, 349.59, 352.28, 350.75, 343.71, 348.96, 348.65, 343.46, 343.33, 342.96, 345.93, 342.13, 339.76, 332.1, 326.91, 328.28, 330.2, 333.69, 340.86, 349.24, 349.93, 363.97, 353.49, 356.4, 355.58, 355.27, 360.98, 359.97, 360.91, 355.6, 357.5, 357.28, 360.21, 363.13, 363.84, 362.83, 365.57, 364.82, 366.68, 367.32, 369.02, 367.72, 370.88, 365.37, 364.9, 368.64, 367.4, 368.2440058259, 370.3549714101, 370.97, 364.97, 368.21, 368.28, 368.08, 371.74, 373.81, 372.34, 371.78, 375.31, 368.1, 369.71, 376.1, 380.59, 377.85, 378.89, 378.69, 380.59, 376.72, 378.34, 381.11, 384.49, 382.25, 383.67, 385.41, 380.22, 376.36, 375.63, 373.72, 379.65, 382.435, 382.96, 388.2], \"showlegend\": true, \"type\": \"candlestick\", \"x\": [0, 1, 2, 3, 4, 5, 6, 7, 8, 9, 10, 11, 12, 13, 14, 15, 16, 17, 18, 19, 20, 21, 22, 23, 24, 25, 26, 27, 28, 29, 30, 31, 32, 33, 34, 35, 36, 37, 38, 39, 40, 41, 42, 43, 44, 45, 46, 47, 48, 49, 50, 51, 52, 53, 54, 55, 56, 57, 58, 59, 60, 61, 62, 63, 64, 65, 66, 67, 68, 69, 70, 71, 72, 73, 74, 75, 76, 77, 78, 79, 80, 81, 82, 83, 84, 85, 86, 87, 88, 89, 90, 91, 92, 93, 94, 95, 96, 97, 98, 99, 100, 101, 102, 103, 104, 105, 106, 107, 108, 109, 110, 111, 112, 113, 114, 115, 116, 117, 118, 119, 120, 121, 122, 123, 124, 125, 126, 127, 128, 129, 130, 131, 132, 133, 134, 135, 136, 137, 138, 139, 140, 141, 142, 143, 144, 145, 146, 147, 148, 149, 150, 151, 152, 153, 154, 155, 156, 157, 158, 159, 160, 161, 162, 163, 164, 165, 166, 167, 168, 169, 170], \"yaxis\": \"y2\"}],                        {\"legend\": {\"bgcolor\": \"#242424\", \"font\": {\"color\": \"#F4F4F4\"}, \"orientation\": \"h\", \"x\": 0.3, \"y\": -0.5, \"yanchor\": \"bottom\"}, \"margin\": {\"b\": 30, \"l\": 30, \"r\": 30, \"t\": 30}, \"paper_bgcolor\": \"#242424\", \"plot_bgcolor\": \"#242424\", \"showlegend\": true, \"template\": {\"data\": {\"bar\": [{\"error_x\": {\"color\": \"#2a3f5f\"}, \"error_y\": {\"color\": \"#2a3f5f\"}, \"marker\": {\"line\": {\"color\": \"#E5ECF6\", \"width\": 0.5}}, \"type\": \"bar\"}], \"barpolar\": [{\"marker\": {\"line\": {\"color\": \"#E5ECF6\", \"width\": 0.5}}, \"type\": \"barpolar\"}], \"carpet\": [{\"aaxis\": {\"endlinecolor\": \"#2a3f5f\", \"gridcolor\": \"white\", \"linecolor\": \"white\", \"minorgridcolor\": \"white\", \"startlinecolor\": \"#2a3f5f\"}, \"baxis\": {\"endlinecolor\": \"#2a3f5f\", \"gridcolor\": \"white\", \"linecolor\": \"white\", \"minorgridcolor\": \"white\", \"startlinecolor\": \"#2a3f5f\"}, \"type\": \"carpet\"}], \"choropleth\": [{\"colorbar\": {\"outlinewidth\": 0, \"ticks\": \"\"}, \"type\": \"choropleth\"}], \"contour\": [{\"colorbar\": {\"outlinewidth\": 0, \"ticks\": \"\"}, \"colorscale\": [[0.0, \"#0d0887\"], [0.1111111111111111, \"#46039f\"], [0.2222222222222222, \"#7201a8\"], [0.3333333333333333, \"#9c179e\"], [0.4444444444444444, \"#bd3786\"], [0.5555555555555556, \"#d8576b\"], [0.6666666666666666, \"#ed7953\"], [0.7777777777777778, \"#fb9f3a\"], [0.8888888888888888, \"#fdca26\"], [1.0, \"#f0f921\"]], \"type\": \"contour\"}], \"contourcarpet\": [{\"colorbar\": {\"outlinewidth\": 0, \"ticks\": \"\"}, \"type\": \"contourcarpet\"}], \"heatmap\": [{\"colorbar\": {\"outlinewidth\": 0, \"ticks\": \"\"}, \"colorscale\": [[0.0, \"#0d0887\"], [0.1111111111111111, \"#46039f\"], [0.2222222222222222, \"#7201a8\"], [0.3333333333333333, \"#9c179e\"], [0.4444444444444444, \"#bd3786\"], [0.5555555555555556, \"#d8576b\"], [0.6666666666666666, \"#ed7953\"], [0.7777777777777778, \"#fb9f3a\"], [0.8888888888888888, \"#fdca26\"], [1.0, \"#f0f921\"]], \"type\": \"heatmap\"}], \"heatmapgl\": [{\"colorbar\": {\"outlinewidth\": 0, \"ticks\": \"\"}, \"colorscale\": [[0.0, \"#0d0887\"], [0.1111111111111111, \"#46039f\"], [0.2222222222222222, \"#7201a8\"], [0.3333333333333333, \"#9c179e\"], [0.4444444444444444, \"#bd3786\"], [0.5555555555555556, \"#d8576b\"], [0.6666666666666666, \"#ed7953\"], [0.7777777777777778, \"#fb9f3a\"], [0.8888888888888888, \"#fdca26\"], [1.0, \"#f0f921\"]], \"type\": \"heatmapgl\"}], \"histogram\": [{\"marker\": {\"colorbar\": {\"outlinewidth\": 0, \"ticks\": \"\"}}, \"type\": \"histogram\"}], \"histogram2d\": [{\"colorbar\": {\"outlinewidth\": 0, \"ticks\": \"\"}, \"colorscale\": [[0.0, \"#0d0887\"], [0.1111111111111111, \"#46039f\"], [0.2222222222222222, \"#7201a8\"], [0.3333333333333333, \"#9c179e\"], [0.4444444444444444, \"#bd3786\"], [0.5555555555555556, \"#d8576b\"], [0.6666666666666666, \"#ed7953\"], [0.7777777777777778, \"#fb9f3a\"], [0.8888888888888888, \"#fdca26\"], [1.0, \"#f0f921\"]], \"type\": \"histogram2d\"}], \"histogram2dcontour\": [{\"colorbar\": {\"outlinewidth\": 0, \"ticks\": \"\"}, \"colorscale\": [[0.0, \"#0d0887\"], [0.1111111111111111, \"#46039f\"], [0.2222222222222222, \"#7201a8\"], [0.3333333333333333, \"#9c179e\"], [0.4444444444444444, \"#bd3786\"], [0.5555555555555556, \"#d8576b\"], [0.6666666666666666, \"#ed7953\"], [0.7777777777777778, \"#fb9f3a\"], [0.8888888888888888, \"#fdca26\"], [1.0, \"#f0f921\"]], \"type\": \"histogram2dcontour\"}], \"mesh3d\": [{\"colorbar\": {\"outlinewidth\": 0, \"ticks\": \"\"}, \"type\": \"mesh3d\"}], \"parcoords\": [{\"line\": {\"colorbar\": {\"outlinewidth\": 0, \"ticks\": \"\"}}, \"type\": \"parcoords\"}], \"pie\": [{\"automargin\": true, \"type\": \"pie\"}], \"scatter\": [{\"marker\": {\"colorbar\": {\"outlinewidth\": 0, \"ticks\": \"\"}}, \"type\": \"scatter\"}], \"scatter3d\": [{\"line\": {\"colorbar\": {\"outlinewidth\": 0, \"ticks\": \"\"}}, \"marker\": {\"colorbar\": {\"outlinewidth\": 0, \"ticks\": \"\"}}, \"type\": \"scatter3d\"}], \"scattercarpet\": [{\"marker\": {\"colorbar\": {\"outlinewidth\": 0, \"ticks\": \"\"}}, \"type\": \"scattercarpet\"}], \"scattergeo\": [{\"marker\": {\"colorbar\": {\"outlinewidth\": 0, \"ticks\": \"\"}}, \"type\": \"scattergeo\"}], \"scattergl\": [{\"marker\": {\"colorbar\": {\"outlinewidth\": 0, \"ticks\": \"\"}}, \"type\": \"scattergl\"}], \"scattermapbox\": [{\"marker\": {\"colorbar\": {\"outlinewidth\": 0, \"ticks\": \"\"}}, \"type\": \"scattermapbox\"}], \"scatterpolar\": [{\"marker\": {\"colorbar\": {\"outlinewidth\": 0, \"ticks\": \"\"}}, \"type\": \"scatterpolar\"}], \"scatterpolargl\": [{\"marker\": {\"colorbar\": {\"outlinewidth\": 0, \"ticks\": \"\"}}, \"type\": \"scatterpolargl\"}], \"scatterternary\": [{\"marker\": {\"colorbar\": {\"outlinewidth\": 0, \"ticks\": \"\"}}, \"type\": \"scatterternary\"}], \"surface\": [{\"colorbar\": {\"outlinewidth\": 0, \"ticks\": \"\"}, \"colorscale\": [[0.0, \"#0d0887\"], [0.1111111111111111, \"#46039f\"], [0.2222222222222222, \"#7201a8\"], [0.3333333333333333, \"#9c179e\"], [0.4444444444444444, \"#bd3786\"], [0.5555555555555556, \"#d8576b\"], [0.6666666666666666, \"#ed7953\"], [0.7777777777777778, \"#fb9f3a\"], [0.8888888888888888, \"#fdca26\"], [1.0, \"#f0f921\"]], \"type\": \"surface\"}], \"table\": [{\"cells\": {\"fill\": {\"color\": \"#EBF0F8\"}, \"line\": {\"color\": \"white\"}}, \"header\": {\"fill\": {\"color\": \"#C8D4E3\"}, \"line\": {\"color\": \"white\"}}, \"type\": \"table\"}]}, \"layout\": {\"annotationdefaults\": {\"arrowcolor\": \"#2a3f5f\", \"arrowhead\": 0, \"arrowwidth\": 1}, \"autotypenumbers\": \"strict\", \"coloraxis\": {\"colorbar\": {\"outlinewidth\": 0, \"ticks\": \"\"}}, \"colorscale\": {\"diverging\": [[0, \"#8e0152\"], [0.1, \"#c51b7d\"], [0.2, \"#de77ae\"], [0.3, \"#f1b6da\"], [0.4, \"#fde0ef\"], [0.5, \"#f7f7f7\"], [0.6, \"#e6f5d0\"], [0.7, \"#b8e186\"], [0.8, \"#7fbc41\"], [0.9, \"#4d9221\"], [1, \"#276419\"]], \"sequential\": [[0.0, \"#0d0887\"], [0.1111111111111111, \"#46039f\"], [0.2222222222222222, \"#7201a8\"], [0.3333333333333333, \"#9c179e\"], [0.4444444444444444, \"#bd3786\"], [0.5555555555555556, \"#d8576b\"], [0.6666666666666666, \"#ed7953\"], [0.7777777777777778, \"#fb9f3a\"], [0.8888888888888888, \"#fdca26\"], [1.0, \"#f0f921\"]], \"sequentialminus\": [[0.0, \"#0d0887\"], [0.1111111111111111, \"#46039f\"], [0.2222222222222222, \"#7201a8\"], [0.3333333333333333, \"#9c179e\"], [0.4444444444444444, \"#bd3786\"], [0.5555555555555556, \"#d8576b\"], [0.6666666666666666, \"#ed7953\"], [0.7777777777777778, \"#fb9f3a\"], [0.8888888888888888, \"#fdca26\"], [1.0, \"#f0f921\"]]}, \"colorway\": [\"#636efa\", \"#EF553B\", \"#00cc96\", \"#ab63fa\", \"#FFA15A\", \"#19d3f3\", \"#FF6692\", \"#B6E880\", \"#FF97FF\", \"#FECB52\"], \"font\": {\"color\": \"#2a3f5f\"}, \"geo\": {\"bgcolor\": \"white\", \"lakecolor\": \"white\", \"landcolor\": \"#E5ECF6\", \"showlakes\": true, \"showland\": true, \"subunitcolor\": \"white\"}, \"hoverlabel\": {\"align\": \"left\"}, \"hovermode\": \"closest\", \"mapbox\": {\"style\": \"light\"}, \"paper_bgcolor\": \"white\", \"plot_bgcolor\": \"#E5ECF6\", \"polar\": {\"angularaxis\": {\"gridcolor\": \"white\", \"linecolor\": \"white\", \"ticks\": \"\"}, \"bgcolor\": \"#E5ECF6\", \"radialaxis\": {\"gridcolor\": \"white\", \"linecolor\": \"white\", \"ticks\": \"\"}}, \"scene\": {\"xaxis\": {\"backgroundcolor\": \"#E5ECF6\", \"gridcolor\": \"white\", \"gridwidth\": 2, \"linecolor\": \"white\", \"showbackground\": true, \"ticks\": \"\", \"zerolinecolor\": \"white\"}, \"yaxis\": {\"backgroundcolor\": \"#E5ECF6\", \"gridcolor\": \"white\", \"gridwidth\": 2, \"linecolor\": \"white\", \"showbackground\": true, \"ticks\": \"\", \"zerolinecolor\": \"white\"}, \"zaxis\": {\"backgroundcolor\": \"#E5ECF6\", \"gridcolor\": \"white\", \"gridwidth\": 2, \"linecolor\": \"white\", \"showbackground\": true, \"ticks\": \"\", \"zerolinecolor\": \"white\"}}, \"shapedefaults\": {\"line\": {\"color\": \"#2a3f5f\"}}, \"ternary\": {\"aaxis\": {\"gridcolor\": \"white\", \"linecolor\": \"white\", \"ticks\": \"\"}, \"baxis\": {\"gridcolor\": \"white\", \"linecolor\": \"white\", \"ticks\": \"\"}, \"bgcolor\": \"#E5ECF6\", \"caxis\": {\"gridcolor\": \"white\", \"linecolor\": \"white\", \"ticks\": \"\"}}, \"title\": {\"x\": 0.05}, \"xaxis\": {\"automargin\": true, \"gridcolor\": \"white\", \"linecolor\": \"white\", \"ticks\": \"\", \"title\": {\"standoff\": 15}, \"zerolinecolor\": \"white\", \"zerolinewidth\": 2}, \"yaxis\": {\"automargin\": true, \"gridcolor\": \"white\", \"linecolor\": \"white\", \"ticks\": \"\", \"title\": {\"standoff\": 15}, \"zerolinecolor\": \"white\", \"zerolinewidth\": 2}}}, \"title\": {\"font\": {\"color\": \"#F4F4F4\"}}, \"xaxis\": {\"anchor\": \"y2\", \"gridcolor\": \"#343434\", \"rangeselector\": {\"bgcolor\": \"rgba(150, 200, 250, 1)\", \"buttons\": [{\"count\": 1, \"label\": \"1m\", \"step\": \"month\", \"stepmode\": \"backward\"}, {\"count\": 1, \"label\": \"1y\", \"step\": \"year\", \"stepmode\": \"backward\"}], \"font\": {\"size\": 13}, \"visible\": false, \"x\": 0, \"y\": 0.9}, \"rangeslider\": {\"visible\": false}, \"showgrid\": true, \"tickfont\": {\"color\": \"#A4A4A4\"}, \"title\": {\"font\": {\"color\": \"#A4A4A4\"}, \"text\": \"\"}, \"zerolinecolor\": \"#444444\"}, \"yaxis\": {\"gridcolor\": \"#343434\", \"showgrid\": true, \"showticklabels\": false, \"tickfont\": {\"color\": \"#A4A4A4\"}, \"title\": {\"font\": {\"color\": \"#A4A4A4\"}, \"text\": \"\"}, \"zerolinecolor\": \"#444444\"}, \"yaxis2\": {\"domain\": [0.23, 0.9], \"gridcolor\": \"#343434\", \"showgrid\": true, \"tickfont\": {\"color\": \"#A4A4A4\"}, \"title\": {\"font\": {\"color\": \"#A4A4A4\"}, \"text\": \"\"}, \"zerolinecolor\": \"#444444\"}, \"yaxis3\": {\"domain\": [0.0, 0.15], \"gridcolor\": \"#343434\", \"showgrid\": true, \"tickfont\": {\"color\": \"#A4A4A4\"}, \"title\": {\"font\": {\"color\": \"#A4A4A4\"}, \"text\": \"\"}, \"zerolinecolor\": \"#444444\"}},                        {\"showLink\": true, \"linkText\": \"Export to plot.ly\", \"plotlyServerURL\": \"https://plot.ly\", \"responsive\": true}                    ).then(function(){\n",
       "                            \n",
       "var gd = document.getElementById('eba91ea1-b600-4999-a19b-f836c94b2976');\n",
       "var x = new MutationObserver(function (mutations, observer) {{\n",
       "        var display = window.getComputedStyle(gd).display;\n",
       "        if (!display || display === 'none') {{\n",
       "            console.log([gd, 'removed!']);\n",
       "            Plotly.purge(gd);\n",
       "            observer.disconnect();\n",
       "        }}\n",
       "}});\n",
       "\n",
       "// Listen for the removal of the full notebook cells\n",
       "var notebookContainer = gd.closest('#notebook-container');\n",
       "if (notebookContainer) {{\n",
       "    x.observe(notebookContainer, {childList: true});\n",
       "}}\n",
       "\n",
       "// Listen for the clearing of the current output cell\n",
       "var outputEl = gd.closest('.output');\n",
       "if (outputEl) {{\n",
       "    x.observe(outputEl, {childList: true});\n",
       "}}\n",
       "\n",
       "                        })                };                });            </script>        </div>"
      ]
     },
     "metadata": {},
     "output_type": "display_data"
    }
   ],
   "source": [
    "plot(data)"
   ]
  },
  {
   "cell_type": "code",
   "execution_count": 8,
   "metadata": {},
   "outputs": [],
   "source": [
    "min_year = int(min(data['date'])[:4])-2\n",
    "max_year = int(max(data['date'])[:4])+2\n",
    "min_date = str(min_year)+'-01-01'\n",
    "max_date = str(max_year)+'-12-31'\n",
    "dates = pd.date_range(min_date,max_date).values\n",
    "holidays = holidays.UnitedStates(years=range(min_year,max_year))"
   ]
  },
  {
   "cell_type": "code",
   "execution_count": 51,
   "metadata": {},
   "outputs": [
    {
     "data": {
      "application/vnd.plotly.v1+json": {
       "config": {
        "plotlyServerURL": "https://plot.ly"
       },
       "data": [
        {
         "alignmentgroup": "True",
         "bingroup": "x",
         "hovertemplate": "variable=change<br>value=%{x}<br>count=%{y}<extra></extra>",
         "legendgroup": "change",
         "marker": {
          "color": "#636efa"
         },
         "name": "change",
         "offsetgroup": "change",
         "orientation": "v",
         "showlegend": true,
         "type": "histogram",
         "x": [
          0.013308231628148537,
          0.03530014735088716,
          -0.007456683168316713,
          -0.0055799744381059835,
          -0.05764890282131652,
          0.011975649512657505,
          0.009335656290062833,
          0.0192476795310208,
          -0.0041538854805724945,
          0.0003850349740099901,
          -0.010071204054140748,
          0.006415241057542875,
          0.004603695834138222,
          -0.025508732574907933,
          0.010720510375217929,
          -0.02375142345859771,
          0.014697550408265148,
          0.012809564474808077,
          0.007166947723440176,
          0.005216215345976716,
          0.015439315801274889,
          -0.01022049777609546,
          0.007617044331835521,
          -0.004934210526315819,
          0.009504132231404894,
          -0.008658962813690607,
          0.012958963282937441,
          0.009187256992349235,
          -0.003293459686189215,
          0.0028990928644907488,
          0.00808156160636564,
          0.002127528367044995,
          0.005692132549767859,
          -0.011931713883620021,
          -0.006440426058954674,
          0.007292445774121248,
          -0.006342429305117303,
          0.012298782576205758,
          -0.0035679133858268486,
          0.007902210149401068,
          0.006952100943280692,
          0.003862647890750859,
          0.006210991940859278,
          0.006684532233296014,
          0.0007178536176830619,
          0.0029889111396719237,
          -0.008254611556456126,
          0.013942307692307754,
          -0.0018077287814129983,
          2.9688566932861704e-05,
          0.003176582353639823,
          0.0021603385516852924,
          -0.004163713678242309,
          0.0031136019927051617,
          0.003547357218872005,
          0.01013314480970906,
          0.003499358450950618,
          0.010025572474718025,
          0.0021866098915326315,
          0.006459391955903948,
          -0.003622568315363006,
          0.009418568034124553,
          0.014463981849120788,
          -0.03441431367067371,
          -0.00816468340137233,
          -0.02732288291444085,
          0.019747306503406392,
          -0.01736366579357851,
          0.0005091497199676276,
          0.013171286595222265,
          0.005052295692253184,
          -0.003968603933327541,
          -0.008795230505873386,
          -0.015453787517865636,
          -0.011129593225464807,
          0.010184420589044896,
          -0.02319103844989412,
          0.0026655095462435607,
          0.01616692426584243,
          0.016609375475314048,
          -0.005446003770310237,
          0.00758191172488476,
          0.006420018513541903,
          -0.00949442202705919,
          0.017733045770429,
          -0.014215917117965549,
          0.017406622279282136,
          0.008862542551942632,
          0.00893012973413243,
          0.01608764595646539,
          -0.006526118661861924,
          -0.006283380458686705,
          -0.0012358807806167604,
          -0.0006043165467625178,
          -0.015203432290017083,
          0.004005730826583953,
          -0.0018929465897838949,
          0.0054853674904442595,
          0.003395142334813084,
          -0.018479958355023363,
          -0.0034473614425880594,
          -0.034178936786706915,
          0.010163472723933031,
          -0.010424874234802095,
          0.011208427757701811,
          0.01765596608116282,
          0.02234919501235022,
          0.019502823543109837,
          -0.00022841480127910874,
          0.012565684258624588,
          -0.0014666064981948557,
          0.007428539148118807,
          -0.009700843917346713,
          0.013844455140001877,
          0.012482546774643888,
          -0.0053782717820006765,
          -0.012034828905773454,
          0.004210171775008487,
          -0.006847783554139397,
          0.0059944277150818515,
          0.016113691042354494,
          -0.0015417653212929094,
          0.002784977665030608,
          -0.004427090494129371,
          0.010937413688338893,
          0.002103710179771623,
          -0.0002726355680362502,
          0.008617633423327664,
          -0.0020548871163986737,
          0.002926115581565636,
          -0.008968852149012552,
          -0.0003271091726864128,
          -0.0011725247457257115,
          -0.004477204477204455,
          0.013519442768606282,
          -0.0026988979815470993,
          0.005592025285544366,
          -0.003975929507813891,
          -0.0035754916300990702,
          -0.0016854238025335588,
          0.0008985949243001112,
          0.003890415431074379,
          0.008590785907859111,
          -0.0019077303382863953,
          0.0014268023474937053,
          0.005080781741444662,
          -0.013613993794800439,
          0.006887388486672474,
          0.005978509681415556,
          0.014857448802034545,
          0.005697705091004979,
          -0.0067408067985101905,
          0.00021125458818560539,
          0.0026929271061595372,
          -0.003501935280023294,
          -0.007292712572002258,
          0.007852009582113295,
          0.01383863726396406,
          0.000911719502982633,
          -0.0035394545075994044,
          0.003943794400334211,
          -0.001560914696011828,
          -0.0244404492039918,
          0.008600197644293539,
          -0.02001959590074942,
          0.01664549950009464,
          0.014140286526858503,
          0.0007862665443585382,
          0.011365719523372952,
          0.003935886480747719,
          null
         ],
         "xaxis": "x",
         "xbins": {
          "end": 1,
          "size": 0.001,
          "start": -1
         },
         "yaxis": "y"
        }
       ],
       "layout": {
        "barmode": "relative",
        "legend": {
         "title": {
          "text": "variable"
         },
         "tracegroupgap": 0
        },
        "margin": {
         "t": 60
        },
        "template": {
         "data": {
          "bar": [
           {
            "error_x": {
             "color": "#2a3f5f"
            },
            "error_y": {
             "color": "#2a3f5f"
            },
            "marker": {
             "line": {
              "color": "#E5ECF6",
              "width": 0.5
             }
            },
            "type": "bar"
           }
          ],
          "barpolar": [
           {
            "marker": {
             "line": {
              "color": "#E5ECF6",
              "width": 0.5
             }
            },
            "type": "barpolar"
           }
          ],
          "carpet": [
           {
            "aaxis": {
             "endlinecolor": "#2a3f5f",
             "gridcolor": "white",
             "linecolor": "white",
             "minorgridcolor": "white",
             "startlinecolor": "#2a3f5f"
            },
            "baxis": {
             "endlinecolor": "#2a3f5f",
             "gridcolor": "white",
             "linecolor": "white",
             "minorgridcolor": "white",
             "startlinecolor": "#2a3f5f"
            },
            "type": "carpet"
           }
          ],
          "choropleth": [
           {
            "colorbar": {
             "outlinewidth": 0,
             "ticks": ""
            },
            "type": "choropleth"
           }
          ],
          "contour": [
           {
            "colorbar": {
             "outlinewidth": 0,
             "ticks": ""
            },
            "colorscale": [
             [
              0,
              "#0d0887"
             ],
             [
              0.1111111111111111,
              "#46039f"
             ],
             [
              0.2222222222222222,
              "#7201a8"
             ],
             [
              0.3333333333333333,
              "#9c179e"
             ],
             [
              0.4444444444444444,
              "#bd3786"
             ],
             [
              0.5555555555555556,
              "#d8576b"
             ],
             [
              0.6666666666666666,
              "#ed7953"
             ],
             [
              0.7777777777777778,
              "#fb9f3a"
             ],
             [
              0.8888888888888888,
              "#fdca26"
             ],
             [
              1,
              "#f0f921"
             ]
            ],
            "type": "contour"
           }
          ],
          "contourcarpet": [
           {
            "colorbar": {
             "outlinewidth": 0,
             "ticks": ""
            },
            "type": "contourcarpet"
           }
          ],
          "heatmap": [
           {
            "colorbar": {
             "outlinewidth": 0,
             "ticks": ""
            },
            "colorscale": [
             [
              0,
              "#0d0887"
             ],
             [
              0.1111111111111111,
              "#46039f"
             ],
             [
              0.2222222222222222,
              "#7201a8"
             ],
             [
              0.3333333333333333,
              "#9c179e"
             ],
             [
              0.4444444444444444,
              "#bd3786"
             ],
             [
              0.5555555555555556,
              "#d8576b"
             ],
             [
              0.6666666666666666,
              "#ed7953"
             ],
             [
              0.7777777777777778,
              "#fb9f3a"
             ],
             [
              0.8888888888888888,
              "#fdca26"
             ],
             [
              1,
              "#f0f921"
             ]
            ],
            "type": "heatmap"
           }
          ],
          "heatmapgl": [
           {
            "colorbar": {
             "outlinewidth": 0,
             "ticks": ""
            },
            "colorscale": [
             [
              0,
              "#0d0887"
             ],
             [
              0.1111111111111111,
              "#46039f"
             ],
             [
              0.2222222222222222,
              "#7201a8"
             ],
             [
              0.3333333333333333,
              "#9c179e"
             ],
             [
              0.4444444444444444,
              "#bd3786"
             ],
             [
              0.5555555555555556,
              "#d8576b"
             ],
             [
              0.6666666666666666,
              "#ed7953"
             ],
             [
              0.7777777777777778,
              "#fb9f3a"
             ],
             [
              0.8888888888888888,
              "#fdca26"
             ],
             [
              1,
              "#f0f921"
             ]
            ],
            "type": "heatmapgl"
           }
          ],
          "histogram": [
           {
            "marker": {
             "colorbar": {
              "outlinewidth": 0,
              "ticks": ""
             }
            },
            "type": "histogram"
           }
          ],
          "histogram2d": [
           {
            "colorbar": {
             "outlinewidth": 0,
             "ticks": ""
            },
            "colorscale": [
             [
              0,
              "#0d0887"
             ],
             [
              0.1111111111111111,
              "#46039f"
             ],
             [
              0.2222222222222222,
              "#7201a8"
             ],
             [
              0.3333333333333333,
              "#9c179e"
             ],
             [
              0.4444444444444444,
              "#bd3786"
             ],
             [
              0.5555555555555556,
              "#d8576b"
             ],
             [
              0.6666666666666666,
              "#ed7953"
             ],
             [
              0.7777777777777778,
              "#fb9f3a"
             ],
             [
              0.8888888888888888,
              "#fdca26"
             ],
             [
              1,
              "#f0f921"
             ]
            ],
            "type": "histogram2d"
           }
          ],
          "histogram2dcontour": [
           {
            "colorbar": {
             "outlinewidth": 0,
             "ticks": ""
            },
            "colorscale": [
             [
              0,
              "#0d0887"
             ],
             [
              0.1111111111111111,
              "#46039f"
             ],
             [
              0.2222222222222222,
              "#7201a8"
             ],
             [
              0.3333333333333333,
              "#9c179e"
             ],
             [
              0.4444444444444444,
              "#bd3786"
             ],
             [
              0.5555555555555556,
              "#d8576b"
             ],
             [
              0.6666666666666666,
              "#ed7953"
             ],
             [
              0.7777777777777778,
              "#fb9f3a"
             ],
             [
              0.8888888888888888,
              "#fdca26"
             ],
             [
              1,
              "#f0f921"
             ]
            ],
            "type": "histogram2dcontour"
           }
          ],
          "mesh3d": [
           {
            "colorbar": {
             "outlinewidth": 0,
             "ticks": ""
            },
            "type": "mesh3d"
           }
          ],
          "parcoords": [
           {
            "line": {
             "colorbar": {
              "outlinewidth": 0,
              "ticks": ""
             }
            },
            "type": "parcoords"
           }
          ],
          "pie": [
           {
            "automargin": true,
            "type": "pie"
           }
          ],
          "scatter": [
           {
            "marker": {
             "colorbar": {
              "outlinewidth": 0,
              "ticks": ""
             }
            },
            "type": "scatter"
           }
          ],
          "scatter3d": [
           {
            "line": {
             "colorbar": {
              "outlinewidth": 0,
              "ticks": ""
             }
            },
            "marker": {
             "colorbar": {
              "outlinewidth": 0,
              "ticks": ""
             }
            },
            "type": "scatter3d"
           }
          ],
          "scattercarpet": [
           {
            "marker": {
             "colorbar": {
              "outlinewidth": 0,
              "ticks": ""
             }
            },
            "type": "scattercarpet"
           }
          ],
          "scattergeo": [
           {
            "marker": {
             "colorbar": {
              "outlinewidth": 0,
              "ticks": ""
             }
            },
            "type": "scattergeo"
           }
          ],
          "scattergl": [
           {
            "marker": {
             "colorbar": {
              "outlinewidth": 0,
              "ticks": ""
             }
            },
            "type": "scattergl"
           }
          ],
          "scattermapbox": [
           {
            "marker": {
             "colorbar": {
              "outlinewidth": 0,
              "ticks": ""
             }
            },
            "type": "scattermapbox"
           }
          ],
          "scatterpolar": [
           {
            "marker": {
             "colorbar": {
              "outlinewidth": 0,
              "ticks": ""
             }
            },
            "type": "scatterpolar"
           }
          ],
          "scatterpolargl": [
           {
            "marker": {
             "colorbar": {
              "outlinewidth": 0,
              "ticks": ""
             }
            },
            "type": "scatterpolargl"
           }
          ],
          "scatterternary": [
           {
            "marker": {
             "colorbar": {
              "outlinewidth": 0,
              "ticks": ""
             }
            },
            "type": "scatterternary"
           }
          ],
          "surface": [
           {
            "colorbar": {
             "outlinewidth": 0,
             "ticks": ""
            },
            "colorscale": [
             [
              0,
              "#0d0887"
             ],
             [
              0.1111111111111111,
              "#46039f"
             ],
             [
              0.2222222222222222,
              "#7201a8"
             ],
             [
              0.3333333333333333,
              "#9c179e"
             ],
             [
              0.4444444444444444,
              "#bd3786"
             ],
             [
              0.5555555555555556,
              "#d8576b"
             ],
             [
              0.6666666666666666,
              "#ed7953"
             ],
             [
              0.7777777777777778,
              "#fb9f3a"
             ],
             [
              0.8888888888888888,
              "#fdca26"
             ],
             [
              1,
              "#f0f921"
             ]
            ],
            "type": "surface"
           }
          ],
          "table": [
           {
            "cells": {
             "fill": {
              "color": "#EBF0F8"
             },
             "line": {
              "color": "white"
             }
            },
            "header": {
             "fill": {
              "color": "#C8D4E3"
             },
             "line": {
              "color": "white"
             }
            },
            "type": "table"
           }
          ]
         },
         "layout": {
          "annotationdefaults": {
           "arrowcolor": "#2a3f5f",
           "arrowhead": 0,
           "arrowwidth": 1
          },
          "autotypenumbers": "strict",
          "coloraxis": {
           "colorbar": {
            "outlinewidth": 0,
            "ticks": ""
           }
          },
          "colorscale": {
           "diverging": [
            [
             0,
             "#8e0152"
            ],
            [
             0.1,
             "#c51b7d"
            ],
            [
             0.2,
             "#de77ae"
            ],
            [
             0.3,
             "#f1b6da"
            ],
            [
             0.4,
             "#fde0ef"
            ],
            [
             0.5,
             "#f7f7f7"
            ],
            [
             0.6,
             "#e6f5d0"
            ],
            [
             0.7,
             "#b8e186"
            ],
            [
             0.8,
             "#7fbc41"
            ],
            [
             0.9,
             "#4d9221"
            ],
            [
             1,
             "#276419"
            ]
           ],
           "sequential": [
            [
             0,
             "#0d0887"
            ],
            [
             0.1111111111111111,
             "#46039f"
            ],
            [
             0.2222222222222222,
             "#7201a8"
            ],
            [
             0.3333333333333333,
             "#9c179e"
            ],
            [
             0.4444444444444444,
             "#bd3786"
            ],
            [
             0.5555555555555556,
             "#d8576b"
            ],
            [
             0.6666666666666666,
             "#ed7953"
            ],
            [
             0.7777777777777778,
             "#fb9f3a"
            ],
            [
             0.8888888888888888,
             "#fdca26"
            ],
            [
             1,
             "#f0f921"
            ]
           ],
           "sequentialminus": [
            [
             0,
             "#0d0887"
            ],
            [
             0.1111111111111111,
             "#46039f"
            ],
            [
             0.2222222222222222,
             "#7201a8"
            ],
            [
             0.3333333333333333,
             "#9c179e"
            ],
            [
             0.4444444444444444,
             "#bd3786"
            ],
            [
             0.5555555555555556,
             "#d8576b"
            ],
            [
             0.6666666666666666,
             "#ed7953"
            ],
            [
             0.7777777777777778,
             "#fb9f3a"
            ],
            [
             0.8888888888888888,
             "#fdca26"
            ],
            [
             1,
             "#f0f921"
            ]
           ]
          },
          "colorway": [
           "#636efa",
           "#EF553B",
           "#00cc96",
           "#ab63fa",
           "#FFA15A",
           "#19d3f3",
           "#FF6692",
           "#B6E880",
           "#FF97FF",
           "#FECB52"
          ],
          "font": {
           "color": "#2a3f5f"
          },
          "geo": {
           "bgcolor": "white",
           "lakecolor": "white",
           "landcolor": "#E5ECF6",
           "showlakes": true,
           "showland": true,
           "subunitcolor": "white"
          },
          "hoverlabel": {
           "align": "left"
          },
          "hovermode": "closest",
          "mapbox": {
           "style": "light"
          },
          "paper_bgcolor": "white",
          "plot_bgcolor": "#E5ECF6",
          "polar": {
           "angularaxis": {
            "gridcolor": "white",
            "linecolor": "white",
            "ticks": ""
           },
           "bgcolor": "#E5ECF6",
           "radialaxis": {
            "gridcolor": "white",
            "linecolor": "white",
            "ticks": ""
           }
          },
          "scene": {
           "xaxis": {
            "backgroundcolor": "#E5ECF6",
            "gridcolor": "white",
            "gridwidth": 2,
            "linecolor": "white",
            "showbackground": true,
            "ticks": "",
            "zerolinecolor": "white"
           },
           "yaxis": {
            "backgroundcolor": "#E5ECF6",
            "gridcolor": "white",
            "gridwidth": 2,
            "linecolor": "white",
            "showbackground": true,
            "ticks": "",
            "zerolinecolor": "white"
           },
           "zaxis": {
            "backgroundcolor": "#E5ECF6",
            "gridcolor": "white",
            "gridwidth": 2,
            "linecolor": "white",
            "showbackground": true,
            "ticks": "",
            "zerolinecolor": "white"
           }
          },
          "shapedefaults": {
           "line": {
            "color": "#2a3f5f"
           }
          },
          "ternary": {
           "aaxis": {
            "gridcolor": "white",
            "linecolor": "white",
            "ticks": ""
           },
           "baxis": {
            "gridcolor": "white",
            "linecolor": "white",
            "ticks": ""
           },
           "bgcolor": "#E5ECF6",
           "caxis": {
            "gridcolor": "white",
            "linecolor": "white",
            "ticks": ""
           }
          },
          "title": {
           "x": 0.05
          },
          "xaxis": {
           "automargin": true,
           "gridcolor": "white",
           "linecolor": "white",
           "ticks": "",
           "title": {
            "standoff": 15
           },
           "zerolinecolor": "white",
           "zerolinewidth": 2
          },
          "yaxis": {
           "automargin": true,
           "gridcolor": "white",
           "linecolor": "white",
           "ticks": "",
           "title": {
            "standoff": 15
           },
           "zerolinecolor": "white",
           "zerolinewidth": 2
          }
         }
        },
        "xaxis": {
         "anchor": "y",
         "domain": [
          0,
          1
         ],
         "title": {
          "text": "value"
         }
        },
        "yaxis": {
         "anchor": "x",
         "domain": [
          0,
          1
         ],
         "title": {
          "text": "count"
         }
        }
       }
      },
      "text/html": [
       "<div>                            <div id=\"6d2ad6c3-a60b-465b-933b-33b55da0ed1c\" class=\"plotly-graph-div\" style=\"height:525px; width:100%;\"></div>            <script type=\"text/javascript\">                require([\"plotly\"], function(Plotly) {                    window.PLOTLYENV=window.PLOTLYENV || {};                                    if (document.getElementById(\"6d2ad6c3-a60b-465b-933b-33b55da0ed1c\")) {                    Plotly.newPlot(                        \"6d2ad6c3-a60b-465b-933b-33b55da0ed1c\",                        [{\"alignmentgroup\": \"True\", \"bingroup\": \"x\", \"hovertemplate\": \"variable=change<br>value=%{x}<br>count=%{y}<extra></extra>\", \"legendgroup\": \"change\", \"marker\": {\"color\": \"#636efa\"}, \"name\": \"change\", \"offsetgroup\": \"change\", \"orientation\": \"v\", \"showlegend\": true, \"type\": \"histogram\", \"x\": [0.013308231628148537, 0.03530014735088716, -0.007456683168316713, -0.0055799744381059835, -0.05764890282131652, 0.011975649512657505, 0.009335656290062833, 0.0192476795310208, -0.0041538854805724945, 0.0003850349740099901, -0.010071204054140748, 0.006415241057542875, 0.004603695834138222, -0.025508732574907933, 0.010720510375217929, -0.02375142345859771, 0.014697550408265148, 0.012809564474808077, 0.007166947723440176, 0.005216215345976716, 0.015439315801274889, -0.01022049777609546, 0.007617044331835521, -0.004934210526315819, 0.009504132231404894, -0.008658962813690607, 0.012958963282937441, 0.009187256992349235, -0.003293459686189215, 0.0028990928644907488, 0.00808156160636564, 0.002127528367044995, 0.005692132549767859, -0.011931713883620021, -0.006440426058954674, 0.007292445774121248, -0.006342429305117303, 0.012298782576205758, -0.0035679133858268486, 0.007902210149401068, 0.006952100943280692, 0.003862647890750859, 0.006210991940859278, 0.006684532233296014, 0.0007178536176830619, 0.0029889111396719237, -0.008254611556456126, 0.013942307692307754, -0.0018077287814129983, 2.9688566932861704e-05, 0.003176582353639823, 0.0021603385516852924, -0.004163713678242309, 0.0031136019927051617, 0.003547357218872005, 0.01013314480970906, 0.003499358450950618, 0.010025572474718025, 0.0021866098915326315, 0.006459391955903948, -0.003622568315363006, 0.009418568034124553, 0.014463981849120788, -0.03441431367067371, -0.00816468340137233, -0.02732288291444085, 0.019747306503406392, -0.01736366579357851, 0.0005091497199676276, 0.013171286595222265, 0.005052295692253184, -0.003968603933327541, -0.008795230505873386, -0.015453787517865636, -0.011129593225464807, 0.010184420589044896, -0.02319103844989412, 0.0026655095462435607, 0.01616692426584243, 0.016609375475314048, -0.005446003770310237, 0.00758191172488476, 0.006420018513541903, -0.00949442202705919, 0.017733045770429, -0.014215917117965549, 0.017406622279282136, 0.008862542551942632, 0.00893012973413243, 0.01608764595646539, -0.006526118661861924, -0.006283380458686705, -0.0012358807806167604, -0.0006043165467625178, -0.015203432290017083, 0.004005730826583953, -0.0018929465897838949, 0.0054853674904442595, 0.003395142334813084, -0.018479958355023363, -0.0034473614425880594, -0.034178936786706915, 0.010163472723933031, -0.010424874234802095, 0.011208427757701811, 0.01765596608116282, 0.02234919501235022, 0.019502823543109837, -0.00022841480127910874, 0.012565684258624588, -0.0014666064981948557, 0.007428539148118807, -0.009700843917346713, 0.013844455140001877, 0.012482546774643888, -0.0053782717820006765, -0.012034828905773454, 0.004210171775008487, -0.006847783554139397, 0.0059944277150818515, 0.016113691042354494, -0.0015417653212929094, 0.002784977665030608, -0.004427090494129371, 0.010937413688338893, 0.002103710179771623, -0.0002726355680362502, 0.008617633423327664, -0.0020548871163986737, 0.002926115581565636, -0.008968852149012552, -0.0003271091726864128, -0.0011725247457257115, -0.004477204477204455, 0.013519442768606282, -0.0026988979815470993, 0.005592025285544366, -0.003975929507813891, -0.0035754916300990702, -0.0016854238025335588, 0.0008985949243001112, 0.003890415431074379, 0.008590785907859111, -0.0019077303382863953, 0.0014268023474937053, 0.005080781741444662, -0.013613993794800439, 0.006887388486672474, 0.005978509681415556, 0.014857448802034545, 0.005697705091004979, -0.0067408067985101905, 0.00021125458818560539, 0.0026929271061595372, -0.003501935280023294, -0.007292712572002258, 0.007852009582113295, 0.01383863726396406, 0.000911719502982633, -0.0035394545075994044, 0.003943794400334211, -0.001560914696011828, -0.0244404492039918, 0.008600197644293539, -0.02001959590074942, 0.01664549950009464, 0.014140286526858503, 0.0007862665443585382, 0.011365719523372952, 0.003935886480747719, null], \"xaxis\": \"x\", \"xbins\": {\"end\": 1, \"size\": 0.001, \"start\": -1}, \"yaxis\": \"y\"}],                        {\"barmode\": \"relative\", \"legend\": {\"title\": {\"text\": \"variable\"}, \"tracegroupgap\": 0}, \"margin\": {\"t\": 60}, \"template\": {\"data\": {\"bar\": [{\"error_x\": {\"color\": \"#2a3f5f\"}, \"error_y\": {\"color\": \"#2a3f5f\"}, \"marker\": {\"line\": {\"color\": \"#E5ECF6\", \"width\": 0.5}}, \"type\": \"bar\"}], \"barpolar\": [{\"marker\": {\"line\": {\"color\": \"#E5ECF6\", \"width\": 0.5}}, \"type\": \"barpolar\"}], \"carpet\": [{\"aaxis\": {\"endlinecolor\": \"#2a3f5f\", \"gridcolor\": \"white\", \"linecolor\": \"white\", \"minorgridcolor\": \"white\", \"startlinecolor\": \"#2a3f5f\"}, \"baxis\": {\"endlinecolor\": \"#2a3f5f\", \"gridcolor\": \"white\", \"linecolor\": \"white\", \"minorgridcolor\": \"white\", \"startlinecolor\": \"#2a3f5f\"}, \"type\": \"carpet\"}], \"choropleth\": [{\"colorbar\": {\"outlinewidth\": 0, \"ticks\": \"\"}, \"type\": \"choropleth\"}], \"contour\": [{\"colorbar\": {\"outlinewidth\": 0, \"ticks\": \"\"}, \"colorscale\": [[0.0, \"#0d0887\"], [0.1111111111111111, \"#46039f\"], [0.2222222222222222, \"#7201a8\"], [0.3333333333333333, \"#9c179e\"], [0.4444444444444444, \"#bd3786\"], [0.5555555555555556, \"#d8576b\"], [0.6666666666666666, \"#ed7953\"], [0.7777777777777778, \"#fb9f3a\"], [0.8888888888888888, \"#fdca26\"], [1.0, \"#f0f921\"]], \"type\": \"contour\"}], \"contourcarpet\": [{\"colorbar\": {\"outlinewidth\": 0, \"ticks\": \"\"}, \"type\": \"contourcarpet\"}], \"heatmap\": [{\"colorbar\": {\"outlinewidth\": 0, \"ticks\": \"\"}, \"colorscale\": [[0.0, \"#0d0887\"], [0.1111111111111111, \"#46039f\"], [0.2222222222222222, \"#7201a8\"], [0.3333333333333333, \"#9c179e\"], [0.4444444444444444, \"#bd3786\"], [0.5555555555555556, \"#d8576b\"], [0.6666666666666666, \"#ed7953\"], [0.7777777777777778, \"#fb9f3a\"], [0.8888888888888888, \"#fdca26\"], [1.0, \"#f0f921\"]], \"type\": \"heatmap\"}], \"heatmapgl\": [{\"colorbar\": {\"outlinewidth\": 0, \"ticks\": \"\"}, \"colorscale\": [[0.0, \"#0d0887\"], [0.1111111111111111, \"#46039f\"], [0.2222222222222222, \"#7201a8\"], [0.3333333333333333, \"#9c179e\"], [0.4444444444444444, \"#bd3786\"], [0.5555555555555556, \"#d8576b\"], [0.6666666666666666, \"#ed7953\"], [0.7777777777777778, \"#fb9f3a\"], [0.8888888888888888, \"#fdca26\"], [1.0, \"#f0f921\"]], \"type\": \"heatmapgl\"}], \"histogram\": [{\"marker\": {\"colorbar\": {\"outlinewidth\": 0, \"ticks\": \"\"}}, \"type\": \"histogram\"}], \"histogram2d\": [{\"colorbar\": {\"outlinewidth\": 0, \"ticks\": \"\"}, \"colorscale\": [[0.0, \"#0d0887\"], [0.1111111111111111, \"#46039f\"], [0.2222222222222222, \"#7201a8\"], [0.3333333333333333, \"#9c179e\"], [0.4444444444444444, \"#bd3786\"], [0.5555555555555556, \"#d8576b\"], [0.6666666666666666, \"#ed7953\"], [0.7777777777777778, \"#fb9f3a\"], [0.8888888888888888, \"#fdca26\"], [1.0, \"#f0f921\"]], \"type\": \"histogram2d\"}], \"histogram2dcontour\": [{\"colorbar\": {\"outlinewidth\": 0, \"ticks\": \"\"}, \"colorscale\": [[0.0, \"#0d0887\"], [0.1111111111111111, \"#46039f\"], [0.2222222222222222, \"#7201a8\"], [0.3333333333333333, \"#9c179e\"], [0.4444444444444444, \"#bd3786\"], [0.5555555555555556, \"#d8576b\"], [0.6666666666666666, \"#ed7953\"], [0.7777777777777778, \"#fb9f3a\"], [0.8888888888888888, \"#fdca26\"], [1.0, \"#f0f921\"]], \"type\": \"histogram2dcontour\"}], \"mesh3d\": [{\"colorbar\": {\"outlinewidth\": 0, \"ticks\": \"\"}, \"type\": \"mesh3d\"}], \"parcoords\": [{\"line\": {\"colorbar\": {\"outlinewidth\": 0, \"ticks\": \"\"}}, \"type\": \"parcoords\"}], \"pie\": [{\"automargin\": true, \"type\": \"pie\"}], \"scatter\": [{\"marker\": {\"colorbar\": {\"outlinewidth\": 0, \"ticks\": \"\"}}, \"type\": \"scatter\"}], \"scatter3d\": [{\"line\": {\"colorbar\": {\"outlinewidth\": 0, \"ticks\": \"\"}}, \"marker\": {\"colorbar\": {\"outlinewidth\": 0, \"ticks\": \"\"}}, \"type\": \"scatter3d\"}], \"scattercarpet\": [{\"marker\": {\"colorbar\": {\"outlinewidth\": 0, \"ticks\": \"\"}}, \"type\": \"scattercarpet\"}], \"scattergeo\": [{\"marker\": {\"colorbar\": {\"outlinewidth\": 0, \"ticks\": \"\"}}, \"type\": \"scattergeo\"}], \"scattergl\": [{\"marker\": {\"colorbar\": {\"outlinewidth\": 0, \"ticks\": \"\"}}, \"type\": \"scattergl\"}], \"scattermapbox\": [{\"marker\": {\"colorbar\": {\"outlinewidth\": 0, \"ticks\": \"\"}}, \"type\": \"scattermapbox\"}], \"scatterpolar\": [{\"marker\": {\"colorbar\": {\"outlinewidth\": 0, \"ticks\": \"\"}}, \"type\": \"scatterpolar\"}], \"scatterpolargl\": [{\"marker\": {\"colorbar\": {\"outlinewidth\": 0, \"ticks\": \"\"}}, \"type\": \"scatterpolargl\"}], \"scatterternary\": [{\"marker\": {\"colorbar\": {\"outlinewidth\": 0, \"ticks\": \"\"}}, \"type\": \"scatterternary\"}], \"surface\": [{\"colorbar\": {\"outlinewidth\": 0, \"ticks\": \"\"}, \"colorscale\": [[0.0, \"#0d0887\"], [0.1111111111111111, \"#46039f\"], [0.2222222222222222, \"#7201a8\"], [0.3333333333333333, \"#9c179e\"], [0.4444444444444444, \"#bd3786\"], [0.5555555555555556, \"#d8576b\"], [0.6666666666666666, \"#ed7953\"], [0.7777777777777778, \"#fb9f3a\"], [0.8888888888888888, \"#fdca26\"], [1.0, \"#f0f921\"]], \"type\": \"surface\"}], \"table\": [{\"cells\": {\"fill\": {\"color\": \"#EBF0F8\"}, \"line\": {\"color\": \"white\"}}, \"header\": {\"fill\": {\"color\": \"#C8D4E3\"}, \"line\": {\"color\": \"white\"}}, \"type\": \"table\"}]}, \"layout\": {\"annotationdefaults\": {\"arrowcolor\": \"#2a3f5f\", \"arrowhead\": 0, \"arrowwidth\": 1}, \"autotypenumbers\": \"strict\", \"coloraxis\": {\"colorbar\": {\"outlinewidth\": 0, \"ticks\": \"\"}}, \"colorscale\": {\"diverging\": [[0, \"#8e0152\"], [0.1, \"#c51b7d\"], [0.2, \"#de77ae\"], [0.3, \"#f1b6da\"], [0.4, \"#fde0ef\"], [0.5, \"#f7f7f7\"], [0.6, \"#e6f5d0\"], [0.7, \"#b8e186\"], [0.8, \"#7fbc41\"], [0.9, \"#4d9221\"], [1, \"#276419\"]], \"sequential\": [[0.0, \"#0d0887\"], [0.1111111111111111, \"#46039f\"], [0.2222222222222222, \"#7201a8\"], [0.3333333333333333, \"#9c179e\"], [0.4444444444444444, \"#bd3786\"], [0.5555555555555556, \"#d8576b\"], [0.6666666666666666, \"#ed7953\"], [0.7777777777777778, \"#fb9f3a\"], [0.8888888888888888, \"#fdca26\"], [1.0, \"#f0f921\"]], \"sequentialminus\": [[0.0, \"#0d0887\"], [0.1111111111111111, \"#46039f\"], [0.2222222222222222, \"#7201a8\"], [0.3333333333333333, \"#9c179e\"], [0.4444444444444444, \"#bd3786\"], [0.5555555555555556, \"#d8576b\"], [0.6666666666666666, \"#ed7953\"], [0.7777777777777778, \"#fb9f3a\"], [0.8888888888888888, \"#fdca26\"], [1.0, \"#f0f921\"]]}, \"colorway\": [\"#636efa\", \"#EF553B\", \"#00cc96\", \"#ab63fa\", \"#FFA15A\", \"#19d3f3\", \"#FF6692\", \"#B6E880\", \"#FF97FF\", \"#FECB52\"], \"font\": {\"color\": \"#2a3f5f\"}, \"geo\": {\"bgcolor\": \"white\", \"lakecolor\": \"white\", \"landcolor\": \"#E5ECF6\", \"showlakes\": true, \"showland\": true, \"subunitcolor\": \"white\"}, \"hoverlabel\": {\"align\": \"left\"}, \"hovermode\": \"closest\", \"mapbox\": {\"style\": \"light\"}, \"paper_bgcolor\": \"white\", \"plot_bgcolor\": \"#E5ECF6\", \"polar\": {\"angularaxis\": {\"gridcolor\": \"white\", \"linecolor\": \"white\", \"ticks\": \"\"}, \"bgcolor\": \"#E5ECF6\", \"radialaxis\": {\"gridcolor\": \"white\", \"linecolor\": \"white\", \"ticks\": \"\"}}, \"scene\": {\"xaxis\": {\"backgroundcolor\": \"#E5ECF6\", \"gridcolor\": \"white\", \"gridwidth\": 2, \"linecolor\": \"white\", \"showbackground\": true, \"ticks\": \"\", \"zerolinecolor\": \"white\"}, \"yaxis\": {\"backgroundcolor\": \"#E5ECF6\", \"gridcolor\": \"white\", \"gridwidth\": 2, \"linecolor\": \"white\", \"showbackground\": true, \"ticks\": \"\", \"zerolinecolor\": \"white\"}, \"zaxis\": {\"backgroundcolor\": \"#E5ECF6\", \"gridcolor\": \"white\", \"gridwidth\": 2, \"linecolor\": \"white\", \"showbackground\": true, \"ticks\": \"\", \"zerolinecolor\": \"white\"}}, \"shapedefaults\": {\"line\": {\"color\": \"#2a3f5f\"}}, \"ternary\": {\"aaxis\": {\"gridcolor\": \"white\", \"linecolor\": \"white\", \"ticks\": \"\"}, \"baxis\": {\"gridcolor\": \"white\", \"linecolor\": \"white\", \"ticks\": \"\"}, \"bgcolor\": \"#E5ECF6\", \"caxis\": {\"gridcolor\": \"white\", \"linecolor\": \"white\", \"ticks\": \"\"}}, \"title\": {\"x\": 0.05}, \"xaxis\": {\"automargin\": true, \"gridcolor\": \"white\", \"linecolor\": \"white\", \"ticks\": \"\", \"title\": {\"standoff\": 15}, \"zerolinecolor\": \"white\", \"zerolinewidth\": 2}, \"yaxis\": {\"automargin\": true, \"gridcolor\": \"white\", \"linecolor\": \"white\", \"ticks\": \"\", \"title\": {\"standoff\": 15}, \"zerolinecolor\": \"white\", \"zerolinewidth\": 2}}}, \"xaxis\": {\"anchor\": \"y\", \"domain\": [0.0, 1.0], \"title\": {\"text\": \"value\"}}, \"yaxis\": {\"anchor\": \"x\", \"domain\": [0.0, 1.0], \"title\": {\"text\": \"count\"}}},                        {\"responsive\": true}                    ).then(function(){\n",
       "                            \n",
       "var gd = document.getElementById('6d2ad6c3-a60b-465b-933b-33b55da0ed1c');\n",
       "var x = new MutationObserver(function (mutations, observer) {{\n",
       "        var display = window.getComputedStyle(gd).display;\n",
       "        if (!display || display === 'none') {{\n",
       "            console.log([gd, 'removed!']);\n",
       "            Plotly.purge(gd);\n",
       "            observer.disconnect();\n",
       "        }}\n",
       "}});\n",
       "\n",
       "// Listen for the removal of the full notebook cells\n",
       "var notebookContainer = gd.closest('#notebook-container');\n",
       "if (notebookContainer) {{\n",
       "    x.observe(notebookContainer, {childList: true});\n",
       "}}\n",
       "\n",
       "// Listen for the clearing of the current output cell\n",
       "var outputEl = gd.closest('.output');\n",
       "if (outputEl) {{\n",
       "    x.observe(outputEl, {childList: true});\n",
       "}}\n",
       "\n",
       "                        })                };                });            </script>        </div>"
      ]
     },
     "metadata": {},
     "output_type": "display_data"
    }
   ],
   "source": [
    "fig = data.change.hist()\n",
    "fig.update_traces(xbins=dict( # bins used for histogram\n",
    "        start=-1,\n",
    "        end=1,\n",
    "        size=0.001\n",
    "    ))\n",
    "fig.show()"
   ]
  },
  {
   "cell_type": "code",
   "execution_count": 77,
   "metadata": {},
   "outputs": [],
   "source": [
    "x = data.close_change[:]"
   ]
  },
  {
   "cell_type": "code",
   "execution_count": 78,
   "metadata": {},
   "outputs": [],
   "source": [
    "x[x>0.01] = 1\n",
    "x[x<-0.01] = -1"
   ]
  },
  {
   "cell_type": "code",
   "execution_count": 79,
   "metadata": {},
   "outputs": [],
   "source": [
    "x[(x > -1) & (x < 1)] = 0"
   ]
  },
  {
   "cell_type": "code",
   "execution_count": 84,
   "metadata": {},
   "outputs": [],
   "source": [
    "smote = SMOTE(random_state = 1)"
   ]
  },
  {
   "cell_type": "code",
   "execution_count": 85,
   "metadata": {},
   "outputs": [
    {
     "data": {
      "application/vnd.plotly.v1+json": {
       "config": {
        "plotlyServerURL": "https://plot.ly"
       },
       "data": [
        {
         "alignmentgroup": "True",
         "bingroup": "x",
         "hovertemplate": "variable=change<br>value=%{x}<br>count=%{y}<extra></extra>",
         "legendgroup": "change",
         "marker": {
          "color": "#636efa"
         },
         "name": "change",
         "offsetgroup": "change",
         "orientation": "v",
         "showlegend": true,
         "type": "histogram",
         "x": [
          1,
          1,
          0,
          0,
          -1,
          1,
          0,
          1,
          0,
          0,
          -1,
          0,
          0,
          -1,
          1,
          -1,
          1,
          1,
          0,
          0,
          1,
          -1,
          0,
          0,
          0,
          0,
          1,
          0,
          0,
          0,
          0,
          0,
          0,
          -1,
          0,
          0,
          0,
          1,
          0,
          0,
          0,
          0,
          0,
          0,
          0,
          0,
          0,
          1,
          0,
          0,
          0,
          0,
          0,
          0,
          0,
          1,
          0,
          1,
          0,
          0,
          0,
          0,
          1,
          -1,
          0,
          -1,
          1,
          -1,
          0,
          1,
          0,
          0,
          0,
          -1,
          -1,
          1,
          -1,
          0,
          1,
          1,
          0,
          0,
          0,
          0,
          1,
          -1,
          1,
          0,
          0,
          1,
          0,
          0,
          0,
          0,
          -1,
          0,
          0,
          0,
          0,
          -1,
          0,
          -1,
          1,
          -1,
          1,
          1,
          1,
          1,
          0,
          1,
          0,
          0,
          0,
          1,
          1,
          0,
          -1,
          0,
          0,
          0,
          1,
          0,
          0,
          0,
          1,
          0,
          0,
          0,
          0,
          0,
          0,
          0,
          0,
          0,
          1,
          0,
          0,
          0,
          0,
          0,
          0,
          0,
          0,
          0,
          0,
          0,
          -1,
          0,
          0,
          1,
          0,
          0,
          0,
          0,
          0,
          0,
          0,
          1,
          0,
          0,
          0,
          0,
          -1,
          0,
          -1,
          1,
          1,
          0,
          1,
          0,
          null
         ],
         "xaxis": "x",
         "yaxis": "y"
        }
       ],
       "layout": {
        "barmode": "relative",
        "legend": {
         "title": {
          "text": "variable"
         },
         "tracegroupgap": 0
        },
        "margin": {
         "t": 60
        },
        "template": {
         "data": {
          "bar": [
           {
            "error_x": {
             "color": "#2a3f5f"
            },
            "error_y": {
             "color": "#2a3f5f"
            },
            "marker": {
             "line": {
              "color": "#E5ECF6",
              "width": 0.5
             }
            },
            "type": "bar"
           }
          ],
          "barpolar": [
           {
            "marker": {
             "line": {
              "color": "#E5ECF6",
              "width": 0.5
             }
            },
            "type": "barpolar"
           }
          ],
          "carpet": [
           {
            "aaxis": {
             "endlinecolor": "#2a3f5f",
             "gridcolor": "white",
             "linecolor": "white",
             "minorgridcolor": "white",
             "startlinecolor": "#2a3f5f"
            },
            "baxis": {
             "endlinecolor": "#2a3f5f",
             "gridcolor": "white",
             "linecolor": "white",
             "minorgridcolor": "white",
             "startlinecolor": "#2a3f5f"
            },
            "type": "carpet"
           }
          ],
          "choropleth": [
           {
            "colorbar": {
             "outlinewidth": 0,
             "ticks": ""
            },
            "type": "choropleth"
           }
          ],
          "contour": [
           {
            "colorbar": {
             "outlinewidth": 0,
             "ticks": ""
            },
            "colorscale": [
             [
              0,
              "#0d0887"
             ],
             [
              0.1111111111111111,
              "#46039f"
             ],
             [
              0.2222222222222222,
              "#7201a8"
             ],
             [
              0.3333333333333333,
              "#9c179e"
             ],
             [
              0.4444444444444444,
              "#bd3786"
             ],
             [
              0.5555555555555556,
              "#d8576b"
             ],
             [
              0.6666666666666666,
              "#ed7953"
             ],
             [
              0.7777777777777778,
              "#fb9f3a"
             ],
             [
              0.8888888888888888,
              "#fdca26"
             ],
             [
              1,
              "#f0f921"
             ]
            ],
            "type": "contour"
           }
          ],
          "contourcarpet": [
           {
            "colorbar": {
             "outlinewidth": 0,
             "ticks": ""
            },
            "type": "contourcarpet"
           }
          ],
          "heatmap": [
           {
            "colorbar": {
             "outlinewidth": 0,
             "ticks": ""
            },
            "colorscale": [
             [
              0,
              "#0d0887"
             ],
             [
              0.1111111111111111,
              "#46039f"
             ],
             [
              0.2222222222222222,
              "#7201a8"
             ],
             [
              0.3333333333333333,
              "#9c179e"
             ],
             [
              0.4444444444444444,
              "#bd3786"
             ],
             [
              0.5555555555555556,
              "#d8576b"
             ],
             [
              0.6666666666666666,
              "#ed7953"
             ],
             [
              0.7777777777777778,
              "#fb9f3a"
             ],
             [
              0.8888888888888888,
              "#fdca26"
             ],
             [
              1,
              "#f0f921"
             ]
            ],
            "type": "heatmap"
           }
          ],
          "heatmapgl": [
           {
            "colorbar": {
             "outlinewidth": 0,
             "ticks": ""
            },
            "colorscale": [
             [
              0,
              "#0d0887"
             ],
             [
              0.1111111111111111,
              "#46039f"
             ],
             [
              0.2222222222222222,
              "#7201a8"
             ],
             [
              0.3333333333333333,
              "#9c179e"
             ],
             [
              0.4444444444444444,
              "#bd3786"
             ],
             [
              0.5555555555555556,
              "#d8576b"
             ],
             [
              0.6666666666666666,
              "#ed7953"
             ],
             [
              0.7777777777777778,
              "#fb9f3a"
             ],
             [
              0.8888888888888888,
              "#fdca26"
             ],
             [
              1,
              "#f0f921"
             ]
            ],
            "type": "heatmapgl"
           }
          ],
          "histogram": [
           {
            "marker": {
             "colorbar": {
              "outlinewidth": 0,
              "ticks": ""
             }
            },
            "type": "histogram"
           }
          ],
          "histogram2d": [
           {
            "colorbar": {
             "outlinewidth": 0,
             "ticks": ""
            },
            "colorscale": [
             [
              0,
              "#0d0887"
             ],
             [
              0.1111111111111111,
              "#46039f"
             ],
             [
              0.2222222222222222,
              "#7201a8"
             ],
             [
              0.3333333333333333,
              "#9c179e"
             ],
             [
              0.4444444444444444,
              "#bd3786"
             ],
             [
              0.5555555555555556,
              "#d8576b"
             ],
             [
              0.6666666666666666,
              "#ed7953"
             ],
             [
              0.7777777777777778,
              "#fb9f3a"
             ],
             [
              0.8888888888888888,
              "#fdca26"
             ],
             [
              1,
              "#f0f921"
             ]
            ],
            "type": "histogram2d"
           }
          ],
          "histogram2dcontour": [
           {
            "colorbar": {
             "outlinewidth": 0,
             "ticks": ""
            },
            "colorscale": [
             [
              0,
              "#0d0887"
             ],
             [
              0.1111111111111111,
              "#46039f"
             ],
             [
              0.2222222222222222,
              "#7201a8"
             ],
             [
              0.3333333333333333,
              "#9c179e"
             ],
             [
              0.4444444444444444,
              "#bd3786"
             ],
             [
              0.5555555555555556,
              "#d8576b"
             ],
             [
              0.6666666666666666,
              "#ed7953"
             ],
             [
              0.7777777777777778,
              "#fb9f3a"
             ],
             [
              0.8888888888888888,
              "#fdca26"
             ],
             [
              1,
              "#f0f921"
             ]
            ],
            "type": "histogram2dcontour"
           }
          ],
          "mesh3d": [
           {
            "colorbar": {
             "outlinewidth": 0,
             "ticks": ""
            },
            "type": "mesh3d"
           }
          ],
          "parcoords": [
           {
            "line": {
             "colorbar": {
              "outlinewidth": 0,
              "ticks": ""
             }
            },
            "type": "parcoords"
           }
          ],
          "pie": [
           {
            "automargin": true,
            "type": "pie"
           }
          ],
          "scatter": [
           {
            "marker": {
             "colorbar": {
              "outlinewidth": 0,
              "ticks": ""
             }
            },
            "type": "scatter"
           }
          ],
          "scatter3d": [
           {
            "line": {
             "colorbar": {
              "outlinewidth": 0,
              "ticks": ""
             }
            },
            "marker": {
             "colorbar": {
              "outlinewidth": 0,
              "ticks": ""
             }
            },
            "type": "scatter3d"
           }
          ],
          "scattercarpet": [
           {
            "marker": {
             "colorbar": {
              "outlinewidth": 0,
              "ticks": ""
             }
            },
            "type": "scattercarpet"
           }
          ],
          "scattergeo": [
           {
            "marker": {
             "colorbar": {
              "outlinewidth": 0,
              "ticks": ""
             }
            },
            "type": "scattergeo"
           }
          ],
          "scattergl": [
           {
            "marker": {
             "colorbar": {
              "outlinewidth": 0,
              "ticks": ""
             }
            },
            "type": "scattergl"
           }
          ],
          "scattermapbox": [
           {
            "marker": {
             "colorbar": {
              "outlinewidth": 0,
              "ticks": ""
             }
            },
            "type": "scattermapbox"
           }
          ],
          "scatterpolar": [
           {
            "marker": {
             "colorbar": {
              "outlinewidth": 0,
              "ticks": ""
             }
            },
            "type": "scatterpolar"
           }
          ],
          "scatterpolargl": [
           {
            "marker": {
             "colorbar": {
              "outlinewidth": 0,
              "ticks": ""
             }
            },
            "type": "scatterpolargl"
           }
          ],
          "scatterternary": [
           {
            "marker": {
             "colorbar": {
              "outlinewidth": 0,
              "ticks": ""
             }
            },
            "type": "scatterternary"
           }
          ],
          "surface": [
           {
            "colorbar": {
             "outlinewidth": 0,
             "ticks": ""
            },
            "colorscale": [
             [
              0,
              "#0d0887"
             ],
             [
              0.1111111111111111,
              "#46039f"
             ],
             [
              0.2222222222222222,
              "#7201a8"
             ],
             [
              0.3333333333333333,
              "#9c179e"
             ],
             [
              0.4444444444444444,
              "#bd3786"
             ],
             [
              0.5555555555555556,
              "#d8576b"
             ],
             [
              0.6666666666666666,
              "#ed7953"
             ],
             [
              0.7777777777777778,
              "#fb9f3a"
             ],
             [
              0.8888888888888888,
              "#fdca26"
             ],
             [
              1,
              "#f0f921"
             ]
            ],
            "type": "surface"
           }
          ],
          "table": [
           {
            "cells": {
             "fill": {
              "color": "#EBF0F8"
             },
             "line": {
              "color": "white"
             }
            },
            "header": {
             "fill": {
              "color": "#C8D4E3"
             },
             "line": {
              "color": "white"
             }
            },
            "type": "table"
           }
          ]
         },
         "layout": {
          "annotationdefaults": {
           "arrowcolor": "#2a3f5f",
           "arrowhead": 0,
           "arrowwidth": 1
          },
          "autotypenumbers": "strict",
          "coloraxis": {
           "colorbar": {
            "outlinewidth": 0,
            "ticks": ""
           }
          },
          "colorscale": {
           "diverging": [
            [
             0,
             "#8e0152"
            ],
            [
             0.1,
             "#c51b7d"
            ],
            [
             0.2,
             "#de77ae"
            ],
            [
             0.3,
             "#f1b6da"
            ],
            [
             0.4,
             "#fde0ef"
            ],
            [
             0.5,
             "#f7f7f7"
            ],
            [
             0.6,
             "#e6f5d0"
            ],
            [
             0.7,
             "#b8e186"
            ],
            [
             0.8,
             "#7fbc41"
            ],
            [
             0.9,
             "#4d9221"
            ],
            [
             1,
             "#276419"
            ]
           ],
           "sequential": [
            [
             0,
             "#0d0887"
            ],
            [
             0.1111111111111111,
             "#46039f"
            ],
            [
             0.2222222222222222,
             "#7201a8"
            ],
            [
             0.3333333333333333,
             "#9c179e"
            ],
            [
             0.4444444444444444,
             "#bd3786"
            ],
            [
             0.5555555555555556,
             "#d8576b"
            ],
            [
             0.6666666666666666,
             "#ed7953"
            ],
            [
             0.7777777777777778,
             "#fb9f3a"
            ],
            [
             0.8888888888888888,
             "#fdca26"
            ],
            [
             1,
             "#f0f921"
            ]
           ],
           "sequentialminus": [
            [
             0,
             "#0d0887"
            ],
            [
             0.1111111111111111,
             "#46039f"
            ],
            [
             0.2222222222222222,
             "#7201a8"
            ],
            [
             0.3333333333333333,
             "#9c179e"
            ],
            [
             0.4444444444444444,
             "#bd3786"
            ],
            [
             0.5555555555555556,
             "#d8576b"
            ],
            [
             0.6666666666666666,
             "#ed7953"
            ],
            [
             0.7777777777777778,
             "#fb9f3a"
            ],
            [
             0.8888888888888888,
             "#fdca26"
            ],
            [
             1,
             "#f0f921"
            ]
           ]
          },
          "colorway": [
           "#636efa",
           "#EF553B",
           "#00cc96",
           "#ab63fa",
           "#FFA15A",
           "#19d3f3",
           "#FF6692",
           "#B6E880",
           "#FF97FF",
           "#FECB52"
          ],
          "font": {
           "color": "#2a3f5f"
          },
          "geo": {
           "bgcolor": "white",
           "lakecolor": "white",
           "landcolor": "#E5ECF6",
           "showlakes": true,
           "showland": true,
           "subunitcolor": "white"
          },
          "hoverlabel": {
           "align": "left"
          },
          "hovermode": "closest",
          "mapbox": {
           "style": "light"
          },
          "paper_bgcolor": "white",
          "plot_bgcolor": "#E5ECF6",
          "polar": {
           "angularaxis": {
            "gridcolor": "white",
            "linecolor": "white",
            "ticks": ""
           },
           "bgcolor": "#E5ECF6",
           "radialaxis": {
            "gridcolor": "white",
            "linecolor": "white",
            "ticks": ""
           }
          },
          "scene": {
           "xaxis": {
            "backgroundcolor": "#E5ECF6",
            "gridcolor": "white",
            "gridwidth": 2,
            "linecolor": "white",
            "showbackground": true,
            "ticks": "",
            "zerolinecolor": "white"
           },
           "yaxis": {
            "backgroundcolor": "#E5ECF6",
            "gridcolor": "white",
            "gridwidth": 2,
            "linecolor": "white",
            "showbackground": true,
            "ticks": "",
            "zerolinecolor": "white"
           },
           "zaxis": {
            "backgroundcolor": "#E5ECF6",
            "gridcolor": "white",
            "gridwidth": 2,
            "linecolor": "white",
            "showbackground": true,
            "ticks": "",
            "zerolinecolor": "white"
           }
          },
          "shapedefaults": {
           "line": {
            "color": "#2a3f5f"
           }
          },
          "ternary": {
           "aaxis": {
            "gridcolor": "white",
            "linecolor": "white",
            "ticks": ""
           },
           "baxis": {
            "gridcolor": "white",
            "linecolor": "white",
            "ticks": ""
           },
           "bgcolor": "#E5ECF6",
           "caxis": {
            "gridcolor": "white",
            "linecolor": "white",
            "ticks": ""
           }
          },
          "title": {
           "x": 0.05
          },
          "xaxis": {
           "automargin": true,
           "gridcolor": "white",
           "linecolor": "white",
           "ticks": "",
           "title": {
            "standoff": 15
           },
           "zerolinecolor": "white",
           "zerolinewidth": 2
          },
          "yaxis": {
           "automargin": true,
           "gridcolor": "white",
           "linecolor": "white",
           "ticks": "",
           "title": {
            "standoff": 15
           },
           "zerolinecolor": "white",
           "zerolinewidth": 2
          }
         }
        },
        "xaxis": {
         "anchor": "y",
         "domain": [
          0,
          1
         ],
         "title": {
          "text": "value"
         }
        },
        "yaxis": {
         "anchor": "x",
         "domain": [
          0,
          1
         ],
         "title": {
          "text": "count"
         }
        }
       }
      },
      "text/html": [
       "<div>                            <div id=\"c76b3e6a-5a36-4119-a643-c66eaf09c3c3\" class=\"plotly-graph-div\" style=\"height:525px; width:100%;\"></div>            <script type=\"text/javascript\">                require([\"plotly\"], function(Plotly) {                    window.PLOTLYENV=window.PLOTLYENV || {};                                    if (document.getElementById(\"c76b3e6a-5a36-4119-a643-c66eaf09c3c3\")) {                    Plotly.newPlot(                        \"c76b3e6a-5a36-4119-a643-c66eaf09c3c3\",                        [{\"alignmentgroup\": \"True\", \"bingroup\": \"x\", \"hovertemplate\": \"variable=change<br>value=%{x}<br>count=%{y}<extra></extra>\", \"legendgroup\": \"change\", \"marker\": {\"color\": \"#636efa\"}, \"name\": \"change\", \"offsetgroup\": \"change\", \"orientation\": \"v\", \"showlegend\": true, \"type\": \"histogram\", \"x\": [1.0, 1.0, 0.0, 0.0, -1.0, 1.0, 0.0, 1.0, 0.0, 0.0, -1.0, 0.0, 0.0, -1.0, 1.0, -1.0, 1.0, 1.0, 0.0, 0.0, 1.0, -1.0, 0.0, 0.0, 0.0, 0.0, 1.0, 0.0, 0.0, 0.0, 0.0, 0.0, 0.0, -1.0, 0.0, 0.0, 0.0, 1.0, 0.0, 0.0, 0.0, 0.0, 0.0, 0.0, 0.0, 0.0, 0.0, 1.0, 0.0, 0.0, 0.0, 0.0, 0.0, 0.0, 0.0, 1.0, 0.0, 1.0, 0.0, 0.0, 0.0, 0.0, 1.0, -1.0, 0.0, -1.0, 1.0, -1.0, 0.0, 1.0, 0.0, 0.0, 0.0, -1.0, -1.0, 1.0, -1.0, 0.0, 1.0, 1.0, 0.0, 0.0, 0.0, 0.0, 1.0, -1.0, 1.0, 0.0, 0.0, 1.0, 0.0, 0.0, 0.0, 0.0, -1.0, 0.0, 0.0, 0.0, 0.0, -1.0, 0.0, -1.0, 1.0, -1.0, 1.0, 1.0, 1.0, 1.0, 0.0, 1.0, 0.0, 0.0, 0.0, 1.0, 1.0, 0.0, -1.0, 0.0, 0.0, 0.0, 1.0, 0.0, 0.0, 0.0, 1.0, 0.0, 0.0, 0.0, 0.0, 0.0, 0.0, 0.0, 0.0, 0.0, 1.0, 0.0, 0.0, 0.0, 0.0, 0.0, 0.0, 0.0, 0.0, 0.0, 0.0, 0.0, -1.0, 0.0, 0.0, 1.0, 0.0, 0.0, 0.0, 0.0, 0.0, 0.0, 0.0, 1.0, 0.0, 0.0, 0.0, 0.0, -1.0, 0.0, -1.0, 1.0, 1.0, 0.0, 1.0, 0.0, null], \"xaxis\": \"x\", \"yaxis\": \"y\"}],                        {\"barmode\": \"relative\", \"legend\": {\"title\": {\"text\": \"variable\"}, \"tracegroupgap\": 0}, \"margin\": {\"t\": 60}, \"template\": {\"data\": {\"bar\": [{\"error_x\": {\"color\": \"#2a3f5f\"}, \"error_y\": {\"color\": \"#2a3f5f\"}, \"marker\": {\"line\": {\"color\": \"#E5ECF6\", \"width\": 0.5}}, \"type\": \"bar\"}], \"barpolar\": [{\"marker\": {\"line\": {\"color\": \"#E5ECF6\", \"width\": 0.5}}, \"type\": \"barpolar\"}], \"carpet\": [{\"aaxis\": {\"endlinecolor\": \"#2a3f5f\", \"gridcolor\": \"white\", \"linecolor\": \"white\", \"minorgridcolor\": \"white\", \"startlinecolor\": \"#2a3f5f\"}, \"baxis\": {\"endlinecolor\": \"#2a3f5f\", \"gridcolor\": \"white\", \"linecolor\": \"white\", \"minorgridcolor\": \"white\", \"startlinecolor\": \"#2a3f5f\"}, \"type\": \"carpet\"}], \"choropleth\": [{\"colorbar\": {\"outlinewidth\": 0, \"ticks\": \"\"}, \"type\": \"choropleth\"}], \"contour\": [{\"colorbar\": {\"outlinewidth\": 0, \"ticks\": \"\"}, \"colorscale\": [[0.0, \"#0d0887\"], [0.1111111111111111, \"#46039f\"], [0.2222222222222222, \"#7201a8\"], [0.3333333333333333, \"#9c179e\"], [0.4444444444444444, \"#bd3786\"], [0.5555555555555556, \"#d8576b\"], [0.6666666666666666, \"#ed7953\"], [0.7777777777777778, \"#fb9f3a\"], [0.8888888888888888, \"#fdca26\"], [1.0, \"#f0f921\"]], \"type\": \"contour\"}], \"contourcarpet\": [{\"colorbar\": {\"outlinewidth\": 0, \"ticks\": \"\"}, \"type\": \"contourcarpet\"}], \"heatmap\": [{\"colorbar\": {\"outlinewidth\": 0, \"ticks\": \"\"}, \"colorscale\": [[0.0, \"#0d0887\"], [0.1111111111111111, \"#46039f\"], [0.2222222222222222, \"#7201a8\"], [0.3333333333333333, \"#9c179e\"], [0.4444444444444444, \"#bd3786\"], [0.5555555555555556, \"#d8576b\"], [0.6666666666666666, \"#ed7953\"], [0.7777777777777778, \"#fb9f3a\"], [0.8888888888888888, \"#fdca26\"], [1.0, \"#f0f921\"]], \"type\": \"heatmap\"}], \"heatmapgl\": [{\"colorbar\": {\"outlinewidth\": 0, \"ticks\": \"\"}, \"colorscale\": [[0.0, \"#0d0887\"], [0.1111111111111111, \"#46039f\"], [0.2222222222222222, \"#7201a8\"], [0.3333333333333333, \"#9c179e\"], [0.4444444444444444, \"#bd3786\"], [0.5555555555555556, \"#d8576b\"], [0.6666666666666666, \"#ed7953\"], [0.7777777777777778, \"#fb9f3a\"], [0.8888888888888888, \"#fdca26\"], [1.0, \"#f0f921\"]], \"type\": \"heatmapgl\"}], \"histogram\": [{\"marker\": {\"colorbar\": {\"outlinewidth\": 0, \"ticks\": \"\"}}, \"type\": \"histogram\"}], \"histogram2d\": [{\"colorbar\": {\"outlinewidth\": 0, \"ticks\": \"\"}, \"colorscale\": [[0.0, \"#0d0887\"], [0.1111111111111111, \"#46039f\"], [0.2222222222222222, \"#7201a8\"], [0.3333333333333333, \"#9c179e\"], [0.4444444444444444, \"#bd3786\"], [0.5555555555555556, \"#d8576b\"], [0.6666666666666666, \"#ed7953\"], [0.7777777777777778, \"#fb9f3a\"], [0.8888888888888888, \"#fdca26\"], [1.0, \"#f0f921\"]], \"type\": \"histogram2d\"}], \"histogram2dcontour\": [{\"colorbar\": {\"outlinewidth\": 0, \"ticks\": \"\"}, \"colorscale\": [[0.0, \"#0d0887\"], [0.1111111111111111, \"#46039f\"], [0.2222222222222222, \"#7201a8\"], [0.3333333333333333, \"#9c179e\"], [0.4444444444444444, \"#bd3786\"], [0.5555555555555556, \"#d8576b\"], [0.6666666666666666, \"#ed7953\"], [0.7777777777777778, \"#fb9f3a\"], [0.8888888888888888, \"#fdca26\"], [1.0, \"#f0f921\"]], \"type\": \"histogram2dcontour\"}], \"mesh3d\": [{\"colorbar\": {\"outlinewidth\": 0, \"ticks\": \"\"}, \"type\": \"mesh3d\"}], \"parcoords\": [{\"line\": {\"colorbar\": {\"outlinewidth\": 0, \"ticks\": \"\"}}, \"type\": \"parcoords\"}], \"pie\": [{\"automargin\": true, \"type\": \"pie\"}], \"scatter\": [{\"marker\": {\"colorbar\": {\"outlinewidth\": 0, \"ticks\": \"\"}}, \"type\": \"scatter\"}], \"scatter3d\": [{\"line\": {\"colorbar\": {\"outlinewidth\": 0, \"ticks\": \"\"}}, \"marker\": {\"colorbar\": {\"outlinewidth\": 0, \"ticks\": \"\"}}, \"type\": \"scatter3d\"}], \"scattercarpet\": [{\"marker\": {\"colorbar\": {\"outlinewidth\": 0, \"ticks\": \"\"}}, \"type\": \"scattercarpet\"}], \"scattergeo\": [{\"marker\": {\"colorbar\": {\"outlinewidth\": 0, \"ticks\": \"\"}}, \"type\": \"scattergeo\"}], \"scattergl\": [{\"marker\": {\"colorbar\": {\"outlinewidth\": 0, \"ticks\": \"\"}}, \"type\": \"scattergl\"}], \"scattermapbox\": [{\"marker\": {\"colorbar\": {\"outlinewidth\": 0, \"ticks\": \"\"}}, \"type\": \"scattermapbox\"}], \"scatterpolar\": [{\"marker\": {\"colorbar\": {\"outlinewidth\": 0, \"ticks\": \"\"}}, \"type\": \"scatterpolar\"}], \"scatterpolargl\": [{\"marker\": {\"colorbar\": {\"outlinewidth\": 0, \"ticks\": \"\"}}, \"type\": \"scatterpolargl\"}], \"scatterternary\": [{\"marker\": {\"colorbar\": {\"outlinewidth\": 0, \"ticks\": \"\"}}, \"type\": \"scatterternary\"}], \"surface\": [{\"colorbar\": {\"outlinewidth\": 0, \"ticks\": \"\"}, \"colorscale\": [[0.0, \"#0d0887\"], [0.1111111111111111, \"#46039f\"], [0.2222222222222222, \"#7201a8\"], [0.3333333333333333, \"#9c179e\"], [0.4444444444444444, \"#bd3786\"], [0.5555555555555556, \"#d8576b\"], [0.6666666666666666, \"#ed7953\"], [0.7777777777777778, \"#fb9f3a\"], [0.8888888888888888, \"#fdca26\"], [1.0, \"#f0f921\"]], \"type\": \"surface\"}], \"table\": [{\"cells\": {\"fill\": {\"color\": \"#EBF0F8\"}, \"line\": {\"color\": \"white\"}}, \"header\": {\"fill\": {\"color\": \"#C8D4E3\"}, \"line\": {\"color\": \"white\"}}, \"type\": \"table\"}]}, \"layout\": {\"annotationdefaults\": {\"arrowcolor\": \"#2a3f5f\", \"arrowhead\": 0, \"arrowwidth\": 1}, \"autotypenumbers\": \"strict\", \"coloraxis\": {\"colorbar\": {\"outlinewidth\": 0, \"ticks\": \"\"}}, \"colorscale\": {\"diverging\": [[0, \"#8e0152\"], [0.1, \"#c51b7d\"], [0.2, \"#de77ae\"], [0.3, \"#f1b6da\"], [0.4, \"#fde0ef\"], [0.5, \"#f7f7f7\"], [0.6, \"#e6f5d0\"], [0.7, \"#b8e186\"], [0.8, \"#7fbc41\"], [0.9, \"#4d9221\"], [1, \"#276419\"]], \"sequential\": [[0.0, \"#0d0887\"], [0.1111111111111111, \"#46039f\"], [0.2222222222222222, \"#7201a8\"], [0.3333333333333333, \"#9c179e\"], [0.4444444444444444, \"#bd3786\"], [0.5555555555555556, \"#d8576b\"], [0.6666666666666666, \"#ed7953\"], [0.7777777777777778, \"#fb9f3a\"], [0.8888888888888888, \"#fdca26\"], [1.0, \"#f0f921\"]], \"sequentialminus\": [[0.0, \"#0d0887\"], [0.1111111111111111, \"#46039f\"], [0.2222222222222222, \"#7201a8\"], [0.3333333333333333, \"#9c179e\"], [0.4444444444444444, \"#bd3786\"], [0.5555555555555556, \"#d8576b\"], [0.6666666666666666, \"#ed7953\"], [0.7777777777777778, \"#fb9f3a\"], [0.8888888888888888, \"#fdca26\"], [1.0, \"#f0f921\"]]}, \"colorway\": [\"#636efa\", \"#EF553B\", \"#00cc96\", \"#ab63fa\", \"#FFA15A\", \"#19d3f3\", \"#FF6692\", \"#B6E880\", \"#FF97FF\", \"#FECB52\"], \"font\": {\"color\": \"#2a3f5f\"}, \"geo\": {\"bgcolor\": \"white\", \"lakecolor\": \"white\", \"landcolor\": \"#E5ECF6\", \"showlakes\": true, \"showland\": true, \"subunitcolor\": \"white\"}, \"hoverlabel\": {\"align\": \"left\"}, \"hovermode\": \"closest\", \"mapbox\": {\"style\": \"light\"}, \"paper_bgcolor\": \"white\", \"plot_bgcolor\": \"#E5ECF6\", \"polar\": {\"angularaxis\": {\"gridcolor\": \"white\", \"linecolor\": \"white\", \"ticks\": \"\"}, \"bgcolor\": \"#E5ECF6\", \"radialaxis\": {\"gridcolor\": \"white\", \"linecolor\": \"white\", \"ticks\": \"\"}}, \"scene\": {\"xaxis\": {\"backgroundcolor\": \"#E5ECF6\", \"gridcolor\": \"white\", \"gridwidth\": 2, \"linecolor\": \"white\", \"showbackground\": true, \"ticks\": \"\", \"zerolinecolor\": \"white\"}, \"yaxis\": {\"backgroundcolor\": \"#E5ECF6\", \"gridcolor\": \"white\", \"gridwidth\": 2, \"linecolor\": \"white\", \"showbackground\": true, \"ticks\": \"\", \"zerolinecolor\": \"white\"}, \"zaxis\": {\"backgroundcolor\": \"#E5ECF6\", \"gridcolor\": \"white\", \"gridwidth\": 2, \"linecolor\": \"white\", \"showbackground\": true, \"ticks\": \"\", \"zerolinecolor\": \"white\"}}, \"shapedefaults\": {\"line\": {\"color\": \"#2a3f5f\"}}, \"ternary\": {\"aaxis\": {\"gridcolor\": \"white\", \"linecolor\": \"white\", \"ticks\": \"\"}, \"baxis\": {\"gridcolor\": \"white\", \"linecolor\": \"white\", \"ticks\": \"\"}, \"bgcolor\": \"#E5ECF6\", \"caxis\": {\"gridcolor\": \"white\", \"linecolor\": \"white\", \"ticks\": \"\"}}, \"title\": {\"x\": 0.05}, \"xaxis\": {\"automargin\": true, \"gridcolor\": \"white\", \"linecolor\": \"white\", \"ticks\": \"\", \"title\": {\"standoff\": 15}, \"zerolinecolor\": \"white\", \"zerolinewidth\": 2}, \"yaxis\": {\"automargin\": true, \"gridcolor\": \"white\", \"linecolor\": \"white\", \"ticks\": \"\", \"title\": {\"standoff\": 15}, \"zerolinecolor\": \"white\", \"zerolinewidth\": 2}}}, \"xaxis\": {\"anchor\": \"y\", \"domain\": [0.0, 1.0], \"title\": {\"text\": \"value\"}}, \"yaxis\": {\"anchor\": \"x\", \"domain\": [0.0, 1.0], \"title\": {\"text\": \"count\"}}},                        {\"responsive\": true}                    ).then(function(){\n",
       "                            \n",
       "var gd = document.getElementById('c76b3e6a-5a36-4119-a643-c66eaf09c3c3');\n",
       "var x = new MutationObserver(function (mutations, observer) {{\n",
       "        var display = window.getComputedStyle(gd).display;\n",
       "        if (!display || display === 'none') {{\n",
       "            console.log([gd, 'removed!']);\n",
       "            Plotly.purge(gd);\n",
       "            observer.disconnect();\n",
       "        }}\n",
       "}});\n",
       "\n",
       "// Listen for the removal of the full notebook cells\n",
       "var notebookContainer = gd.closest('#notebook-container');\n",
       "if (notebookContainer) {{\n",
       "    x.observe(notebookContainer, {childList: true});\n",
       "}}\n",
       "\n",
       "// Listen for the clearing of the current output cell\n",
       "var outputEl = gd.closest('.output');\n",
       "if (outputEl) {{\n",
       "    x.observe(outputEl, {childList: true});\n",
       "}}\n",
       "\n",
       "                        })                };                });            </script>        </div>"
      ]
     },
     "metadata": {},
     "output_type": "display_data"
    }
   ],
   "source": [
    "x.hist()"
   ]
  },
  {
   "cell_type": "code",
   "execution_count": 98,
   "metadata": {},
   "outputs": [
    {
     "ename": "TypeError",
     "evalue": "'<' not supported between instances of 'float' and 'str'",
     "output_type": "error",
     "traceback": [
      "\u001b[0;31m---------------------------------------------------------------------------\u001b[0m",
      "\u001b[0;31mTypeError\u001b[0m                                 Traceback (most recent call last)",
      "\u001b[0;32m<ipython-input-98-76c7611c8132>\u001b[0m in \u001b[0;36m<module>\u001b[0;34m\u001b[0m\n\u001b[0;32m----> 1\u001b[0;31m \u001b[0mX_res\u001b[0m\u001b[0;34m,\u001b[0m \u001b[0my_res\u001b[0m \u001b[0;34m=\u001b[0m \u001b[0msmote\u001b[0m\u001b[0;34m.\u001b[0m\u001b[0mfit_resample\u001b[0m\u001b[0;34m(\u001b[0m\u001b[0;34m[\u001b[0m\u001b[0mint\u001b[0m\u001b[0;34m(\u001b[0m\u001b[0mi\u001b[0m\u001b[0;34m)\u001b[0m \u001b[0;32mfor\u001b[0m \u001b[0mi\u001b[0m \u001b[0;32min\u001b[0m \u001b[0mx\u001b[0m\u001b[0;34m[\u001b[0m\u001b[0;34m:\u001b[0m\u001b[0;34m-\u001b[0m\u001b[0;36m1\u001b[0m\u001b[0;34m]\u001b[0m\u001b[0;34m]\u001b[0m\u001b[0;34m,\u001b[0m \u001b[0mdata\u001b[0m\u001b[0;34m[\u001b[0m\u001b[0;34m:\u001b[0m\u001b[0;34m-\u001b[0m\u001b[0;36m1\u001b[0m\u001b[0;34m]\u001b[0m\u001b[0;34m)\u001b[0m\u001b[0;34m\u001b[0m\u001b[0;34m\u001b[0m\u001b[0m\n\u001b[0m",
      "\u001b[0;32m~/miniconda3/lib/python3.8/site-packages/imblearn/base.py\u001b[0m in \u001b[0;36mfit_resample\u001b[0;34m(self, X, y)\u001b[0m\n\u001b[1;32m     73\u001b[0m             \u001b[0mThe\u001b[0m \u001b[0mcorresponding\u001b[0m \u001b[0mlabel\u001b[0m \u001b[0mof\u001b[0m\u001b[0;31m \u001b[0m\u001b[0;31m`\u001b[0m\u001b[0mX_resampled\u001b[0m\u001b[0;31m`\u001b[0m\u001b[0;34m.\u001b[0m\u001b[0;34m\u001b[0m\u001b[0;34m\u001b[0m\u001b[0m\n\u001b[1;32m     74\u001b[0m         \"\"\"\n\u001b[0;32m---> 75\u001b[0;31m         \u001b[0mcheck_classification_targets\u001b[0m\u001b[0;34m(\u001b[0m\u001b[0my\u001b[0m\u001b[0;34m)\u001b[0m\u001b[0;34m\u001b[0m\u001b[0;34m\u001b[0m\u001b[0m\n\u001b[0m\u001b[1;32m     76\u001b[0m         \u001b[0marrays_transformer\u001b[0m \u001b[0;34m=\u001b[0m \u001b[0mArraysTransformer\u001b[0m\u001b[0;34m(\u001b[0m\u001b[0mX\u001b[0m\u001b[0;34m,\u001b[0m \u001b[0my\u001b[0m\u001b[0;34m)\u001b[0m\u001b[0;34m\u001b[0m\u001b[0;34m\u001b[0m\u001b[0m\n\u001b[1;32m     77\u001b[0m         \u001b[0mX\u001b[0m\u001b[0;34m,\u001b[0m \u001b[0my\u001b[0m\u001b[0;34m,\u001b[0m \u001b[0mbinarize_y\u001b[0m \u001b[0;34m=\u001b[0m \u001b[0mself\u001b[0m\u001b[0;34m.\u001b[0m\u001b[0m_check_X_y\u001b[0m\u001b[0;34m(\u001b[0m\u001b[0mX\u001b[0m\u001b[0;34m,\u001b[0m \u001b[0my\u001b[0m\u001b[0;34m)\u001b[0m\u001b[0;34m\u001b[0m\u001b[0;34m\u001b[0m\u001b[0m\n",
      "\u001b[0;32m~/miniconda3/lib/python3.8/site-packages/sklearn/utils/multiclass.py\u001b[0m in \u001b[0;36mcheck_classification_targets\u001b[0;34m(y)\u001b[0m\n\u001b[1;32m    178\u001b[0m     \u001b[0my\u001b[0m \u001b[0;34m:\u001b[0m \u001b[0marray\u001b[0m\u001b[0;34m-\u001b[0m\u001b[0mlike\u001b[0m\u001b[0;34m\u001b[0m\u001b[0;34m\u001b[0m\u001b[0m\n\u001b[1;32m    179\u001b[0m     \"\"\"\n\u001b[0;32m--> 180\u001b[0;31m     \u001b[0my_type\u001b[0m \u001b[0;34m=\u001b[0m \u001b[0mtype_of_target\u001b[0m\u001b[0;34m(\u001b[0m\u001b[0my\u001b[0m\u001b[0;34m)\u001b[0m\u001b[0;34m\u001b[0m\u001b[0;34m\u001b[0m\u001b[0m\n\u001b[0m\u001b[1;32m    181\u001b[0m     if y_type not in ['binary', 'multiclass', 'multiclass-multioutput',\n\u001b[1;32m    182\u001b[0m                       'multilabel-indicator', 'multilabel-sequences']:\n",
      "\u001b[0;32m~/miniconda3/lib/python3.8/site-packages/sklearn/utils/multiclass.py\u001b[0m in \u001b[0;36mtype_of_target\u001b[0;34m(y)\u001b[0m\n\u001b[1;32m    259\u001b[0m         \u001b[0;32mraise\u001b[0m \u001b[0mValueError\u001b[0m\u001b[0;34m(\u001b[0m\u001b[0;34m\"y cannot be class 'SparseSeries' or 'SparseArray'\"\u001b[0m\u001b[0;34m)\u001b[0m\u001b[0;34m\u001b[0m\u001b[0;34m\u001b[0m\u001b[0m\n\u001b[1;32m    260\u001b[0m \u001b[0;34m\u001b[0m\u001b[0m\n\u001b[0;32m--> 261\u001b[0;31m     \u001b[0;32mif\u001b[0m \u001b[0mis_multilabel\u001b[0m\u001b[0;34m(\u001b[0m\u001b[0my\u001b[0m\u001b[0;34m)\u001b[0m\u001b[0;34m:\u001b[0m\u001b[0;34m\u001b[0m\u001b[0;34m\u001b[0m\u001b[0m\n\u001b[0m\u001b[1;32m    262\u001b[0m         \u001b[0;32mreturn\u001b[0m \u001b[0;34m'multilabel-indicator'\u001b[0m\u001b[0;34m\u001b[0m\u001b[0;34m\u001b[0m\u001b[0m\n\u001b[1;32m    263\u001b[0m \u001b[0;34m\u001b[0m\u001b[0m\n",
      "\u001b[0;32m~/miniconda3/lib/python3.8/site-packages/sklearn/utils/multiclass.py\u001b[0m in \u001b[0;36mis_multilabel\u001b[0;34m(y)\u001b[0m\n\u001b[1;32m    161\u001b[0m                  _is_integral_float(np.unique(y.data))))\n\u001b[1;32m    162\u001b[0m     \u001b[0;32melse\u001b[0m\u001b[0;34m:\u001b[0m\u001b[0;34m\u001b[0m\u001b[0;34m\u001b[0m\u001b[0m\n\u001b[0;32m--> 163\u001b[0;31m         \u001b[0mlabels\u001b[0m \u001b[0;34m=\u001b[0m \u001b[0mnp\u001b[0m\u001b[0;34m.\u001b[0m\u001b[0munique\u001b[0m\u001b[0;34m(\u001b[0m\u001b[0my\u001b[0m\u001b[0;34m)\u001b[0m\u001b[0;34m\u001b[0m\u001b[0;34m\u001b[0m\u001b[0m\n\u001b[0m\u001b[1;32m    164\u001b[0m \u001b[0;34m\u001b[0m\u001b[0m\n\u001b[1;32m    165\u001b[0m         return len(labels) < 3 and (y.dtype.kind in 'biu' or  # bool, int, uint\n",
      "\u001b[0;32m<__array_function__ internals>\u001b[0m in \u001b[0;36munique\u001b[0;34m(*args, **kwargs)\u001b[0m\n",
      "\u001b[0;32m~/miniconda3/lib/python3.8/site-packages/numpy/lib/arraysetops.py\u001b[0m in \u001b[0;36munique\u001b[0;34m(ar, return_index, return_inverse, return_counts, axis)\u001b[0m\n\u001b[1;32m    260\u001b[0m     \u001b[0mar\u001b[0m \u001b[0;34m=\u001b[0m \u001b[0mnp\u001b[0m\u001b[0;34m.\u001b[0m\u001b[0masanyarray\u001b[0m\u001b[0;34m(\u001b[0m\u001b[0mar\u001b[0m\u001b[0;34m)\u001b[0m\u001b[0;34m\u001b[0m\u001b[0;34m\u001b[0m\u001b[0m\n\u001b[1;32m    261\u001b[0m     \u001b[0;32mif\u001b[0m \u001b[0maxis\u001b[0m \u001b[0;32mis\u001b[0m \u001b[0;32mNone\u001b[0m\u001b[0;34m:\u001b[0m\u001b[0;34m\u001b[0m\u001b[0;34m\u001b[0m\u001b[0m\n\u001b[0;32m--> 262\u001b[0;31m         \u001b[0mret\u001b[0m \u001b[0;34m=\u001b[0m \u001b[0m_unique1d\u001b[0m\u001b[0;34m(\u001b[0m\u001b[0mar\u001b[0m\u001b[0;34m,\u001b[0m \u001b[0mreturn_index\u001b[0m\u001b[0;34m,\u001b[0m \u001b[0mreturn_inverse\u001b[0m\u001b[0;34m,\u001b[0m \u001b[0mreturn_counts\u001b[0m\u001b[0;34m)\u001b[0m\u001b[0;34m\u001b[0m\u001b[0;34m\u001b[0m\u001b[0m\n\u001b[0m\u001b[1;32m    263\u001b[0m         \u001b[0;32mreturn\u001b[0m \u001b[0m_unpack_tuple\u001b[0m\u001b[0;34m(\u001b[0m\u001b[0mret\u001b[0m\u001b[0;34m)\u001b[0m\u001b[0;34m\u001b[0m\u001b[0;34m\u001b[0m\u001b[0m\n\u001b[1;32m    264\u001b[0m \u001b[0;34m\u001b[0m\u001b[0m\n",
      "\u001b[0;32m~/miniconda3/lib/python3.8/site-packages/numpy/lib/arraysetops.py\u001b[0m in \u001b[0;36m_unique1d\u001b[0;34m(ar, return_index, return_inverse, return_counts)\u001b[0m\n\u001b[1;32m    321\u001b[0m         \u001b[0maux\u001b[0m \u001b[0;34m=\u001b[0m \u001b[0mar\u001b[0m\u001b[0;34m[\u001b[0m\u001b[0mperm\u001b[0m\u001b[0;34m]\u001b[0m\u001b[0;34m\u001b[0m\u001b[0;34m\u001b[0m\u001b[0m\n\u001b[1;32m    322\u001b[0m     \u001b[0;32melse\u001b[0m\u001b[0;34m:\u001b[0m\u001b[0;34m\u001b[0m\u001b[0;34m\u001b[0m\u001b[0m\n\u001b[0;32m--> 323\u001b[0;31m         \u001b[0mar\u001b[0m\u001b[0;34m.\u001b[0m\u001b[0msort\u001b[0m\u001b[0;34m(\u001b[0m\u001b[0;34m)\u001b[0m\u001b[0;34m\u001b[0m\u001b[0;34m\u001b[0m\u001b[0m\n\u001b[0m\u001b[1;32m    324\u001b[0m         \u001b[0maux\u001b[0m \u001b[0;34m=\u001b[0m \u001b[0mar\u001b[0m\u001b[0;34m\u001b[0m\u001b[0;34m\u001b[0m\u001b[0m\n\u001b[1;32m    325\u001b[0m     \u001b[0mmask\u001b[0m \u001b[0;34m=\u001b[0m \u001b[0mnp\u001b[0m\u001b[0;34m.\u001b[0m\u001b[0mempty\u001b[0m\u001b[0;34m(\u001b[0m\u001b[0maux\u001b[0m\u001b[0;34m.\u001b[0m\u001b[0mshape\u001b[0m\u001b[0;34m,\u001b[0m \u001b[0mdtype\u001b[0m\u001b[0;34m=\u001b[0m\u001b[0mnp\u001b[0m\u001b[0;34m.\u001b[0m\u001b[0mbool_\u001b[0m\u001b[0;34m)\u001b[0m\u001b[0;34m\u001b[0m\u001b[0;34m\u001b[0m\u001b[0m\n",
      "\u001b[0;31mTypeError\u001b[0m: '<' not supported between instances of 'float' and 'str'"
     ]
    }
   ],
   "source": [
    "#oversampling to balance data\n",
    "X_res, y_res = smote.fit_resample([int(i) for i in x[:-1]], data[:-1])"
   ]
  },
  {
   "cell_type": "code",
   "execution_count": 97,
   "metadata": {},
   "outputs": [
    {
     "data": {
      "text/plain": [
       "[1,\n",
       " 1,\n",
       " 0,\n",
       " 0,\n",
       " -1,\n",
       " 1,\n",
       " 0,\n",
       " 1,\n",
       " 0,\n",
       " 0,\n",
       " -1,\n",
       " 0,\n",
       " 0,\n",
       " -1,\n",
       " 1,\n",
       " -1,\n",
       " 1,\n",
       " 1,\n",
       " 0,\n",
       " 0,\n",
       " 1,\n",
       " -1,\n",
       " 0,\n",
       " 0,\n",
       " 0,\n",
       " 0,\n",
       " 1,\n",
       " 0,\n",
       " 0,\n",
       " 0,\n",
       " 0,\n",
       " 0,\n",
       " 0,\n",
       " -1,\n",
       " 0,\n",
       " 0,\n",
       " 0,\n",
       " 1,\n",
       " 0,\n",
       " 0,\n",
       " 0,\n",
       " 0,\n",
       " 0,\n",
       " 0,\n",
       " 0,\n",
       " 0,\n",
       " 0,\n",
       " 1,\n",
       " 0,\n",
       " 0,\n",
       " 0,\n",
       " 0,\n",
       " 0,\n",
       " 0,\n",
       " 0,\n",
       " 1,\n",
       " 0,\n",
       " 1,\n",
       " 0,\n",
       " 0,\n",
       " 0,\n",
       " 0,\n",
       " 1,\n",
       " -1,\n",
       " 0,\n",
       " -1,\n",
       " 1,\n",
       " -1,\n",
       " 0,\n",
       " 1,\n",
       " 0,\n",
       " 0,\n",
       " 0,\n",
       " -1,\n",
       " -1,\n",
       " 1,\n",
       " -1,\n",
       " 0,\n",
       " 1,\n",
       " 1,\n",
       " 0,\n",
       " 0,\n",
       " 0,\n",
       " 0,\n",
       " 1,\n",
       " -1,\n",
       " 1,\n",
       " 0,\n",
       " 0,\n",
       " 1,\n",
       " 0,\n",
       " 0,\n",
       " 0,\n",
       " 0,\n",
       " -1,\n",
       " 0,\n",
       " 0,\n",
       " 0,\n",
       " 0,\n",
       " -1,\n",
       " 0,\n",
       " -1,\n",
       " 1,\n",
       " -1,\n",
       " 1,\n",
       " 1,\n",
       " 1,\n",
       " 1,\n",
       " 0,\n",
       " 1,\n",
       " 0,\n",
       " 0,\n",
       " 0,\n",
       " 1,\n",
       " 1,\n",
       " 0,\n",
       " -1,\n",
       " 0,\n",
       " 0,\n",
       " 0,\n",
       " 1,\n",
       " 0,\n",
       " 0,\n",
       " 0,\n",
       " 1,\n",
       " 0,\n",
       " 0,\n",
       " 0,\n",
       " 0,\n",
       " 0,\n",
       " 0,\n",
       " 0,\n",
       " 0,\n",
       " 0,\n",
       " 1,\n",
       " 0,\n",
       " 0,\n",
       " 0,\n",
       " 0,\n",
       " 0,\n",
       " 0,\n",
       " 0,\n",
       " 0,\n",
       " 0,\n",
       " 0,\n",
       " 0,\n",
       " -1,\n",
       " 0,\n",
       " 0,\n",
       " 1,\n",
       " 0,\n",
       " 0,\n",
       " 0,\n",
       " 0,\n",
       " 0,\n",
       " 0,\n",
       " 0,\n",
       " 1,\n",
       " 0,\n",
       " 0,\n",
       " 0,\n",
       " 0,\n",
       " -1,\n",
       " 0,\n",
       " -1,\n",
       " 1,\n",
       " 1,\n",
       " 0,\n",
       " 1,\n",
       " 0]"
      ]
     },
     "execution_count": 97,
     "metadata": {},
     "output_type": "execute_result"
    }
   ],
   "source": []
  },
  {
   "cell_type": "code",
   "execution_count": 96,
   "metadata": {},
   "outputs": [
    {
     "data": {
      "text/plain": [
       "0      1.0\n",
       "1      1.0\n",
       "2      0.0\n",
       "3      0.0\n",
       "4     -1.0\n",
       "      ... \n",
       "165    1.0\n",
       "166    1.0\n",
       "167    0.0\n",
       "168    1.0\n",
       "169    0.0\n",
       "Name: change, Length: 170, dtype: float64"
      ]
     },
     "execution_count": 96,
     "metadata": {},
     "output_type": "execute_result"
    }
   ],
   "source": []
  },
  {
   "cell_type": "code",
   "execution_count": 139,
   "metadata": {},
   "outputs": [
    {
     "data": {
      "text/html": [
       "<div>\n",
       "<style scoped>\n",
       "    .dataframe tbody tr th:only-of-type {\n",
       "        vertical-align: middle;\n",
       "    }\n",
       "\n",
       "    .dataframe tbody tr th {\n",
       "        vertical-align: top;\n",
       "    }\n",
       "\n",
       "    .dataframe thead th {\n",
       "        text-align: right;\n",
       "    }\n",
       "</style>\n",
       "<table border=\"1\" class=\"dataframe\">\n",
       "  <thead>\n",
       "    <tr style=\"text-align: right;\">\n",
       "      <th></th>\n",
       "      <th>date</th>\n",
       "      <th>next_close_change</th>\n",
       "      <th>price_change</th>\n",
       "      <th>volume_change</th>\n",
       "      <th>high</th>\n",
       "      <th>low</th>\n",
       "      <th>close</th>\n",
       "      <th>open</th>\n",
       "      <th>volume</th>\n",
       "      <th>volume_adi</th>\n",
       "      <th>...</th>\n",
       "      <th>momentum_wr</th>\n",
       "      <th>momentum_ao</th>\n",
       "      <th>momentum_kama</th>\n",
       "      <th>momentum_roc</th>\n",
       "      <th>momentum_ppo</th>\n",
       "      <th>momentum_ppo_signal</th>\n",
       "      <th>momentum_ppo_hist</th>\n",
       "      <th>others_dr</th>\n",
       "      <th>others_dlr</th>\n",
       "      <th>others_cr</th>\n",
       "    </tr>\n",
       "  </thead>\n",
       "  <tbody>\n",
       "    <tr>\n",
       "      <th>0</th>\n",
       "      <td>2020-06-02T00:00:00+0000</td>\n",
       "      <td>0.013308</td>\n",
       "      <td>NaN</td>\n",
       "      <td>NaN</td>\n",
       "      <td>308.1300</td>\n",
       "      <td>305.1000</td>\n",
       "      <td>308.08</td>\n",
       "      <td>306.55</td>\n",
       "      <td>73635043.0</td>\n",
       "      <td>7.120484e+07</td>\n",
       "      <td>...</td>\n",
       "      <td>NaN</td>\n",
       "      <td>NaN</td>\n",
       "      <td>NaN</td>\n",
       "      <td>NaN</td>\n",
       "      <td>NaN</td>\n",
       "      <td>NaN</td>\n",
       "      <td>NaN</td>\n",
       "      <td>-10.555622</td>\n",
       "      <td>NaN</td>\n",
       "      <td>0.000000</td>\n",
       "    </tr>\n",
       "    <tr>\n",
       "      <th>1</th>\n",
       "      <td>2020-06-03T00:00:00+0000</td>\n",
       "      <td>0.035300</td>\n",
       "      <td>0.013308</td>\n",
       "      <td>0.246011</td>\n",
       "      <td>313.2200</td>\n",
       "      <td>309.9400</td>\n",
       "      <td>312.18</td>\n",
       "      <td>310.24</td>\n",
       "      <td>91750087.0</td>\n",
       "      <td>1.047719e+08</td>\n",
       "      <td>...</td>\n",
       "      <td>NaN</td>\n",
       "      <td>NaN</td>\n",
       "      <td>NaN</td>\n",
       "      <td>NaN</td>\n",
       "      <td>NaN</td>\n",
       "      <td>NaN</td>\n",
       "      <td>NaN</td>\n",
       "      <td>1.330823</td>\n",
       "      <td>1.322046</td>\n",
       "      <td>1.330823</td>\n",
       "    </tr>\n",
       "    <tr>\n",
       "      <th>2</th>\n",
       "      <td>2020-06-08T00:00:00+0000</td>\n",
       "      <td>-0.007457</td>\n",
       "      <td>0.035300</td>\n",
       "      <td>-0.200979</td>\n",
       "      <td>323.4100</td>\n",
       "      <td>319.6300</td>\n",
       "      <td>323.20</td>\n",
       "      <td>320.22</td>\n",
       "      <td>73310274.0</td>\n",
       "      <td>1.699366e+08</td>\n",
       "      <td>...</td>\n",
       "      <td>NaN</td>\n",
       "      <td>NaN</td>\n",
       "      <td>NaN</td>\n",
       "      <td>NaN</td>\n",
       "      <td>NaN</td>\n",
       "      <td>NaN</td>\n",
       "      <td>NaN</td>\n",
       "      <td>3.530015</td>\n",
       "      <td>3.469138</td>\n",
       "      <td>4.907816</td>\n",
       "    </tr>\n",
       "    <tr>\n",
       "      <th>3</th>\n",
       "      <td>2020-06-09T00:00:00+0000</td>\n",
       "      <td>-0.005580</td>\n",
       "      <td>-0.007457</td>\n",
       "      <td>0.052713</td>\n",
       "      <td>323.2849</td>\n",
       "      <td>319.3600</td>\n",
       "      <td>320.79</td>\n",
       "      <td>320.30</td>\n",
       "      <td>77174695.0</td>\n",
       "      <td>1.489977e+08</td>\n",
       "      <td>...</td>\n",
       "      <td>NaN</td>\n",
       "      <td>NaN</td>\n",
       "      <td>NaN</td>\n",
       "      <td>NaN</td>\n",
       "      <td>NaN</td>\n",
       "      <td>NaN</td>\n",
       "      <td>NaN</td>\n",
       "      <td>-0.745668</td>\n",
       "      <td>-0.748462</td>\n",
       "      <td>4.125552</td>\n",
       "    </tr>\n",
       "    <tr>\n",
       "      <th>4</th>\n",
       "      <td>2020-06-10T00:00:00+0000</td>\n",
       "      <td>-0.057649</td>\n",
       "      <td>-0.005580</td>\n",
       "      <td>0.217300</td>\n",
       "      <td>322.3900</td>\n",
       "      <td>318.2209</td>\n",
       "      <td>319.00</td>\n",
       "      <td>321.42</td>\n",
       "      <td>93944722.0</td>\n",
       "      <td>9.016477e+07</td>\n",
       "      <td>...</td>\n",
       "      <td>NaN</td>\n",
       "      <td>NaN</td>\n",
       "      <td>NaN</td>\n",
       "      <td>NaN</td>\n",
       "      <td>NaN</td>\n",
       "      <td>NaN</td>\n",
       "      <td>NaN</td>\n",
       "      <td>-0.557997</td>\n",
       "      <td>-0.559560</td>\n",
       "      <td>3.544534</td>\n",
       "    </tr>\n",
       "  </tbody>\n",
       "</table>\n",
       "<p>5 rows × 92 columns</p>\n",
       "</div>"
      ],
      "text/plain": [
       "                       date  next_close_change  price_change  volume_change  \\\n",
       "0  2020-06-02T00:00:00+0000           0.013308           NaN            NaN   \n",
       "1  2020-06-03T00:00:00+0000           0.035300      0.013308       0.246011   \n",
       "2  2020-06-08T00:00:00+0000          -0.007457      0.035300      -0.200979   \n",
       "3  2020-06-09T00:00:00+0000          -0.005580     -0.007457       0.052713   \n",
       "4  2020-06-10T00:00:00+0000          -0.057649     -0.005580       0.217300   \n",
       "\n",
       "       high       low   close    open      volume    volume_adi  ...  \\\n",
       "0  308.1300  305.1000  308.08  306.55  73635043.0  7.120484e+07  ...   \n",
       "1  313.2200  309.9400  312.18  310.24  91750087.0  1.047719e+08  ...   \n",
       "2  323.4100  319.6300  323.20  320.22  73310274.0  1.699366e+08  ...   \n",
       "3  323.2849  319.3600  320.79  320.30  77174695.0  1.489977e+08  ...   \n",
       "4  322.3900  318.2209  319.00  321.42  93944722.0  9.016477e+07  ...   \n",
       "\n",
       "   momentum_wr  momentum_ao  momentum_kama  momentum_roc  momentum_ppo  \\\n",
       "0          NaN          NaN            NaN           NaN           NaN   \n",
       "1          NaN          NaN            NaN           NaN           NaN   \n",
       "2          NaN          NaN            NaN           NaN           NaN   \n",
       "3          NaN          NaN            NaN           NaN           NaN   \n",
       "4          NaN          NaN            NaN           NaN           NaN   \n",
       "\n",
       "   momentum_ppo_signal  momentum_ppo_hist  others_dr  others_dlr  others_cr  \n",
       "0                  NaN                NaN -10.555622         NaN   0.000000  \n",
       "1                  NaN                NaN   1.330823    1.322046   1.330823  \n",
       "2                  NaN                NaN   3.530015    3.469138   4.907816  \n",
       "3                  NaN                NaN  -0.745668   -0.748462   4.125552  \n",
       "4                  NaN                NaN  -0.557997   -0.559560   3.544534  \n",
       "\n",
       "[5 rows x 92 columns]"
      ]
     },
     "execution_count": 139,
     "metadata": {},
     "output_type": "execute_result"
    }
   ],
   "source": [
    "data.head()"
   ]
  },
  {
   "cell_type": "code",
   "execution_count": null,
   "metadata": {},
   "outputs": [],
   "source": []
  }
 ],
 "metadata": {
  "kernelspec": {
   "display_name": "Python 3",
   "language": "python",
   "name": "python3"
  },
  "language_info": {
   "codemirror_mode": {
    "name": "ipython",
    "version": 3
   },
   "file_extension": ".py",
   "mimetype": "text/x-python",
   "name": "python",
   "nbconvert_exporter": "python",
   "pygments_lexer": "ipython3",
   "version": "3.8.5"
  }
 },
 "nbformat": 4,
 "nbformat_minor": 2
}
