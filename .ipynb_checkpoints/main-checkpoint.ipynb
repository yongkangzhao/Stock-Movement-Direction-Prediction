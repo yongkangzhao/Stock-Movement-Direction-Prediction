{
 "cells": [
  {
   "cell_type": "code",
   "execution_count": 21,
   "metadata": {},
   "outputs": [],
   "source": [
    "#i mport libraries\n",
    "from marketstackAPI import Marketstack\n",
    "import pandas as pd\n",
    "import numpy as np\n",
    "import cufflinks as cf\n",
    "import ta\n",
    "import holidays\n",
    "import matplotlib as plt\n",
    "from datetime import datetime\n",
    "from datetime import timedelta\n",
    "from imblearn.over_sampling import SMOTE\n",
    "from IPython.core.display import display, HTML"
   ]
  },
  {
   "cell_type": "code",
   "execution_count": 22,
   "metadata": {},
   "outputs": [
    {
     "data": {
      "text/html": [
       "<style>.container { width:100% !important; }</style>"
      ],
      "text/plain": [
       "<IPython.core.display.HTML object>"
      ]
     },
     "metadata": {},
     "output_type": "display_data"
    }
   ],
   "source": [
    "# jupyter notebook settings and chart size configs\n",
    "display(HTML(\"<style>.container { width:100% !important; }</style>\"))\n",
    "plt.rcParams['figure.figsize'] = [12, 5]\n",
    "plt.rcParams['figure.dpi'] = 200\n",
    "pd.options.plotting.backend = \"plotly\""
   ]
  },
  {
   "cell_type": "code",
   "execution_count": 23,
   "metadata": {},
   "outputs": [
    {
     "data": {
      "text/html": [
       "        <script type=\"text/javascript\">\n",
       "        window.PlotlyConfig = {MathJaxConfig: 'local'};\n",
       "        if (window.MathJax) {MathJax.Hub.Config({SVG: {font: \"STIX-Web\"}});}\n",
       "        if (typeof require !== 'undefined') {\n",
       "        require.undef(\"plotly\");\n",
       "        requirejs.config({\n",
       "            paths: {\n",
       "                'plotly': ['https://cdn.plot.ly/plotly-latest.min']\n",
       "            }\n",
       "        });\n",
       "        require(['plotly'], function(Plotly) {\n",
       "            window._Plotly = Plotly;\n",
       "        });\n",
       "        }\n",
       "        </script>\n",
       "        "
      ]
     },
     "metadata": {},
     "output_type": "display_data"
    }
   ],
   "source": [
    "# initialize and set parameters\n",
    "MS = Marketstack()\n",
    "cf.set_config_file(theme='henanigans',sharing='public',offline=True)"
   ]
  },
  {
   "cell_type": "code",
   "execution_count": 85,
   "metadata": {},
   "outputs": [],
   "source": [
    "def raw_data_preprocessing(raw_data):\n",
    "    \"\"\"\n",
    "    Clean raw_data by removing extra columns, renaming columns, order by date in descending order, reset index number.\n",
    "    this data format will be used as the standard format for all other feature engineering related function calls.\n",
    "    \n",
    "    Parameters\n",
    "    ----------\n",
    "    raw_data : pandas dataframe that contains ['date','adj_high','adj_low','adj_close','adj_open','adj_volume'] columns, ordered by date in ascending order.\n",
    "    \n",
    "    Return:\n",
    "    ----------\n",
    "    standard_data: pandas dataframe that contains ['date','high','low','close','open','volume'] columns, ordered by date in descending order.\n",
    "    \n",
    "    \"\"\"\n",
    "    data = raw_data[:]\n",
    "    data = data[['date','adj_high','adj_low','adj_close','adj_open','adj_volume']]\n",
    "    data.columns = ['date','high','low','close','open','volume']\n",
    "    data = data[::-1]\n",
    "    data.reset_index(inplace=True, drop=True)\n",
    "    return data"
   ]
  },
  {
   "cell_type": "code",
   "execution_count": 124,
   "metadata": {},
   "outputs": [],
   "source": [
    "def get_ta_indicators(standard_data, prefix = ''):\n",
    "    \"\"\"\n",
    "    Compute technical indicators for every period, each row within standard_data is a period.\n",
    "    \n",
    "    Parameters\n",
    "    ----------\n",
    "    standard_data : pandas dataframe that contains ['date','high','low','close','open','volume'] columns, ordered by date in descending order.\n",
    "    prefix: string that will be concatennated to before all technical indicators names\n",
    "    \n",
    "    Return:\n",
    "    ----------\n",
    "    data: pandas dataframe that contains computed technical indicators with corrsponding name\n",
    "    \n",
    "    \"\"\"\n",
    "    data = standard_data[:]\n",
    "    df = pd.DataFrame()\n",
    "    df.insert(0, prefix+'_stochrsi_14' if prefix else 'stochrsi_14', ta.momentum.stochrsi(close = data.close)/100) # range 0 to 100 rescaled to 0 to 1\n",
    "    df.insert(0, prefix+'_mfi_14' if prefix else 'mfi_14', ta.volume.money_flow_index(high = data.high, low = data.low, close = data.close, volume= data.volume)/100) # range 0 to 100 rescaled to 0 to 1\n",
    "    df.insert(0, prefix+'_adx_14' if prefix else 'adx_14', ta.trend.adx(high = data.high, low = data.low, close = data.close)/100) # range 0 to 100 rescaled to 0 to 1\n",
    "    df.insert(0, prefix+'_adx_neg_14' if prefix else 'adx_neg_14', ta.trend.adx_neg(high = data.high, low = data.low, close = data.close)/100) # range 0 to 100 rescaled to 0 to 1\n",
    "    df.insert(0, prefix+'_adx_pos_14' if prefix else 'adx_pos_14', ta.trend.adx_pos(high = data.high, low = data.low, close = data.close)/100) # range 0 to 100 rescaled to 0 to 1\n",
    "    df.insert(0, prefix+'_aroon_up_25' if prefix else 'aroon_up_25', ta.trend.aroon_up(close = data.close)/100) # range 0 to 100 rescaled to 0 to 1\n",
    "    df.insert(0, prefix+'_aroon_down_25' if prefix else 'aroon_down_25', ta.trend.aroon_down(close = data.close)/100) # range 0 to 100 rescaled to 0 to 1\n",
    "    df.insert(0, prefix+'_aroon_25' if prefix else 'aroon_25', (ta.trend.aroon_up(close = data.close) - ta.trend.aroon_down(close = data.close))/100) # range 0 to 100 rescaled to 0 to 1\n",
    "    \n",
    "    return df"
   ]
  },
  {
   "cell_type": "code",
   "execution_count": 60,
   "metadata": {},
   "outputs": [],
   "source": [
    "def get_percent_changes(standard_data, prefix = ''):\n",
    "    \"\"\"\n",
    "    Compute basic % changes\n",
    "    \n",
    "    Parameters\n",
    "    ----------\n",
    "    standard_data : pandas dataframe that contains ['date','high','low','close','open','volume'] columns, ordered by date in descending order.\n",
    "    prefix: string that will be concatennated to before all technical indicators names\n",
    "    \n",
    "    Return:\n",
    "    ----------\n",
    "    data: pandas dataframe that contains computed % changes indicators with corrsponding name\n",
    "    \n",
    "    \"\"\"\n",
    "    data = standard_data[:]\n",
    "    df = pd.DataFrame()\n",
    "    #add volume % change from yesterday to today\n",
    "    df.insert(0,'volume_change',data.volume/data.volume.shift(1)-1)\n",
    "    #add price % change from yesterday to today\n",
    "    df.insert(0,'price_change',data.close/data.close.shift(1)-1)\n",
    "    return df"
   ]
  },
  {
   "cell_type": "code",
   "execution_count": 75,
   "metadata": {},
   "outputs": [],
   "source": [
    "def get_target_variable(standard_data):\n",
    "    \"\"\"\n",
    "    Compute target variable.\n",
    "    the target variable indicates three classes.\n",
    "    1 : next day is going up significantly\n",
    "    -1: next day is going down significantly\n",
    "    0 : no significant movement for the next day.\n",
    "    \n",
    "    How significant change is defined using more than 1% change at the moment. could be changing to something else.\n",
    "    \n",
    "    \n",
    "    Parameters\n",
    "    ----------\n",
    "    standard_data : pandas dataframe that contains ['date','high','low','close','open','volume'] columns, ordered by date in descending order.\n",
    "    \n",
    "    Return:\n",
    "    ----------\n",
    "    data: pandas dataframe that contains target variable\n",
    "    \n",
    "    \"\"\"\n",
    "    data = standard_data[:]\n",
    "    #creating Y\n",
    "    #calculate daily % change using daily close using the NEXT day close / today close\n",
    "    df = pd.DataFrame()\n",
    "    target = data.close.shift(-1)/data.close-1\n",
    "    target[target > 0.01] = 1\n",
    "    target[target < -0.01] = -1\n",
    "    target[(target < 1) & (target > -1)] = 0\n",
    "    df.insert(0,'target',target)\n",
    "    return df"
   ]
  },
  {
   "cell_type": "code",
   "execution_count": 25,
   "metadata": {},
   "outputs": [],
   "source": [
    "def plot(standard_data):\n",
    "    \"\"\"\n",
    "    Draw interactive candle stick chart OHLC Volume\n",
    "    \n",
    "    Parameters\n",
    "    ----------\n",
    "    standard_data : pandas dataframe that contains ['date','high','low','close','open','volume'] columns.\n",
    "    \n",
    "    \"\"\"\n",
    "    qf = cf.QuantFig(standard_data,legend='bottom')\n",
    "    qf.add_volume()\n",
    "    qf.iplot()"
   ]
  },
  {
   "cell_type": "code",
   "execution_count": 61,
   "metadata": {},
   "outputs": [],
   "source": [
    "def hist(data):\n",
    "    \"\"\"\n",
    "    Draw histogram with 100 bins.\n",
    "    \n",
    "    Parameters\n",
    "    ----------\n",
    "    data : pandas series\n",
    "    \n",
    "    \"\"\"\n",
    "    fig = data.hist()\n",
    "    fig.update_traces(xbins=dict( # bins used for histogram\n",
    "        start=min(data),\n",
    "        end=max(data),\n",
    "        size=(max(data)-min(data))/100\n",
    "    ))\n",
    "    fig.show()"
   ]
  },
  {
   "cell_type": "code",
   "execution_count": 80,
   "metadata": {},
   "outputs": [],
   "source": [
    "# get raw data\n",
    "raw_data = MS.get('NDAQ')"
   ]
  },
  {
   "cell_type": "code",
   "execution_count": 86,
   "metadata": {},
   "outputs": [],
   "source": [
    "# data prep\n",
    "data = raw_data_preprocessing(raw_data)\n",
    "target = get_target_variable(data)"
   ]
  },
  {
   "cell_type": "code",
   "execution_count": 126,
   "metadata": {},
   "outputs": [
    {
     "name": "stderr",
     "output_type": "stream",
     "text": [
      "/home/ubuntu/miniconda3/lib/python3.8/site-packages/ta/trend.py:768: RuntimeWarning:\n",
      "\n",
      "invalid value encountered in double_scalars\n",
      "\n",
      "/home/ubuntu/miniconda3/lib/python3.8/site-packages/ta/trend.py:772: RuntimeWarning:\n",
      "\n",
      "invalid value encountered in double_scalars\n",
      "\n"
     ]
    }
   ],
   "source": [
    "indicators = get_ta_indicators(data, 'daily')"
   ]
  },
  {
   "cell_type": "code",
   "execution_count": 129,
   "metadata": {},
   "outputs": [],
   "source": [
    "full_data = indicators"
   ]
  },
  {
   "cell_type": "code",
   "execution_count": 130,
   "metadata": {},
   "outputs": [
    {
     "data": {
      "text/html": [
       "<div>\n",
       "<style scoped>\n",
       "    .dataframe tbody tr th:only-of-type {\n",
       "        vertical-align: middle;\n",
       "    }\n",
       "\n",
       "    .dataframe tbody tr th {\n",
       "        vertical-align: top;\n",
       "    }\n",
       "\n",
       "    .dataframe thead th {\n",
       "        text-align: right;\n",
       "    }\n",
       "</style>\n",
       "<table border=\"1\" class=\"dataframe\">\n",
       "  <thead>\n",
       "    <tr style=\"text-align: right;\">\n",
       "      <th></th>\n",
       "      <th>daily_aroon_25</th>\n",
       "      <th>daily_aroon_down_25</th>\n",
       "      <th>daily_aroon_up_25</th>\n",
       "      <th>daily_adx_pos_14</th>\n",
       "      <th>daily_adx_neg_14</th>\n",
       "      <th>daily_adx_14</th>\n",
       "      <th>daily_mfi_14</th>\n",
       "      <th>daily_stochrsi_14</th>\n",
       "    </tr>\n",
       "  </thead>\n",
       "  <tbody>\n",
       "    <tr>\n",
       "      <th>2512</th>\n",
       "      <td>0.64</td>\n",
       "      <td>0.04</td>\n",
       "      <td>0.68</td>\n",
       "      <td>0.199109</td>\n",
       "      <td>0.234348</td>\n",
       "      <td>0.263674</td>\n",
       "      <td>0.440764</td>\n",
       "      <td>0.002351</td>\n",
       "    </tr>\n",
       "    <tr>\n",
       "      <th>2513</th>\n",
       "      <td>0.60</td>\n",
       "      <td>0.04</td>\n",
       "      <td>0.64</td>\n",
       "      <td>0.265529</td>\n",
       "      <td>0.212070</td>\n",
       "      <td>0.252835</td>\n",
       "      <td>0.439239</td>\n",
       "      <td>0.004555</td>\n",
       "    </tr>\n",
       "    <tr>\n",
       "      <th>2514</th>\n",
       "      <td>0.56</td>\n",
       "      <td>0.04</td>\n",
       "      <td>0.60</td>\n",
       "      <td>0.253531</td>\n",
       "      <td>0.202487</td>\n",
       "      <td>0.242771</td>\n",
       "      <td>0.419931</td>\n",
       "      <td>0.004430</td>\n",
       "    </tr>\n",
       "    <tr>\n",
       "      <th>2515</th>\n",
       "      <td>0.52</td>\n",
       "      <td>0.04</td>\n",
       "      <td>0.56</td>\n",
       "      <td>0.285683</td>\n",
       "      <td>0.188221</td>\n",
       "      <td>0.240120</td>\n",
       "      <td>0.476818</td>\n",
       "      <td>0.005735</td>\n",
       "    </tr>\n",
       "    <tr>\n",
       "      <th>2516</th>\n",
       "      <td>0.40</td>\n",
       "      <td>0.12</td>\n",
       "      <td>0.52</td>\n",
       "      <td>0.269465</td>\n",
       "      <td>0.185157</td>\n",
       "      <td>0.236215</td>\n",
       "      <td>0.548719</td>\n",
       "      <td>0.004814</td>\n",
       "    </tr>\n",
       "  </tbody>\n",
       "</table>\n",
       "</div>"
      ],
      "text/plain": [
       "      daily_aroon_25  daily_aroon_down_25  daily_aroon_up_25  \\\n",
       "2512            0.64                 0.04               0.68   \n",
       "2513            0.60                 0.04               0.64   \n",
       "2514            0.56                 0.04               0.60   \n",
       "2515            0.52                 0.04               0.56   \n",
       "2516            0.40                 0.12               0.52   \n",
       "\n",
       "      daily_adx_pos_14  daily_adx_neg_14  daily_adx_14  daily_mfi_14  \\\n",
       "2512          0.199109          0.234348      0.263674      0.440764   \n",
       "2513          0.265529          0.212070      0.252835      0.439239   \n",
       "2514          0.253531          0.202487      0.242771      0.419931   \n",
       "2515          0.285683          0.188221      0.240120      0.476818   \n",
       "2516          0.269465          0.185157      0.236215      0.548719   \n",
       "\n",
       "      daily_stochrsi_14  \n",
       "2512           0.002351  \n",
       "2513           0.004555  \n",
       "2514           0.004430  \n",
       "2515           0.005735  \n",
       "2516           0.004814  "
      ]
     },
     "execution_count": 130,
     "metadata": {},
     "output_type": "execute_result"
    }
   ],
   "source": [
    "full_data.tail()"
   ]
  },
  {
   "cell_type": "code",
   "execution_count": null,
   "metadata": {},
   "outputs": [],
   "source": []
  },
  {
   "cell_type": "code",
   "execution_count": null,
   "metadata": {},
   "outputs": [],
   "source": []
  },
  {
   "cell_type": "code",
   "execution_count": null,
   "metadata": {},
   "outputs": [],
   "source": []
  },
  {
   "cell_type": "code",
   "execution_count": null,
   "metadata": {},
   "outputs": [],
   "source": []
  },
  {
   "cell_type": "code",
   "execution_count": null,
   "metadata": {},
   "outputs": [],
   "source": []
  },
  {
   "cell_type": "code",
   "execution_count": null,
   "metadata": {},
   "outputs": [],
   "source": []
  },
  {
   "cell_type": "code",
   "execution_count": null,
   "metadata": {},
   "outputs": [],
   "source": []
  },
  {
   "cell_type": "code",
   "execution_count": null,
   "metadata": {},
   "outputs": [],
   "source": []
  },
  {
   "cell_type": "code",
   "execution_count": null,
   "metadata": {},
   "outputs": [],
   "source": []
  },
  {
   "cell_type": "code",
   "execution_count": null,
   "metadata": {},
   "outputs": [],
   "source": []
  },
  {
   "cell_type": "code",
   "execution_count": null,
   "metadata": {},
   "outputs": [],
   "source": []
  },
  {
   "cell_type": "code",
   "execution_count": null,
   "metadata": {},
   "outputs": [],
   "source": []
  },
  {
   "cell_type": "code",
   "execution_count": null,
   "metadata": {},
   "outputs": [],
   "source": []
  },
  {
   "cell_type": "code",
   "execution_count": null,
   "metadata": {},
   "outputs": [],
   "source": []
  },
  {
   "cell_type": "code",
   "execution_count": null,
   "metadata": {},
   "outputs": [],
   "source": []
  },
  {
   "cell_type": "code",
   "execution_count": null,
   "metadata": {},
   "outputs": [],
   "source": []
  },
  {
   "cell_type": "code",
   "execution_count": null,
   "metadata": {},
   "outputs": [],
   "source": []
  },
  {
   "cell_type": "code",
   "execution_count": null,
   "metadata": {},
   "outputs": [],
   "source": []
  },
  {
   "cell_type": "code",
   "execution_count": null,
   "metadata": {},
   "outputs": [],
   "source": []
  },
  {
   "cell_type": "code",
   "execution_count": 12,
   "metadata": {},
   "outputs": [],
   "source": [
    "# holiday info\n",
    "min_year = int(min(data['date'])[:4])-2\n",
    "max_year = int(max(data['date'])[:4])+2\n",
    "min_date = str(min_year)+'-01-01'\n",
    "max_date = str(max_year)+'-12-31'\n",
    "dates = pd.date_range(min_date,max_date).values\n",
    "holidays = holidays.UnitedStates(years=range(min_year,max_year))"
   ]
  },
  {
   "cell_type": "code",
   "execution_count": null,
   "metadata": {},
   "outputs": [],
   "source": []
  }
 ],
 "metadata": {
  "kernelspec": {
   "display_name": "Python 3",
   "language": "python",
   "name": "python3"
  },
  "language_info": {
   "codemirror_mode": {
    "name": "ipython",
    "version": 3
   },
   "file_extension": ".py",
   "mimetype": "text/x-python",
   "name": "python",
   "nbconvert_exporter": "python",
   "pygments_lexer": "ipython3",
   "version": "3.8.5"
  }
 },
 "nbformat": 4,
 "nbformat_minor": 2
}
